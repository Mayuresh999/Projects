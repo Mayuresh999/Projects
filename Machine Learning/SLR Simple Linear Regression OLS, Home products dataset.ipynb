{
 "cells": [
  {
   "cell_type": "code",
   "execution_count": 1,
   "id": "5642b2b9",
   "metadata": {},
   "outputs": [],
   "source": [
    "import pandas as pd\n",
    "import numpy as np\n",
    "import statsmodels.api as sm"
   ]
  },
  {
   "cell_type": "markdown",
   "id": "83c79340",
   "metadata": {},
   "source": [
    "SLR with OLS"
   ]
  },
  {
   "cell_type": "code",
   "execution_count": 2,
   "id": "6c0f7769",
   "metadata": {},
   "outputs": [
    {
     "data": {
      "text/html": [
       "<div>\n",
       "<style scoped>\n",
       "    .dataframe tbody tr th:only-of-type {\n",
       "        vertical-align: middle;\n",
       "    }\n",
       "\n",
       "    .dataframe tbody tr th {\n",
       "        vertical-align: top;\n",
       "    }\n",
       "\n",
       "    .dataframe thead th {\n",
       "        text-align: right;\n",
       "    }\n",
       "</style>\n",
       "<table border=\"1\" class=\"dataframe\">\n",
       "  <thead>\n",
       "    <tr style=\"text-align: right;\">\n",
       "      <th></th>\n",
       "      <th>S. No.</th>\n",
       "      <th>Advertisement</th>\n",
       "      <th>Sales</th>\n",
       "    </tr>\n",
       "  </thead>\n",
       "  <tbody>\n",
       "    <tr>\n",
       "      <th>0</th>\n",
       "      <td>1</td>\n",
       "      <td>62.00</td>\n",
       "      <td>270.0</td>\n",
       "    </tr>\n",
       "    <tr>\n",
       "      <th>1</th>\n",
       "      <td>2</td>\n",
       "      <td>76.33</td>\n",
       "      <td>200.0</td>\n",
       "    </tr>\n",
       "    <tr>\n",
       "      <th>2</th>\n",
       "      <td>3</td>\n",
       "      <td>72.00</td>\n",
       "      <td>240.0</td>\n",
       "    </tr>\n",
       "    <tr>\n",
       "      <th>3</th>\n",
       "      <td>4</td>\n",
       "      <td>60.00</td>\n",
       "      <td>250.0</td>\n",
       "    </tr>\n",
       "    <tr>\n",
       "      <th>4</th>\n",
       "      <td>5</td>\n",
       "      <td>61.00</td>\n",
       "      <td>180.0</td>\n",
       "    </tr>\n",
       "    <tr>\n",
       "      <th>5</th>\n",
       "      <td>6</td>\n",
       "      <td>55.00</td>\n",
       "      <td>300.0</td>\n",
       "    </tr>\n",
       "    <tr>\n",
       "      <th>6</th>\n",
       "      <td>7</td>\n",
       "      <td>70.00</td>\n",
       "      <td>260.0</td>\n",
       "    </tr>\n",
       "    <tr>\n",
       "      <th>7</th>\n",
       "      <td>8</td>\n",
       "      <td>68.00</td>\n",
       "      <td>235.0</td>\n",
       "    </tr>\n",
       "    <tr>\n",
       "      <th>8</th>\n",
       "      <td>9</td>\n",
       "      <td>82.80</td>\n",
       "      <td>425.0</td>\n",
       "    </tr>\n",
       "    <tr>\n",
       "      <th>9</th>\n",
       "      <td>10</td>\n",
       "      <td>59.00</td>\n",
       "      <td>240.0</td>\n",
       "    </tr>\n",
       "    <tr>\n",
       "      <th>10</th>\n",
       "      <td>11</td>\n",
       "      <td>58.00</td>\n",
       "      <td>250.0</td>\n",
       "    </tr>\n",
       "    <tr>\n",
       "      <th>11</th>\n",
       "      <td>12</td>\n",
       "      <td>60.00</td>\n",
       "      <td>180.0</td>\n",
       "    </tr>\n",
       "    <tr>\n",
       "      <th>12</th>\n",
       "      <td>13</td>\n",
       "      <td>66.00</td>\n",
       "      <td>428.0</td>\n",
       "    </tr>\n",
       "    <tr>\n",
       "      <th>13</th>\n",
       "      <td>14</td>\n",
       "      <td>83.00</td>\n",
       "      <td>450.0</td>\n",
       "    </tr>\n",
       "    <tr>\n",
       "      <th>14</th>\n",
       "      <td>15</td>\n",
       "      <td>68.00</td>\n",
       "      <td>300.0</td>\n",
       "    </tr>\n",
       "    <tr>\n",
       "      <th>15</th>\n",
       "      <td>16</td>\n",
       "      <td>37.33</td>\n",
       "      <td>240.0</td>\n",
       "    </tr>\n",
       "    <tr>\n",
       "      <th>16</th>\n",
       "      <td>17</td>\n",
       "      <td>79.00</td>\n",
       "      <td>252.0</td>\n",
       "    </tr>\n",
       "    <tr>\n",
       "      <th>17</th>\n",
       "      <td>18</td>\n",
       "      <td>68.40</td>\n",
       "      <td>280.0</td>\n",
       "    </tr>\n",
       "    <tr>\n",
       "      <th>18</th>\n",
       "      <td>19</td>\n",
       "      <td>70.00</td>\n",
       "      <td>231.0</td>\n",
       "    </tr>\n",
       "    <tr>\n",
       "      <th>19</th>\n",
       "      <td>20</td>\n",
       "      <td>59.00</td>\n",
       "      <td>224.0</td>\n",
       "    </tr>\n",
       "    <tr>\n",
       "      <th>20</th>\n",
       "      <td>21</td>\n",
       "      <td>63.00</td>\n",
       "      <td>120.0</td>\n",
       "    </tr>\n",
       "    <tr>\n",
       "      <th>21</th>\n",
       "      <td>22</td>\n",
       "      <td>50.00</td>\n",
       "      <td>260.0</td>\n",
       "    </tr>\n",
       "    <tr>\n",
       "      <th>22</th>\n",
       "      <td>23</td>\n",
       "      <td>69.00</td>\n",
       "      <td>300.0</td>\n",
       "    </tr>\n",
       "    <tr>\n",
       "      <th>23</th>\n",
       "      <td>24</td>\n",
       "      <td>52.00</td>\n",
       "      <td>120.0</td>\n",
       "    </tr>\n",
       "    <tr>\n",
       "      <th>24</th>\n",
       "      <td>25</td>\n",
       "      <td>49.00</td>\n",
       "      <td>120.0</td>\n",
       "    </tr>\n",
       "    <tr>\n",
       "      <th>25</th>\n",
       "      <td>26</td>\n",
       "      <td>64.60</td>\n",
       "      <td>250.0</td>\n",
       "    </tr>\n",
       "    <tr>\n",
       "      <th>26</th>\n",
       "      <td>27</td>\n",
       "      <td>50.00</td>\n",
       "      <td>180.0</td>\n",
       "    </tr>\n",
       "    <tr>\n",
       "      <th>27</th>\n",
       "      <td>28</td>\n",
       "      <td>74.00</td>\n",
       "      <td>218.0</td>\n",
       "    </tr>\n",
       "    <tr>\n",
       "      <th>28</th>\n",
       "      <td>29</td>\n",
       "      <td>58.00</td>\n",
       "      <td>360.0</td>\n",
       "    </tr>\n",
       "    <tr>\n",
       "      <th>29</th>\n",
       "      <td>30</td>\n",
       "      <td>67.00</td>\n",
       "      <td>150.0</td>\n",
       "    </tr>\n",
       "    <tr>\n",
       "      <th>30</th>\n",
       "      <td>31</td>\n",
       "      <td>75.00</td>\n",
       "      <td>250.0</td>\n",
       "    </tr>\n",
       "    <tr>\n",
       "      <th>31</th>\n",
       "      <td>32</td>\n",
       "      <td>60.00</td>\n",
       "      <td>200.0</td>\n",
       "    </tr>\n",
       "    <tr>\n",
       "      <th>32</th>\n",
       "      <td>33</td>\n",
       "      <td>55.00</td>\n",
       "      <td>300.0</td>\n",
       "    </tr>\n",
       "    <tr>\n",
       "      <th>33</th>\n",
       "      <td>34</td>\n",
       "      <td>78.00</td>\n",
       "      <td>330.0</td>\n",
       "    </tr>\n",
       "    <tr>\n",
       "      <th>34</th>\n",
       "      <td>35</td>\n",
       "      <td>50.08</td>\n",
       "      <td>265.0</td>\n",
       "    </tr>\n",
       "    <tr>\n",
       "      <th>35</th>\n",
       "      <td>36</td>\n",
       "      <td>56.00</td>\n",
       "      <td>340.0</td>\n",
       "    </tr>\n",
       "    <tr>\n",
       "      <th>36</th>\n",
       "      <td>37</td>\n",
       "      <td>68.00</td>\n",
       "      <td>177.6</td>\n",
       "    </tr>\n",
       "    <tr>\n",
       "      <th>37</th>\n",
       "      <td>38</td>\n",
       "      <td>52.00</td>\n",
       "      <td>236.0</td>\n",
       "    </tr>\n",
       "    <tr>\n",
       "      <th>38</th>\n",
       "      <td>39</td>\n",
       "      <td>54.00</td>\n",
       "      <td>265.0</td>\n",
       "    </tr>\n",
       "    <tr>\n",
       "      <th>39</th>\n",
       "      <td>40</td>\n",
       "      <td>52.00</td>\n",
       "      <td>200.0</td>\n",
       "    </tr>\n",
       "    <tr>\n",
       "      <th>40</th>\n",
       "      <td>41</td>\n",
       "      <td>76.00</td>\n",
       "      <td>393.0</td>\n",
       "    </tr>\n",
       "    <tr>\n",
       "      <th>41</th>\n",
       "      <td>42</td>\n",
       "      <td>64.80</td>\n",
       "      <td>360.0</td>\n",
       "    </tr>\n",
       "    <tr>\n",
       "      <th>42</th>\n",
       "      <td>43</td>\n",
       "      <td>74.40</td>\n",
       "      <td>300.0</td>\n",
       "    </tr>\n",
       "    <tr>\n",
       "      <th>43</th>\n",
       "      <td>44</td>\n",
       "      <td>74.50</td>\n",
       "      <td>250.0</td>\n",
       "    </tr>\n",
       "    <tr>\n",
       "      <th>44</th>\n",
       "      <td>45</td>\n",
       "      <td>73.50</td>\n",
       "      <td>360.0</td>\n",
       "    </tr>\n",
       "    <tr>\n",
       "      <th>45</th>\n",
       "      <td>46</td>\n",
       "      <td>57.58</td>\n",
       "      <td>180.0</td>\n",
       "    </tr>\n",
       "    <tr>\n",
       "      <th>46</th>\n",
       "      <td>47</td>\n",
       "      <td>68.00</td>\n",
       "      <td>180.0</td>\n",
       "    </tr>\n",
       "    <tr>\n",
       "      <th>47</th>\n",
       "      <td>48</td>\n",
       "      <td>69.00</td>\n",
       "      <td>270.0</td>\n",
       "    </tr>\n",
       "    <tr>\n",
       "      <th>48</th>\n",
       "      <td>49</td>\n",
       "      <td>66.00</td>\n",
       "      <td>240.0</td>\n",
       "    </tr>\n",
       "    <tr>\n",
       "      <th>49</th>\n",
       "      <td>50</td>\n",
       "      <td>60.80</td>\n",
       "      <td>300.0</td>\n",
       "    </tr>\n",
       "  </tbody>\n",
       "</table>\n",
       "</div>"
      ],
      "text/plain": [
       "    S. No.  Advertisement  Sales\n",
       "0        1          62.00  270.0\n",
       "1        2          76.33  200.0\n",
       "2        3          72.00  240.0\n",
       "3        4          60.00  250.0\n",
       "4        5          61.00  180.0\n",
       "5        6          55.00  300.0\n",
       "6        7          70.00  260.0\n",
       "7        8          68.00  235.0\n",
       "8        9          82.80  425.0\n",
       "9       10          59.00  240.0\n",
       "10      11          58.00  250.0\n",
       "11      12          60.00  180.0\n",
       "12      13          66.00  428.0\n",
       "13      14          83.00  450.0\n",
       "14      15          68.00  300.0\n",
       "15      16          37.33  240.0\n",
       "16      17          79.00  252.0\n",
       "17      18          68.40  280.0\n",
       "18      19          70.00  231.0\n",
       "19      20          59.00  224.0\n",
       "20      21          63.00  120.0\n",
       "21      22          50.00  260.0\n",
       "22      23          69.00  300.0\n",
       "23      24          52.00  120.0\n",
       "24      25          49.00  120.0\n",
       "25      26          64.60  250.0\n",
       "26      27          50.00  180.0\n",
       "27      28          74.00  218.0\n",
       "28      29          58.00  360.0\n",
       "29      30          67.00  150.0\n",
       "30      31          75.00  250.0\n",
       "31      32          60.00  200.0\n",
       "32      33          55.00  300.0\n",
       "33      34          78.00  330.0\n",
       "34      35          50.08  265.0\n",
       "35      36          56.00  340.0\n",
       "36      37          68.00  177.6\n",
       "37      38          52.00  236.0\n",
       "38      39          54.00  265.0\n",
       "39      40          52.00  200.0\n",
       "40      41          76.00  393.0\n",
       "41      42          64.80  360.0\n",
       "42      43          74.40  300.0\n",
       "43      44          74.50  250.0\n",
       "44      45          73.50  360.0\n",
       "45      46          57.58  180.0\n",
       "46      47          68.00  180.0\n",
       "47      48          69.00  270.0\n",
       "48      49          66.00  240.0\n",
       "49      50          60.80  300.0"
      ]
     },
     "execution_count": 2,
     "metadata": {},
     "output_type": "execute_result"
    }
   ],
   "source": [
    "D=pd.read_csv(\"HomeProducts.csv\")\n",
    "D"
   ]
  },
  {
   "cell_type": "code",
   "execution_count": 3,
   "id": "6652067a",
   "metadata": {},
   "outputs": [
    {
     "data": {
      "text/plain": [
       "array([[ 1.  , 62.  ],\n",
       "       [ 1.  , 76.33],\n",
       "       [ 1.  , 72.  ],\n",
       "       [ 1.  , 60.  ],\n",
       "       [ 1.  , 61.  ],\n",
       "       [ 1.  , 55.  ],\n",
       "       [ 1.  , 70.  ],\n",
       "       [ 1.  , 68.  ],\n",
       "       [ 1.  , 82.8 ],\n",
       "       [ 1.  , 59.  ],\n",
       "       [ 1.  , 58.  ],\n",
       "       [ 1.  , 60.  ],\n",
       "       [ 1.  , 66.  ],\n",
       "       [ 1.  , 83.  ],\n",
       "       [ 1.  , 68.  ],\n",
       "       [ 1.  , 37.33],\n",
       "       [ 1.  , 79.  ],\n",
       "       [ 1.  , 68.4 ],\n",
       "       [ 1.  , 70.  ],\n",
       "       [ 1.  , 59.  ],\n",
       "       [ 1.  , 63.  ],\n",
       "       [ 1.  , 50.  ],\n",
       "       [ 1.  , 69.  ],\n",
       "       [ 1.  , 52.  ],\n",
       "       [ 1.  , 49.  ],\n",
       "       [ 1.  , 64.6 ],\n",
       "       [ 1.  , 50.  ],\n",
       "       [ 1.  , 74.  ],\n",
       "       [ 1.  , 58.  ],\n",
       "       [ 1.  , 67.  ],\n",
       "       [ 1.  , 75.  ],\n",
       "       [ 1.  , 60.  ],\n",
       "       [ 1.  , 55.  ],\n",
       "       [ 1.  , 78.  ],\n",
       "       [ 1.  , 50.08],\n",
       "       [ 1.  , 56.  ],\n",
       "       [ 1.  , 68.  ],\n",
       "       [ 1.  , 52.  ],\n",
       "       [ 1.  , 54.  ],\n",
       "       [ 1.  , 52.  ],\n",
       "       [ 1.  , 76.  ],\n",
       "       [ 1.  , 64.8 ],\n",
       "       [ 1.  , 74.4 ],\n",
       "       [ 1.  , 74.5 ],\n",
       "       [ 1.  , 73.5 ],\n",
       "       [ 1.  , 57.58],\n",
       "       [ 1.  , 68.  ],\n",
       "       [ 1.  , 69.  ],\n",
       "       [ 1.  , 66.  ],\n",
       "       [ 1.  , 60.8 ]])"
      ]
     },
     "execution_count": 3,
     "metadata": {},
     "output_type": "execute_result"
    }
   ],
   "source": [
    "X=sm.add_constant(D['Advertisement']).values\n",
    "X\n",
    "# ols does not provide beta constant(intercept)\n",
    "# add const adds a column with value as one(1) "
   ]
  },
  {
   "cell_type": "code",
   "execution_count": 4,
   "id": "ff99e317",
   "metadata": {},
   "outputs": [
    {
     "data": {
      "text/plain": [
       "array([270. , 200. , 240. , 250. , 180. , 300. , 260. , 235. , 425. ,\n",
       "       240. , 250. , 180. , 428. , 450. , 300. , 240. , 252. , 280. ,\n",
       "       231. , 224. , 120. , 260. , 300. , 120. , 120. , 250. , 180. ,\n",
       "       218. , 360. , 150. , 250. , 200. , 300. , 330. , 265. , 340. ,\n",
       "       177.6, 236. , 265. , 200. , 393. , 360. , 300. , 250. , 360. ,\n",
       "       180. , 180. , 270. , 240. , 300. ])"
      ]
     },
     "execution_count": 4,
     "metadata": {},
     "output_type": "execute_result"
    }
   ],
   "source": [
    "Y=D['Sales'].values\n",
    "Y"
   ]
  },
  {
   "cell_type": "code",
   "execution_count": 5,
   "id": "adeeff15",
   "metadata": {},
   "outputs": [],
   "source": [
    "model=sm.OLS(Y,X).fit()"
   ]
  },
  {
   "cell_type": "code",
   "execution_count": 6,
   "id": "52bc7e42",
   "metadata": {},
   "outputs": [
    {
     "data": {
      "text/plain": [
       "array([61.55535534,  3.07617744])"
      ]
     },
     "execution_count": 6,
     "metadata": {},
     "output_type": "execute_result"
    }
   ],
   "source": [
    "model.params"
   ]
  },
  {
   "cell_type": "code",
   "execution_count": 7,
   "id": "006011e2",
   "metadata": {},
   "outputs": [
    {
     "data": {
      "text/html": [
       "<table class=\"simpletable\">\n",
       "<tr>\n",
       "        <td>Model:</td>               <td>OLS</td>         <td>Adj. R-squared:</td>     <td>0.139</td> \n",
       "</tr>\n",
       "<tr>\n",
       "  <td>Dependent Variable:</td>         <td>y</td>               <td>AIC:</td>         <td>570.3957</td>\n",
       "</tr>\n",
       "<tr>\n",
       "         <td>Date:</td>        <td>2022-02-16 20:16</td>        <td>BIC:</td>         <td>574.2197</td>\n",
       "</tr>\n",
       "<tr>\n",
       "   <td>No. Observations:</td>         <td>50</td>          <td>Log-Likelihood:</td>    <td>-283.20</td>\n",
       "</tr>\n",
       "<tr>\n",
       "       <td>Df Model:</td>              <td>1</td>           <td>F-statistic:</td>       <td>8.893</td> \n",
       "</tr>\n",
       "<tr>\n",
       "     <td>Df Residuals:</td>           <td>48</td>        <td>Prob (F-statistic):</td>  <td>0.00449</td>\n",
       "</tr>\n",
       "<tr>\n",
       "      <td>R-squared:</td>            <td>0.156</td>            <td>Scale:</td>         <td>5068.8</td> \n",
       "</tr>\n",
       "</table>\n",
       "<table class=\"simpletable\">\n",
       "<tr>\n",
       "    <td></td>     <th>Coef.</th>  <th>Std.Err.</th>    <th>t</th>    <th>P>|t|</th>  <th>[0.025</th>   <th>0.975]</th> \n",
       "</tr>\n",
       "<tr>\n",
       "  <th>const</th> <td>61.5554</td>  <td>66.7019</td> <td>0.9228</td> <td>0.3607</td> <td>-72.5578</td> <td>195.6685</td>\n",
       "</tr>\n",
       "<tr>\n",
       "  <th>x1</th>    <td>3.0762</td>   <td>1.0315</td>  <td>2.9822</td> <td>0.0045</td>  <td>1.0022</td>   <td>5.1502</td> \n",
       "</tr>\n",
       "</table>\n",
       "<table class=\"simpletable\">\n",
       "<tr>\n",
       "     <td>Omnibus:</td>    <td>1.393</td>  <td>Durbin-Watson:</td>   <td>2.012</td>\n",
       "</tr>\n",
       "<tr>\n",
       "  <td>Prob(Omnibus):</td> <td>0.498</td> <td>Jarque-Bera (JB):</td> <td>1.291</td>\n",
       "</tr>\n",
       "<tr>\n",
       "       <td>Skew:</td>     <td>0.256</td>     <td>Prob(JB):</td>     <td>0.524</td>\n",
       "</tr>\n",
       "<tr>\n",
       "     <td>Kurtosis:</td>   <td>2.403</td>  <td>Condition No.:</td>    <td>428</td> \n",
       "</tr>\n",
       "</table>"
      ],
      "text/plain": [
       "<class 'statsmodels.iolib.summary2.Summary'>\n",
       "\"\"\"\n",
       "                 Results: Ordinary least squares\n",
       "=================================================================\n",
       "Model:              OLS              Adj. R-squared:     0.139   \n",
       "Dependent Variable: y                AIC:                570.3957\n",
       "Date:               2022-02-16 20:16 BIC:                574.2197\n",
       "No. Observations:   50               Log-Likelihood:     -283.20 \n",
       "Df Model:           1                F-statistic:        8.893   \n",
       "Df Residuals:       48               Prob (F-statistic): 0.00449 \n",
       "R-squared:          0.156            Scale:              5068.8  \n",
       "-------------------------------------------------------------------\n",
       "          Coef.    Std.Err.     t      P>|t|     [0.025     0.975] \n",
       "-------------------------------------------------------------------\n",
       "const    61.5554    66.7019   0.9228   0.3607   -72.5578   195.6685\n",
       "x1        3.0762     1.0315   2.9822   0.0045     1.0022     5.1502\n",
       "-----------------------------------------------------------------\n",
       "Omnibus:              1.393        Durbin-Watson:           2.012\n",
       "Prob(Omnibus):        0.498        Jarque-Bera (JB):        1.291\n",
       "Skew:                 0.256        Prob(JB):                0.524\n",
       "Kurtosis:             2.403        Condition No.:           428  \n",
       "=================================================================\n",
       "\n",
       "\"\"\""
      ]
     },
     "execution_count": 7,
     "metadata": {},
     "output_type": "execute_result"
    }
   ],
   "source": [
    "model.summary2()"
   ]
  },
  {
   "cell_type": "code",
   "execution_count": 8,
   "id": "0455d762",
   "metadata": {},
   "outputs": [
    {
     "data": {
      "text/html": [
       "<table class=\"simpletable\">\n",
       "<caption>OLS Regression Results</caption>\n",
       "<tr>\n",
       "  <th>Dep. Variable:</th>            <td>y</td>        <th>  R-squared:         </th> <td>   0.156</td>\n",
       "</tr>\n",
       "<tr>\n",
       "  <th>Model:</th>                   <td>OLS</td>       <th>  Adj. R-squared:    </th> <td>   0.139</td>\n",
       "</tr>\n",
       "<tr>\n",
       "  <th>Method:</th>             <td>Least Squares</td>  <th>  F-statistic:       </th> <td>   8.893</td>\n",
       "</tr>\n",
       "<tr>\n",
       "  <th>Date:</th>             <td>Wed, 16 Feb 2022</td> <th>  Prob (F-statistic):</th>  <td>0.00449</td>\n",
       "</tr>\n",
       "<tr>\n",
       "  <th>Time:</th>                 <td>20:16:56</td>     <th>  Log-Likelihood:    </th> <td> -283.20</td>\n",
       "</tr>\n",
       "<tr>\n",
       "  <th>No. Observations:</th>      <td>    50</td>      <th>  AIC:               </th> <td>   570.4</td>\n",
       "</tr>\n",
       "<tr>\n",
       "  <th>Df Residuals:</th>          <td>    48</td>      <th>  BIC:               </th> <td>   574.2</td>\n",
       "</tr>\n",
       "<tr>\n",
       "  <th>Df Model:</th>              <td>     1</td>      <th>                     </th>     <td> </td>   \n",
       "</tr>\n",
       "<tr>\n",
       "  <th>Covariance Type:</th>      <td>nonrobust</td>    <th>                     </th>     <td> </td>   \n",
       "</tr>\n",
       "</table>\n",
       "<table class=\"simpletable\">\n",
       "<tr>\n",
       "    <td></td>       <th>coef</th>     <th>std err</th>      <th>t</th>      <th>P>|t|</th>  <th>[0.025</th>    <th>0.975]</th>  \n",
       "</tr>\n",
       "<tr>\n",
       "  <th>const</th> <td>   61.5554</td> <td>   66.702</td> <td>    0.923</td> <td> 0.361</td> <td>  -72.558</td> <td>  195.669</td>\n",
       "</tr>\n",
       "<tr>\n",
       "  <th>x1</th>    <td>    3.0762</td> <td>    1.032</td> <td>    2.982</td> <td> 0.004</td> <td>    1.002</td> <td>    5.150</td>\n",
       "</tr>\n",
       "</table>\n",
       "<table class=\"simpletable\">\n",
       "<tr>\n",
       "  <th>Omnibus:</th>       <td> 1.393</td> <th>  Durbin-Watson:     </th> <td>   2.012</td>\n",
       "</tr>\n",
       "<tr>\n",
       "  <th>Prob(Omnibus):</th> <td> 0.498</td> <th>  Jarque-Bera (JB):  </th> <td>   1.291</td>\n",
       "</tr>\n",
       "<tr>\n",
       "  <th>Skew:</th>          <td> 0.256</td> <th>  Prob(JB):          </th> <td>   0.524</td>\n",
       "</tr>\n",
       "<tr>\n",
       "  <th>Kurtosis:</th>      <td> 2.403</td> <th>  Cond. No.          </th> <td>    428.</td>\n",
       "</tr>\n",
       "</table><br/><br/>Notes:<br/>[1] Standard Errors assume that the covariance matrix of the errors is correctly specified."
      ],
      "text/plain": [
       "<class 'statsmodels.iolib.summary.Summary'>\n",
       "\"\"\"\n",
       "                            OLS Regression Results                            \n",
       "==============================================================================\n",
       "Dep. Variable:                      y   R-squared:                       0.156\n",
       "Model:                            OLS   Adj. R-squared:                  0.139\n",
       "Method:                 Least Squares   F-statistic:                     8.893\n",
       "Date:                Wed, 16 Feb 2022   Prob (F-statistic):            0.00449\n",
       "Time:                        20:16:56   Log-Likelihood:                -283.20\n",
       "No. Observations:                  50   AIC:                             570.4\n",
       "Df Residuals:                      48   BIC:                             574.2\n",
       "Df Model:                           1                                         \n",
       "Covariance Type:            nonrobust                                         \n",
       "==============================================================================\n",
       "                 coef    std err          t      P>|t|      [0.025      0.975]\n",
       "------------------------------------------------------------------------------\n",
       "const         61.5554     66.702      0.923      0.361     -72.558     195.669\n",
       "x1             3.0762      1.032      2.982      0.004       1.002       5.150\n",
       "==============================================================================\n",
       "Omnibus:                        1.393   Durbin-Watson:                   2.012\n",
       "Prob(Omnibus):                  0.498   Jarque-Bera (JB):                1.291\n",
       "Skew:                           0.256   Prob(JB):                        0.524\n",
       "Kurtosis:                       2.403   Cond. No.                         428.\n",
       "==============================================================================\n",
       "\n",
       "Notes:\n",
       "[1] Standard Errors assume that the covariance matrix of the errors is correctly specified.\n",
       "\"\"\""
      ]
     },
     "execution_count": 8,
     "metadata": {},
     "output_type": "execute_result"
    }
   ],
   "source": [
    "model.summary()"
   ]
  },
  {
   "cell_type": "code",
   "execution_count": 9,
   "id": "12295c43",
   "metadata": {},
   "outputs": [
    {
     "data": {
      "text/plain": [
       "array([252.27835649, 296.35997918, 283.04013087, 246.12600162,\n",
       "       249.20217906, 230.74511443, 276.887776  , 270.73542112,\n",
       "       316.2628472 , 243.04982418, 239.97364674, 246.12600162,\n",
       "       264.58306625, 316.87808269, 270.73542112, 176.3890591 ,\n",
       "       304.57337294, 271.9658921 , 276.887776  , 243.04982418,\n",
       "       255.35453393, 215.36422724, 273.81159856, 221.51658211,\n",
       "       212.2880498 , 260.27641783, 215.36422724, 289.19248575,\n",
       "       239.97364674, 267.65924368, 292.26866319, 246.12600162,\n",
       "       230.74511443, 301.4971955 , 215.61032143, 233.82129187,\n",
       "       270.73542112, 221.51658211, 227.66893699, 221.51658211,\n",
       "       295.34484062, 260.89165332, 290.42295672, 290.73057447,\n",
       "       287.65439703, 238.68165222, 270.73542112, 273.81159856,\n",
       "       264.58306625, 248.58694357])"
      ]
     },
     "execution_count": 9,
     "metadata": {},
     "output_type": "execute_result"
    }
   ],
   "source": [
    "pred_y = model.predict(X)\n",
    "pred_y\n",
    "#pred_y = Y_hat"
   ]
  },
  {
   "cell_type": "markdown",
   "id": "5d8720df",
   "metadata": {},
   "source": [
    "only r sqr with sklearn library"
   ]
  },
  {
   "cell_type": "code",
   "execution_count": 10,
   "id": "b951a48d",
   "metadata": {},
   "outputs": [
    {
     "data": {
      "text/plain": [
       "0.15631530754337553"
      ]
     },
     "execution_count": 10,
     "metadata": {},
     "output_type": "execute_result"
    }
   ],
   "source": [
    "from sklearn.metrics import r2_score\n",
    "np.abs(r2_score(Y, pred_y))"
   ]
  },
  {
   "cell_type": "markdown",
   "id": "ef2b3d3c",
   "metadata": {},
   "source": [
    "same thing but with sklearn library"
   ]
  },
  {
   "cell_type": "code",
   "execution_count": 11,
   "id": "420e4a6f",
   "metadata": {},
   "outputs": [
    {
     "data": {
      "text/html": [
       "<div>\n",
       "<style scoped>\n",
       "    .dataframe tbody tr th:only-of-type {\n",
       "        vertical-align: middle;\n",
       "    }\n",
       "\n",
       "    .dataframe tbody tr th {\n",
       "        vertical-align: top;\n",
       "    }\n",
       "\n",
       "    .dataframe thead th {\n",
       "        text-align: right;\n",
       "    }\n",
       "</style>\n",
       "<table border=\"1\" class=\"dataframe\">\n",
       "  <thead>\n",
       "    <tr style=\"text-align: right;\">\n",
       "      <th></th>\n",
       "      <th>S. No.</th>\n",
       "      <th>Advertisement</th>\n",
       "      <th>Sales</th>\n",
       "    </tr>\n",
       "  </thead>\n",
       "  <tbody>\n",
       "    <tr>\n",
       "      <th>0</th>\n",
       "      <td>1</td>\n",
       "      <td>62.00</td>\n",
       "      <td>270.0</td>\n",
       "    </tr>\n",
       "    <tr>\n",
       "      <th>1</th>\n",
       "      <td>2</td>\n",
       "      <td>76.33</td>\n",
       "      <td>200.0</td>\n",
       "    </tr>\n",
       "    <tr>\n",
       "      <th>2</th>\n",
       "      <td>3</td>\n",
       "      <td>72.00</td>\n",
       "      <td>240.0</td>\n",
       "    </tr>\n",
       "    <tr>\n",
       "      <th>3</th>\n",
       "      <td>4</td>\n",
       "      <td>60.00</td>\n",
       "      <td>250.0</td>\n",
       "    </tr>\n",
       "    <tr>\n",
       "      <th>4</th>\n",
       "      <td>5</td>\n",
       "      <td>61.00</td>\n",
       "      <td>180.0</td>\n",
       "    </tr>\n",
       "  </tbody>\n",
       "</table>\n",
       "</div>"
      ],
      "text/plain": [
       "   S. No.  Advertisement  Sales\n",
       "0       1          62.00  270.0\n",
       "1       2          76.33  200.0\n",
       "2       3          72.00  240.0\n",
       "3       4          60.00  250.0\n",
       "4       5          61.00  180.0"
      ]
     },
     "execution_count": 11,
     "metadata": {},
     "output_type": "execute_result"
    }
   ],
   "source": [
    "data = D\n",
    "data.head(5)"
   ]
  },
  {
   "cell_type": "code",
   "execution_count": 12,
   "id": "2b63f47d",
   "metadata": {},
   "outputs": [
    {
     "name": "stdout",
     "output_type": "stream",
     "text": [
      "<class 'pandas.core.frame.DataFrame'>\n",
      "RangeIndex: 50 entries, 0 to 49\n",
      "Data columns (total 3 columns):\n",
      " #   Column         Non-Null Count  Dtype  \n",
      "---  ------         --------------  -----  \n",
      " 0   S. No.         50 non-null     int64  \n",
      " 1   Advertisement  50 non-null     float64\n",
      " 2   Sales          50 non-null     float64\n",
      "dtypes: float64(2), int64(1)\n",
      "memory usage: 1.3 KB\n"
     ]
    }
   ],
   "source": [
    "data.info()"
   ]
  },
  {
   "cell_type": "code",
   "execution_count": 13,
   "id": "4434190c",
   "metadata": {},
   "outputs": [
    {
     "data": {
      "text/html": [
       "<div>\n",
       "<style scoped>\n",
       "    .dataframe tbody tr th:only-of-type {\n",
       "        vertical-align: middle;\n",
       "    }\n",
       "\n",
       "    .dataframe tbody tr th {\n",
       "        vertical-align: top;\n",
       "    }\n",
       "\n",
       "    .dataframe thead th {\n",
       "        text-align: right;\n",
       "    }\n",
       "</style>\n",
       "<table border=\"1\" class=\"dataframe\">\n",
       "  <thead>\n",
       "    <tr style=\"text-align: right;\">\n",
       "      <th></th>\n",
       "      <th>const</th>\n",
       "      <th>Advertisement</th>\n",
       "    </tr>\n",
       "  </thead>\n",
       "  <tbody>\n",
       "    <tr>\n",
       "      <th>0</th>\n",
       "      <td>1.0</td>\n",
       "      <td>62.00</td>\n",
       "    </tr>\n",
       "    <tr>\n",
       "      <th>1</th>\n",
       "      <td>1.0</td>\n",
       "      <td>76.33</td>\n",
       "    </tr>\n",
       "    <tr>\n",
       "      <th>2</th>\n",
       "      <td>1.0</td>\n",
       "      <td>72.00</td>\n",
       "    </tr>\n",
       "    <tr>\n",
       "      <th>3</th>\n",
       "      <td>1.0</td>\n",
       "      <td>60.00</td>\n",
       "    </tr>\n",
       "    <tr>\n",
       "      <th>4</th>\n",
       "      <td>1.0</td>\n",
       "      <td>61.00</td>\n",
       "    </tr>\n",
       "  </tbody>\n",
       "</table>\n",
       "</div>"
      ],
      "text/plain": [
       "   const  Advertisement\n",
       "0    1.0          62.00\n",
       "1    1.0          76.33\n",
       "2    1.0          72.00\n",
       "3    1.0          60.00\n",
       "4    1.0          61.00"
      ]
     },
     "execution_count": 13,
     "metadata": {},
     "output_type": "execute_result"
    }
   ],
   "source": [
    "x = sm.add_constant(data['Advertisement'])\n",
    "x.head(5)"
   ]
  },
  {
   "cell_type": "code",
   "execution_count": 14,
   "id": "2ee9497b",
   "metadata": {},
   "outputs": [
    {
     "data": {
      "text/plain": [
       "0    270.0\n",
       "1    200.0\n",
       "2    240.0\n",
       "3    250.0\n",
       "4    180.0\n",
       "Name: Sales, dtype: float64"
      ]
     },
     "execution_count": 14,
     "metadata": {},
     "output_type": "execute_result"
    }
   ],
   "source": [
    "y = data['Sales']\n",
    "y.head(5)"
   ]
  },
  {
   "cell_type": "code",
   "execution_count": 15,
   "id": "658e4d68",
   "metadata": {},
   "outputs": [],
   "source": [
    "from sklearn.model_selection import train_test_split"
   ]
  },
  {
   "cell_type": "code",
   "execution_count": 16,
   "id": "746425d4",
   "metadata": {},
   "outputs": [],
   "source": [
    "train_x , test_x, train_y, test_y = train_test_split(x,y,train_size=0.8,random_state=101)"
   ]
  },
  {
   "cell_type": "code",
   "execution_count": 17,
   "id": "ec6001e3",
   "metadata": {},
   "outputs": [],
   "source": [
    "model1 = sm.OLS(train_y, train_x).fit()"
   ]
  },
  {
   "cell_type": "code",
   "execution_count": 18,
   "id": "d662bbe9",
   "metadata": {},
   "outputs": [
    {
     "name": "stdout",
     "output_type": "stream",
     "text": [
      "const            26.216370\n",
      "Advertisement     3.640221\n",
      "dtype: float64\n"
     ]
    }
   ],
   "source": [
    "print(model1.params)   #params gives B0, B1"
   ]
  },
  {
   "cell_type": "code",
   "execution_count": 19,
   "id": "9cd6f9bf",
   "metadata": {},
   "outputs": [
    {
     "data": {
      "text/html": [
       "<table class=\"simpletable\">\n",
       "<caption>OLS Regression Results</caption>\n",
       "<tr>\n",
       "  <th>Dep. Variable:</th>          <td>Sales</td>      <th>  R-squared:         </th> <td>   0.190</td>\n",
       "</tr>\n",
       "<tr>\n",
       "  <th>Model:</th>                   <td>OLS</td>       <th>  Adj. R-squared:    </th> <td>   0.169</td>\n",
       "</tr>\n",
       "<tr>\n",
       "  <th>Method:</th>             <td>Least Squares</td>  <th>  F-statistic:       </th> <td>   8.925</td>\n",
       "</tr>\n",
       "<tr>\n",
       "  <th>Date:</th>             <td>Wed, 16 Feb 2022</td> <th>  Prob (F-statistic):</th>  <td>0.00491</td>\n",
       "</tr>\n",
       "<tr>\n",
       "  <th>Time:</th>                 <td>20:16:57</td>     <th>  Log-Likelihood:    </th> <td> -228.52</td>\n",
       "</tr>\n",
       "<tr>\n",
       "  <th>No. Observations:</th>      <td>    40</td>      <th>  AIC:               </th> <td>   461.0</td>\n",
       "</tr>\n",
       "<tr>\n",
       "  <th>Df Residuals:</th>          <td>    38</td>      <th>  BIC:               </th> <td>   464.4</td>\n",
       "</tr>\n",
       "<tr>\n",
       "  <th>Df Model:</th>              <td>     1</td>      <th>                     </th>     <td> </td>   \n",
       "</tr>\n",
       "<tr>\n",
       "  <th>Covariance Type:</th>      <td>nonrobust</td>    <th>                     </th>     <td> </td>   \n",
       "</tr>\n",
       "</table>\n",
       "<table class=\"simpletable\">\n",
       "<tr>\n",
       "        <td></td>           <th>coef</th>     <th>std err</th>      <th>t</th>      <th>P>|t|</th>  <th>[0.025</th>    <th>0.975]</th>  \n",
       "</tr>\n",
       "<tr>\n",
       "  <th>const</th>         <td>   26.2164</td> <td>   79.018</td> <td>    0.332</td> <td> 0.742</td> <td> -133.747</td> <td>  186.180</td>\n",
       "</tr>\n",
       "<tr>\n",
       "  <th>Advertisement</th> <td>    3.6402</td> <td>    1.219</td> <td>    2.987</td> <td> 0.005</td> <td>    1.173</td> <td>    6.107</td>\n",
       "</tr>\n",
       "</table>\n",
       "<table class=\"simpletable\">\n",
       "<tr>\n",
       "  <th>Omnibus:</th>       <td> 2.389</td> <th>  Durbin-Watson:     </th> <td>   1.795</td>\n",
       "</tr>\n",
       "<tr>\n",
       "  <th>Prob(Omnibus):</th> <td> 0.303</td> <th>  Jarque-Bera (JB):  </th> <td>   1.681</td>\n",
       "</tr>\n",
       "<tr>\n",
       "  <th>Skew:</th>          <td> 0.296</td> <th>  Prob(JB):          </th> <td>   0.432</td>\n",
       "</tr>\n",
       "<tr>\n",
       "  <th>Kurtosis:</th>      <td> 2.189</td> <th>  Cond. No.          </th> <td>    431.</td>\n",
       "</tr>\n",
       "</table><br/><br/>Notes:<br/>[1] Standard Errors assume that the covariance matrix of the errors is correctly specified."
      ],
      "text/plain": [
       "<class 'statsmodels.iolib.summary.Summary'>\n",
       "\"\"\"\n",
       "                            OLS Regression Results                            \n",
       "==============================================================================\n",
       "Dep. Variable:                  Sales   R-squared:                       0.190\n",
       "Model:                            OLS   Adj. R-squared:                  0.169\n",
       "Method:                 Least Squares   F-statistic:                     8.925\n",
       "Date:                Wed, 16 Feb 2022   Prob (F-statistic):            0.00491\n",
       "Time:                        20:16:57   Log-Likelihood:                -228.52\n",
       "No. Observations:                  40   AIC:                             461.0\n",
       "Df Residuals:                      38   BIC:                             464.4\n",
       "Df Model:                           1                                         \n",
       "Covariance Type:            nonrobust                                         \n",
       "=================================================================================\n",
       "                    coef    std err          t      P>|t|      [0.025      0.975]\n",
       "---------------------------------------------------------------------------------\n",
       "const            26.2164     79.018      0.332      0.742    -133.747     186.180\n",
       "Advertisement     3.6402      1.219      2.987      0.005       1.173       6.107\n",
       "==============================================================================\n",
       "Omnibus:                        2.389   Durbin-Watson:                   1.795\n",
       "Prob(Omnibus):                  0.303   Jarque-Bera (JB):                1.681\n",
       "Skew:                           0.296   Prob(JB):                        0.432\n",
       "Kurtosis:                       2.189   Cond. No.                         431.\n",
       "==============================================================================\n",
       "\n",
       "Notes:\n",
       "[1] Standard Errors assume that the covariance matrix of the errors is correctly specified.\n",
       "\"\"\""
      ]
     },
     "execution_count": 19,
     "metadata": {},
     "output_type": "execute_result"
    }
   ],
   "source": [
    "model1.summary()"
   ]
  },
  {
   "cell_type": "code",
   "execution_count": 20,
   "id": "f88a9cde",
   "metadata": {},
   "outputs": [
    {
     "data": {
      "text/plain": [
       "37    215.507839\n",
       "14    273.751368\n",
       "21    208.227398\n",
       "32    226.428501\n",
       "22    277.391589\n",
       "1     304.074405\n",
       "26    208.227398\n",
       "46    273.751368\n",
       "42    297.048780\n",
       "47    277.391589\n",
       "dtype: float64"
      ]
     },
     "execution_count": 20,
     "metadata": {},
     "output_type": "execute_result"
    }
   ],
   "source": [
    "predY = model1.predict(test_x)\n",
    "predY"
   ]
  },
  {
   "cell_type": "markdown",
   "id": "1ccbcd99",
   "metadata": {},
   "source": [
    "importing sk learn for r sqr and MSE"
   ]
  },
  {
   "cell_type": "code",
   "execution_count": 21,
   "id": "55ce1fb1",
   "metadata": {},
   "outputs": [],
   "source": [
    "from sklearn.metrics import r2_score, mean_squared_error"
   ]
  },
  {
   "cell_type": "code",
   "execution_count": 22,
   "id": "69b43941",
   "metadata": {},
   "outputs": [
    {
     "data": {
      "text/plain": [
       "0.3168890782271627"
      ]
     },
     "execution_count": 22,
     "metadata": {},
     "output_type": "execute_result"
    }
   ],
   "source": [
    "np.abs(r2_score(test_y , predY))"
   ]
  },
  {
   "cell_type": "code",
   "execution_count": 23,
   "id": "a1372662",
   "metadata": {},
   "outputs": [
    {
     "data": {
      "text/plain": [
       "54.9492124977453"
      ]
     },
     "execution_count": 23,
     "metadata": {},
     "output_type": "execute_result"
    }
   ],
   "source": [
    "np.sqrt(mean_squared_error(test_y, predY))"
   ]
  },
  {
   "cell_type": "markdown",
   "id": "4bcca1a0",
   "metadata": {},
   "source": [
    "predicting single observation"
   ]
  },
  {
   "cell_type": "code",
   "execution_count": 24,
   "id": "9b14ab9b",
   "metadata": {},
   "outputs": [
    {
     "data": {
      "text/plain": [
       "array([244.62960356])"
      ]
     },
     "execution_count": 24,
     "metadata": {},
     "output_type": "execute_result"
    }
   ],
   "source": [
    "Xnew = [1, 60]\n",
    "\n",
    "PredY=model1.predict(Xnew)\n",
    "PredY"
   ]
  },
  {
   "cell_type": "code",
   "execution_count": null,
   "id": "b29dab12",
   "metadata": {},
   "outputs": [],
   "source": []
  },
  {
   "cell_type": "code",
   "execution_count": null,
   "id": "7eed547f",
   "metadata": {},
   "outputs": [],
   "source": []
  },
  {
   "cell_type": "markdown",
   "id": "14585dcc",
   "metadata": {},
   "source": [
    "wrong !"
   ]
  },
  {
   "cell_type": "code",
   "execution_count": 25,
   "id": "3d51bf68",
   "metadata": {},
   "outputs": [],
   "source": [
    "import matplotlib.pyplot as plt"
   ]
  },
  {
   "cell_type": "code",
   "execution_count": 26,
   "id": "6489fa41",
   "metadata": {},
   "outputs": [
    {
     "data": {
      "text/plain": [
       "array([  17.72164351,  -96.35997918,  -43.04013087,    3.87399838,\n",
       "        -69.20217906,   69.25488557,  -16.887776  ,  -35.73542112,\n",
       "        108.7371528 ,   -3.04982418,   10.02635326,  -66.12600162,\n",
       "        163.41693375,  133.12191731,   29.26457888,   63.6109409 ,\n",
       "        -52.57337294,    8.0341079 ,  -45.887776  ,  -19.04982418,\n",
       "       -135.35453393,   44.63577276,   26.18840144, -101.51658211,\n",
       "        -92.2880498 ,  -10.27641783,  -35.36422724,  -71.19248575,\n",
       "        120.02635326, -117.65924368,  -42.26866319,  -46.12600162,\n",
       "         69.25488557,   28.5028045 ,   49.38967857,  106.17870813,\n",
       "        -93.13542112,   14.48341789,   37.33106301,  -21.51658211,\n",
       "         97.65515938,   99.10834668,    9.57704328,  -40.73057447,\n",
       "         72.34560297,  -58.68165222,  -90.73542112,   -3.81159856,\n",
       "        -24.58306625,   51.41305643])"
      ]
     },
     "execution_count": 26,
     "metadata": {},
     "output_type": "execute_result"
    }
   ],
   "source": [
    "saleresid = model.resid\n",
    "saleresid\n"
   ]
  },
  {
   "cell_type": "code",
   "execution_count": 27,
   "id": "d2516cf2",
   "metadata": {},
   "outputs": [
    {
     "data": {
      "text/plain": [
       "<Figure size 576x1152 with 0 Axes>"
      ]
     },
     "metadata": {},
     "output_type": "display_data"
    },
    {
     "data": {
      "image/png": "[encoded data removed]",
      "text/plain": [
       "<Figure size 432x288 with 1 Axes>"
      ]
     },
     "metadata": {
      "needs_background": "light"
     },
     "output_type": "display_data"
    }
   ],
   "source": [
    "probplot = sm.ProbPlot(saleresid)\n",
    "plt.figure(figsize = (8,16))\n",
    "probplot.ppplot(line='45')\n",
    "plt.title('normal P-P plot of regression standardeized residuals')\n",
    "plt.show()"
   ]
  },
  {
   "cell_type": "code",
   "execution_count": null,
   "id": "2405df78",
   "metadata": {},
   "outputs": [],
   "source": []
  }
 ],
 "metadata": {
  "kernelspec": {
   "display_name": "Python 3",
   "language": "python",
   "name": "python3"
  },
  "language_info": {
   "codemirror_mode": {
    "name": "ipython",
    "version": 3
   },
   "file_extension": ".py",
   "mimetype": "text/x-python",
   "name": "python",
   "nbconvert_exporter": "python",
   "pygments_lexer": "ipython3",
   "version": "3.8.8"
  }
 },
 "nbformat": 4,
 "nbformat_minor": 5
}

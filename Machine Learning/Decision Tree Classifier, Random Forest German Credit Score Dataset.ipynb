{
 "cells": [
  {
   "cell_type": "code",
   "execution_count": 1,
   "id": "fda85411",
   "metadata": {},
   "outputs": [],
   "source": [
    "import pandas as pd\n",
    "import numpy as np"
   ]
  },
  {
   "cell_type": "code",
   "execution_count": 2,
   "id": "ef9a3c0d",
   "metadata": {
    "scrolled": false
   },
   "outputs": [
    {
     "data": {
      "text/html": [
       "<div>\n",
       "<style scoped>\n",
       "    .dataframe tbody tr th:only-of-type {\n",
       "        vertical-align: middle;\n",
       "    }\n",
       "\n",
       "    .dataframe tbody tr th {\n",
       "        vertical-align: top;\n",
       "    }\n",
       "\n",
       "    .dataframe thead th {\n",
       "        text-align: right;\n",
       "    }\n",
       "</style>\n",
       "<table border=\"1\" class=\"dataframe\">\n",
       "  <thead>\n",
       "    <tr style=\"text-align: right;\">\n",
       "      <th></th>\n",
       "      <th>checkin_acc</th>\n",
       "      <th>duration</th>\n",
       "      <th>credit_history</th>\n",
       "      <th>amount</th>\n",
       "      <th>savings_acc</th>\n",
       "      <th>present_emp_since</th>\n",
       "      <th>inst_rate</th>\n",
       "      <th>personal_status</th>\n",
       "      <th>residing_since</th>\n",
       "      <th>age</th>\n",
       "      <th>inst_plans</th>\n",
       "      <th>num_credits</th>\n",
       "      <th>job</th>\n",
       "      <th>status</th>\n",
       "    </tr>\n",
       "  </thead>\n",
       "  <tbody>\n",
       "    <tr>\n",
       "      <th>0</th>\n",
       "      <td>A11</td>\n",
       "      <td>6</td>\n",
       "      <td>A34</td>\n",
       "      <td>1169</td>\n",
       "      <td>A65</td>\n",
       "      <td>A75</td>\n",
       "      <td>4</td>\n",
       "      <td>A93</td>\n",
       "      <td>4</td>\n",
       "      <td>67</td>\n",
       "      <td>A143</td>\n",
       "      <td>2</td>\n",
       "      <td>A173</td>\n",
       "      <td>0</td>\n",
       "    </tr>\n",
       "    <tr>\n",
       "      <th>1</th>\n",
       "      <td>A12</td>\n",
       "      <td>48</td>\n",
       "      <td>A32</td>\n",
       "      <td>5951</td>\n",
       "      <td>A61</td>\n",
       "      <td>A73</td>\n",
       "      <td>2</td>\n",
       "      <td>A92</td>\n",
       "      <td>2</td>\n",
       "      <td>22</td>\n",
       "      <td>A143</td>\n",
       "      <td>1</td>\n",
       "      <td>A173</td>\n",
       "      <td>1</td>\n",
       "    </tr>\n",
       "    <tr>\n",
       "      <th>2</th>\n",
       "      <td>A14</td>\n",
       "      <td>12</td>\n",
       "      <td>A34</td>\n",
       "      <td>2096</td>\n",
       "      <td>A61</td>\n",
       "      <td>A74</td>\n",
       "      <td>2</td>\n",
       "      <td>A93</td>\n",
       "      <td>3</td>\n",
       "      <td>49</td>\n",
       "      <td>A143</td>\n",
       "      <td>1</td>\n",
       "      <td>A172</td>\n",
       "      <td>0</td>\n",
       "    </tr>\n",
       "    <tr>\n",
       "      <th>3</th>\n",
       "      <td>A11</td>\n",
       "      <td>42</td>\n",
       "      <td>A32</td>\n",
       "      <td>7882</td>\n",
       "      <td>A61</td>\n",
       "      <td>A74</td>\n",
       "      <td>2</td>\n",
       "      <td>A93</td>\n",
       "      <td>4</td>\n",
       "      <td>45</td>\n",
       "      <td>A143</td>\n",
       "      <td>1</td>\n",
       "      <td>A173</td>\n",
       "      <td>0</td>\n",
       "    </tr>\n",
       "    <tr>\n",
       "      <th>4</th>\n",
       "      <td>A11</td>\n",
       "      <td>24</td>\n",
       "      <td>A33</td>\n",
       "      <td>4870</td>\n",
       "      <td>A61</td>\n",
       "      <td>A73</td>\n",
       "      <td>3</td>\n",
       "      <td>A93</td>\n",
       "      <td>4</td>\n",
       "      <td>53</td>\n",
       "      <td>A143</td>\n",
       "      <td>2</td>\n",
       "      <td>A173</td>\n",
       "      <td>1</td>\n",
       "    </tr>\n",
       "    <tr>\n",
       "      <th>...</th>\n",
       "      <td>...</td>\n",
       "      <td>...</td>\n",
       "      <td>...</td>\n",
       "      <td>...</td>\n",
       "      <td>...</td>\n",
       "      <td>...</td>\n",
       "      <td>...</td>\n",
       "      <td>...</td>\n",
       "      <td>...</td>\n",
       "      <td>...</td>\n",
       "      <td>...</td>\n",
       "      <td>...</td>\n",
       "      <td>...</td>\n",
       "      <td>...</td>\n",
       "    </tr>\n",
       "    <tr>\n",
       "      <th>995</th>\n",
       "      <td>A14</td>\n",
       "      <td>12</td>\n",
       "      <td>A32</td>\n",
       "      <td>1736</td>\n",
       "      <td>A61</td>\n",
       "      <td>A74</td>\n",
       "      <td>3</td>\n",
       "      <td>A92</td>\n",
       "      <td>4</td>\n",
       "      <td>31</td>\n",
       "      <td>A143</td>\n",
       "      <td>1</td>\n",
       "      <td>A172</td>\n",
       "      <td>0</td>\n",
       "    </tr>\n",
       "    <tr>\n",
       "      <th>996</th>\n",
       "      <td>A11</td>\n",
       "      <td>30</td>\n",
       "      <td>A32</td>\n",
       "      <td>3857</td>\n",
       "      <td>A61</td>\n",
       "      <td>A73</td>\n",
       "      <td>4</td>\n",
       "      <td>A91</td>\n",
       "      <td>4</td>\n",
       "      <td>40</td>\n",
       "      <td>A143</td>\n",
       "      <td>1</td>\n",
       "      <td>A174</td>\n",
       "      <td>0</td>\n",
       "    </tr>\n",
       "    <tr>\n",
       "      <th>997</th>\n",
       "      <td>A14</td>\n",
       "      <td>12</td>\n",
       "      <td>A32</td>\n",
       "      <td>804</td>\n",
       "      <td>A61</td>\n",
       "      <td>A75</td>\n",
       "      <td>4</td>\n",
       "      <td>A93</td>\n",
       "      <td>4</td>\n",
       "      <td>38</td>\n",
       "      <td>A143</td>\n",
       "      <td>1</td>\n",
       "      <td>A173</td>\n",
       "      <td>0</td>\n",
       "    </tr>\n",
       "    <tr>\n",
       "      <th>998</th>\n",
       "      <td>A11</td>\n",
       "      <td>45</td>\n",
       "      <td>A32</td>\n",
       "      <td>1845</td>\n",
       "      <td>A61</td>\n",
       "      <td>A73</td>\n",
       "      <td>4</td>\n",
       "      <td>A93</td>\n",
       "      <td>4</td>\n",
       "      <td>23</td>\n",
       "      <td>A143</td>\n",
       "      <td>1</td>\n",
       "      <td>A173</td>\n",
       "      <td>1</td>\n",
       "    </tr>\n",
       "    <tr>\n",
       "      <th>999</th>\n",
       "      <td>A12</td>\n",
       "      <td>45</td>\n",
       "      <td>A34</td>\n",
       "      <td>4576</td>\n",
       "      <td>A62</td>\n",
       "      <td>A71</td>\n",
       "      <td>3</td>\n",
       "      <td>A93</td>\n",
       "      <td>4</td>\n",
       "      <td>27</td>\n",
       "      <td>A143</td>\n",
       "      <td>1</td>\n",
       "      <td>A173</td>\n",
       "      <td>0</td>\n",
       "    </tr>\n",
       "  </tbody>\n",
       "</table>\n",
       "<p>1000 rows × 14 columns</p>\n",
       "</div>"
      ],
      "text/plain": [
       "    checkin_acc  duration credit_history  amount savings_acc  \\\n",
       "0           A11         6            A34    1169         A65   \n",
       "1           A12        48            A32    5951         A61   \n",
       "2           A14        12            A34    2096         A61   \n",
       "3           A11        42            A32    7882         A61   \n",
       "4           A11        24            A33    4870         A61   \n",
       "..          ...       ...            ...     ...         ...   \n",
       "995         A14        12            A32    1736         A61   \n",
       "996         A11        30            A32    3857         A61   \n",
       "997         A14        12            A32     804         A61   \n",
       "998         A11        45            A32    1845         A61   \n",
       "999         A12        45            A34    4576         A62   \n",
       "\n",
       "    present_emp_since  inst_rate personal_status  residing_since  age  \\\n",
       "0                 A75          4             A93               4   67   \n",
       "1                 A73          2             A92               2   22   \n",
       "2                 A74          2             A93               3   49   \n",
       "3                 A74          2             A93               4   45   \n",
       "4                 A73          3             A93               4   53   \n",
       "..                ...        ...             ...             ...  ...   \n",
       "995               A74          3             A92               4   31   \n",
       "996               A73          4             A91               4   40   \n",
       "997               A75          4             A93               4   38   \n",
       "998               A73          4             A93               4   23   \n",
       "999               A71          3             A93               4   27   \n",
       "\n",
       "    inst_plans  num_credits   job  status  \n",
       "0         A143            2  A173       0  \n",
       "1         A143            1  A173       1  \n",
       "2         A143            1  A172       0  \n",
       "3         A143            1  A173       0  \n",
       "4         A143            2  A173       1  \n",
       "..         ...          ...   ...     ...  \n",
       "995       A143            1  A172       0  \n",
       "996       A143            1  A174       0  \n",
       "997       A143            1  A173       0  \n",
       "998       A143            1  A173       1  \n",
       "999       A143            1  A173       0  \n",
       "\n",
       "[1000 rows x 14 columns]"
      ]
     },
     "execution_count": 2,
     "metadata": {},
     "output_type": "execute_result"
    }
   ],
   "source": [
    "Cdf = pd.read_csv('German Credit Data.csv')\n",
    "Cdf"
   ]
  },
  {
   "cell_type": "code",
   "execution_count": 3,
   "id": "3d9d5f00",
   "metadata": {},
   "outputs": [
    {
     "name": "stdout",
     "output_type": "stream",
     "text": [
      "<class 'pandas.core.frame.DataFrame'>\n",
      "RangeIndex: 1000 entries, 0 to 999\n",
      "Data columns (total 14 columns):\n",
      " #   Column             Non-Null Count  Dtype \n",
      "---  ------             --------------  ----- \n",
      " 0   checkin_acc        1000 non-null   object\n",
      " 1   duration           1000 non-null   int64 \n",
      " 2   credit_history     1000 non-null   object\n",
      " 3   amount             1000 non-null   int64 \n",
      " 4   savings_acc        1000 non-null   object\n",
      " 5   present_emp_since  1000 non-null   object\n",
      " 6   inst_rate          1000 non-null   int64 \n",
      " 7   personal_status    1000 non-null   object\n",
      " 8   residing_since     1000 non-null   int64 \n",
      " 9   age                1000 non-null   int64 \n",
      " 10  inst_plans         1000 non-null   object\n",
      " 11  num_credits        1000 non-null   int64 \n",
      " 12  job                1000 non-null   object\n",
      " 13  status             1000 non-null   int64 \n",
      "dtypes: int64(7), object(7)\n",
      "memory usage: 109.5+ KB\n"
     ]
    }
   ],
   "source": [
    "# https://archive.ics.uci.edu/ml/datasets/Statlog+%28German+Credit+Data%29\n",
    "\n",
    "Cdf.info()"
   ]
  },
  {
   "cell_type": "code",
   "execution_count": 4,
   "id": "b3d6225d",
   "metadata": {},
   "outputs": [
    {
     "data": {
      "text/plain": [
       "0    700\n",
       "1    300\n",
       "Name: status, dtype: int64"
      ]
     },
     "execution_count": 4,
     "metadata": {},
     "output_type": "execute_result"
    }
   ],
   "source": [
    "Cdf['status'].value_counts()\n",
    "\n",
    "# 0 = goos, 1= bad"
   ]
  },
  {
   "cell_type": "code",
   "execution_count": 5,
   "id": "bbc6367a",
   "metadata": {},
   "outputs": [
    {
     "data": {
      "text/plain": [
       "['checkin_acc',\n",
       " 'duration',\n",
       " 'credit_history',\n",
       " 'amount',\n",
       " 'savings_acc',\n",
       " 'present_emp_since',\n",
       " 'inst_rate',\n",
       " 'personal_status',\n",
       " 'residing_since',\n",
       " 'age',\n",
       " 'inst_plans',\n",
       " 'num_credits',\n",
       " 'job']"
      ]
     },
     "execution_count": 5,
     "metadata": {},
     "output_type": "execute_result"
    }
   ],
   "source": [
    "Xf = list(Cdf.columns)\n",
    "Xf.remove('status')\n",
    "Xf"
   ]
  },
  {
   "cell_type": "code",
   "execution_count": 6,
   "id": "0a8b588e",
   "metadata": {},
   "outputs": [],
   "source": [
    "Cdfen = pd.get_dummies(Cdf[Xf], drop_first=True)"
   ]
  },
  {
   "cell_type": "code",
   "execution_count": 7,
   "id": "5f8c974d",
   "metadata": {},
   "outputs": [
    {
     "data": {
      "text/plain": [
       "['duration',\n",
       " 'amount',\n",
       " 'inst_rate',\n",
       " 'residing_since',\n",
       " 'age',\n",
       " 'num_credits',\n",
       " 'checkin_acc_A12',\n",
       " 'checkin_acc_A13',\n",
       " 'checkin_acc_A14',\n",
       " 'credit_history_A31',\n",
       " 'credit_history_A32',\n",
       " 'credit_history_A33',\n",
       " 'credit_history_A34',\n",
       " 'savings_acc_A62',\n",
       " 'savings_acc_A63',\n",
       " 'savings_acc_A64',\n",
       " 'savings_acc_A65',\n",
       " 'present_emp_since_A72',\n",
       " 'present_emp_since_A73',\n",
       " 'present_emp_since_A74',\n",
       " 'present_emp_since_A75',\n",
       " 'personal_status_A92',\n",
       " 'personal_status_A93',\n",
       " 'personal_status_A94',\n",
       " 'inst_plans_A142',\n",
       " 'inst_plans_A143',\n",
       " 'job_A172',\n",
       " 'job_A173',\n",
       " 'job_A174']"
      ]
     },
     "execution_count": 7,
     "metadata": {},
     "output_type": "execute_result"
    }
   ],
   "source": [
    "list(Cdfen.columns)"
   ]
  },
  {
   "cell_type": "code",
   "execution_count": 8,
   "id": "8d18bb99",
   "metadata": {},
   "outputs": [],
   "source": [
    "X = Cdfen\n",
    "y  = Cdf['status']"
   ]
  },
  {
   "cell_type": "code",
   "execution_count": 9,
   "id": "8ff57f1e",
   "metadata": {},
   "outputs": [],
   "source": [
    "from sklearn.model_selection import train_test_split\n",
    "\n",
    "Xtrain, Xtest, Ytrain, Ytest = train_test_split(X,y,test_size=0.3, random_state=42)"
   ]
  },
  {
   "cell_type": "code",
   "execution_count": 10,
   "id": "186ea0db",
   "metadata": {},
   "outputs": [],
   "source": [
    "from sklearn.tree import DecisionTreeClassifier\n",
    "\n",
    "model = DecisionTreeClassifier(criterion='gini', max_depth=3)"
   ]
  },
  {
   "cell_type": "code",
   "execution_count": 11,
   "id": "b4ea28b4",
   "metadata": {},
   "outputs": [
    {
     "data": {
      "text/plain": [
       "DecisionTreeClassifier(max_depth=3)"
      ]
     },
     "execution_count": 11,
     "metadata": {},
     "output_type": "execute_result"
    }
   ],
   "source": [
    "model.fit(Xtrain, Ytrain)"
   ]
  },
  {
   "cell_type": "code",
   "execution_count": null,
   "id": "af3f06cf",
   "metadata": {},
   "outputs": [],
   "source": []
  },
  {
   "cell_type": "markdown",
   "id": "f8ebd882",
   "metadata": {},
   "source": [
    "### Measuring Test Accuracy"
   ]
  },
  {
   "cell_type": "code",
   "execution_count": 12,
   "id": "c1369967",
   "metadata": {},
   "outputs": [],
   "source": [
    "Ypred = model.predict(Xtest)"
   ]
  },
  {
   "cell_type": "code",
   "execution_count": 13,
   "id": "daec55b8",
   "metadata": {},
   "outputs": [
    {
     "name": "stdout",
     "output_type": "stream",
     "text": [
      "0.5835743204164258\n",
      "0.7266666666666667\n"
     ]
    }
   ],
   "source": [
    "from sklearn import metrics\n",
    "print(metrics.roc_auc_score(Ytest, Ypred))\n",
    "print(metrics.accuracy_score(Ytest, Ypred))"
   ]
  },
  {
   "cell_type": "code",
   "execution_count": null,
   "id": "e1dd8846",
   "metadata": {},
   "outputs": [],
   "source": []
  },
  {
   "cell_type": "markdown",
   "id": "aab14d6b",
   "metadata": {},
   "source": [
    "### Displaying Tree"
   ]
  },
  {
   "cell_type": "code",
   "execution_count": 14,
   "id": "8e4c48a1",
   "metadata": {},
   "outputs": [],
   "source": [
    "from sklearn import tree\n",
    "import matplotlib.pyplot as plt"
   ]
  },
  {
   "cell_type": "code",
   "execution_count": 15,
   "id": "dfdabc45",
   "metadata": {
    "scrolled": false
   },
   "outputs": [
    {
     "data": {
      "image/png": "[encoded data removed]",
      "text/plain": [
       "<Figure size 1800x1440 with 1 Axes>"
      ]
     },
     "metadata": {
      "needs_background": "light"
     },
     "output_type": "display_data"
    }
   ],
   "source": [
    "fig = plt.figure(figsize=(25,20))\n",
    "_ = tree.plot_tree (model, feature_names = Xtrain.columns, filled = True)"
   ]
  },
  {
   "cell_type": "code",
   "execution_count": 16,
   "id": "8a589e83",
   "metadata": {},
   "outputs": [
    {
     "data": {
      "text/plain": [
       "GridSearchCV(cv=10, estimator=DecisionTreeClassifier(max_depth=3),\n",
       "             param_grid=[{'criterion': ['gini', 'entropy'],\n",
       "                          'max_depth': range(2, 10)}],\n",
       "             scoring='roc_auc')"
      ]
     },
     "execution_count": 16,
     "metadata": {},
     "output_type": "execute_result"
    }
   ],
   "source": [
    "from sklearn.model_selection import GridSearchCV\n",
    "param = [{'criterion': ['gini', 'entropy'], 'max_depth': range(2,10)}]\n",
    "model1 =DecisionTreeClassifier()\n",
    "modelcv = GridSearchCV(model, param, cv=10, scoring = 'roc_auc')\n",
    "modelcv.fit(Xtrain, Ytrain)"
   ]
  },
  {
   "cell_type": "code",
   "execution_count": 17,
   "id": "2fced1bc",
   "metadata": {},
   "outputs": [
    {
     "data": {
      "text/plain": [
       "0.6830090864917396"
      ]
     },
     "execution_count": 17,
     "metadata": {},
     "output_type": "execute_result"
    }
   ],
   "source": [
    "modelcv.best_score_"
   ]
  },
  {
   "cell_type": "code",
   "execution_count": 18,
   "id": "ed417ede",
   "metadata": {},
   "outputs": [
    {
     "data": {
      "text/plain": [
       "{'criterion': 'gini', 'max_depth': 4}"
      ]
     },
     "execution_count": 18,
     "metadata": {},
     "output_type": "execute_result"
    }
   ],
   "source": [
    "modelcv.best_params_"
   ]
  },
  {
   "cell_type": "markdown",
   "id": "e8e6fc90",
   "metadata": {},
   "source": [
    "### Performance Matrix Decision Tree"
   ]
  },
  {
   "cell_type": "code",
   "execution_count": 19,
   "id": "136611f6",
   "metadata": {},
   "outputs": [],
   "source": [
    "predY = modelcv.predict(Xtest)"
   ]
  },
  {
   "cell_type": "code",
   "execution_count": 20,
   "id": "01904ae7",
   "metadata": {},
   "outputs": [
    {
     "name": "stdout",
     "output_type": "stream",
     "text": [
      "[[186  23]\n",
      " [ 68  23]]\n"
     ]
    }
   ],
   "source": [
    "print(metrics.confusion_matrix(Ytest,predY))"
   ]
  },
  {
   "cell_type": "code",
   "execution_count": 21,
   "id": "51ddacf4",
   "metadata": {},
   "outputs": [
    {
     "name": "stdout",
     "output_type": "stream",
     "text": [
      "              precision    recall  f1-score   support\n",
      "\n",
      "           0       0.73      0.89      0.80       209\n",
      "           1       0.50      0.25      0.34        91\n",
      "\n",
      "    accuracy                           0.70       300\n",
      "   macro avg       0.62      0.57      0.57       300\n",
      "weighted avg       0.66      0.70      0.66       300\n",
      "\n"
     ]
    }
   ],
   "source": [
    "print(metrics.classification_report(Ytest, predY))"
   ]
  },
  {
   "cell_type": "code",
   "execution_count": 22,
   "id": "6a5df598",
   "metadata": {},
   "outputs": [
    {
     "data": {
      "text/plain": [
       "0.7093432882906567"
      ]
     },
     "execution_count": 22,
     "metadata": {},
     "output_type": "execute_result"
    }
   ],
   "source": [
    "auc = metrics.roc_auc_score(Ytest, modelcv.predict_proba(Xtest)[:,1])\n",
    "auc"
   ]
  },
  {
   "cell_type": "code",
   "execution_count": null,
   "id": "60eddcca",
   "metadata": {},
   "outputs": [],
   "source": []
  },
  {
   "cell_type": "markdown",
   "id": "0186a01d",
   "metadata": {},
   "source": [
    "### Random Forest"
   ]
  },
  {
   "cell_type": "code",
   "execution_count": 23,
   "id": "e0b16b0f",
   "metadata": {},
   "outputs": [],
   "source": [
    "no_of_features = len(Xtrain.columns)"
   ]
  },
  {
   "cell_type": "code",
   "execution_count": 24,
   "id": "ca241471",
   "metadata": {},
   "outputs": [
    {
     "data": {
      "text/plain": [
       "4"
      ]
     },
     "execution_count": 24,
     "metadata": {},
     "output_type": "execute_result"
    }
   ],
   "source": [
    "depth = int(np.log2(no_of_features))\n",
    "depth"
   ]
  },
  {
   "cell_type": "code",
   "execution_count": 25,
   "id": "d07bc52f",
   "metadata": {},
   "outputs": [
    {
     "data": {
      "text/plain": [
       "RandomForestClassifier(max_depth=4, random_state=101)"
      ]
     },
     "execution_count": 25,
     "metadata": {},
     "output_type": "execute_result"
    }
   ],
   "source": [
    "from sklearn.ensemble import RandomForestClassifier\n",
    "modelrf = RandomForestClassifier(max_depth=depth, n_estimators=100, random_state=101)\n",
    "modelrf.fit(Xtrain, Ytrain)"
   ]
  },
  {
   "cell_type": "code",
   "execution_count": 26,
   "id": "61ea7775",
   "metadata": {},
   "outputs": [
    {
     "data": {
      "text/plain": [
       "0.7701246122298755"
      ]
     },
     "execution_count": 26,
     "metadata": {},
     "output_type": "execute_result"
    }
   ],
   "source": [
    "auc = metrics.roc_auc_score(Ytest, modelrf.predict_proba(Xtest)[:,1])\n",
    "auc"
   ]
  },
  {
   "cell_type": "code",
   "execution_count": null,
   "id": "2fc90ebe",
   "metadata": {},
   "outputs": [],
   "source": []
  },
  {
   "cell_type": "markdown",
   "id": "0c0435ce",
   "metadata": {},
   "source": [
    "### Grid Search"
   ]
  },
  {
   "cell_type": "code",
   "execution_count": 27,
   "id": "a091d566",
   "metadata": {},
   "outputs": [
    {
     "data": {
      "text/plain": [
       "GridSearchCV(cv=10, estimator=RandomForestClassifier(random_state=101),\n",
       "             param_grid=[{'max_depth': [5, 10, 15],\n",
       "                          'max_features': ['sqrt', 0.2, 0.3, 0.5],\n",
       "                          'n_estimators': [50, 100, 150]}],\n",
       "             scoring='roc_auc')"
      ]
     },
     "execution_count": 27,
     "metadata": {},
     "output_type": "execute_result"
    }
   ],
   "source": [
    "params = [{'max_depth':[5,10,15], 'n_estimators':[50,100,150], 'max_features':['sqrt',0.2,.3,.5]}]\n",
    "modelrf = RandomForestClassifier(random_state=101)\n",
    "modelcv = GridSearchCV(modelrf, params, cv=10, scoring='roc_auc')\n",
    "modelcv.fit(Xtrain, Ytrain)"
   ]
  },
  {
   "cell_type": "code",
   "execution_count": 28,
   "id": "75038d5d",
   "metadata": {},
   "outputs": [
    {
     "data": {
      "text/plain": [
       "0.7557102040816326"
      ]
     },
     "execution_count": 28,
     "metadata": {},
     "output_type": "execute_result"
    }
   ],
   "source": [
    "modelcv.best_score_"
   ]
  },
  {
   "cell_type": "code",
   "execution_count": 29,
   "id": "35105e4d",
   "metadata": {},
   "outputs": [
    {
     "data": {
      "text/plain": [
       "{'max_depth': 10, 'max_features': 0.3, 'n_estimators': 150}"
      ]
     },
     "execution_count": 29,
     "metadata": {},
     "output_type": "execute_result"
    }
   ],
   "source": [
    "modelcv.best_params_"
   ]
  },
  {
   "cell_type": "code",
   "execution_count": null,
   "id": "062f9e41",
   "metadata": {},
   "outputs": [],
   "source": []
  },
  {
   "cell_type": "markdown",
   "id": "30767288",
   "metadata": {},
   "source": [
    "### building model with best params"
   ]
  },
  {
   "cell_type": "code",
   "execution_count": 30,
   "id": "58d48dd1",
   "metadata": {},
   "outputs": [
    {
     "data": {
      "text/plain": [
       "RandomForestClassifier(max_depth=10, max_features=0.3, n_estimators=150,\n",
       "                       oob_score=True, random_state=101)"
      ]
     },
     "execution_count": 30,
     "metadata": {},
     "output_type": "execute_result"
    }
   ],
   "source": [
    "model_bp = RandomForestClassifier(max_depth=10, n_estimators=150, max_features=.3, oob_score=True, random_state=101)\n",
    "model_bp.fit(Xtrain, Ytrain)"
   ]
  },
  {
   "cell_type": "code",
   "execution_count": 31,
   "id": "d9248af9",
   "metadata": {},
   "outputs": [
    {
     "data": {
      "text/plain": [
       "0.7703875072296125"
      ]
     },
     "execution_count": 31,
     "metadata": {},
     "output_type": "execute_result"
    }
   ],
   "source": [
    "metrics.roc_auc_score(Ytest, model_bp.predict_proba(Xtest)[:,1])"
   ]
  },
  {
   "cell_type": "code",
   "execution_count": null,
   "id": "7479dfba",
   "metadata": {},
   "outputs": [],
   "source": []
  },
  {
   "cell_type": "markdown",
   "id": "5ed0c31b",
   "metadata": {},
   "source": [
    "### Performance metrics- Random Forest\n"
   ]
  },
  {
   "cell_type": "code",
   "execution_count": 32,
   "id": "0de3176d",
   "metadata": {},
   "outputs": [],
   "source": [
    "# 1.30.10"
   ]
  },
  {
   "cell_type": "code",
   "execution_count": 33,
   "id": "502ac439",
   "metadata": {},
   "outputs": [],
   "source": [
    "pred_y = model_bp.predict(Xtest)"
   ]
  },
  {
   "cell_type": "code",
   "execution_count": 34,
   "id": "f9300cbf",
   "metadata": {},
   "outputs": [],
   "source": [
    "from sklearn.metrics import classification_report, confusion_matrix\n",
    "from sklearn import metrics"
   ]
  },
  {
   "cell_type": "code",
   "execution_count": 35,
   "id": "40b82340",
   "metadata": {},
   "outputs": [
    {
     "name": "stdout",
     "output_type": "stream",
     "text": [
      "[[195  14]\n",
      " [ 62  29]]\n"
     ]
    }
   ],
   "source": [
    "print(confusion_matrix(Ytest,pred_y))"
   ]
  },
  {
   "cell_type": "code",
   "execution_count": 36,
   "id": "9fe8aadb",
   "metadata": {},
   "outputs": [
    {
     "name": "stdout",
     "output_type": "stream",
     "text": [
      "              precision    recall  f1-score   support\n",
      "\n",
      "           0       0.76      0.93      0.84       209\n",
      "           1       0.67      0.32      0.43        91\n",
      "\n",
      "    accuracy                           0.75       300\n",
      "   macro avg       0.72      0.63      0.63       300\n",
      "weighted avg       0.73      0.75      0.71       300\n",
      "\n"
     ]
    }
   ],
   "source": [
    "print(metrics.classification_report(Ytest, pred_y))"
   ]
  },
  {
   "cell_type": "code",
   "execution_count": 37,
   "id": "19448f5c",
   "metadata": {},
   "outputs": [
    {
     "data": {
      "text/plain": [
       "0.75"
      ]
     },
     "execution_count": 37,
     "metadata": {},
     "output_type": "execute_result"
    }
   ],
   "source": [
    "model_bp.oob_score_"
   ]
  },
  {
   "cell_type": "markdown",
   "id": "0bc4b684",
   "metadata": {},
   "source": [
    "### Drawing the RoC curve"
   ]
  },
  {
   "cell_type": "code",
   "execution_count": 38,
   "id": "56f248f9",
   "metadata": {},
   "outputs": [],
   "source": [
    "fpr, tpr, thresholds = metrics.roc_curve(Ytest, model_bp.predict_proba(Xtest)[:,1])"
   ]
  },
  {
   "cell_type": "code",
   "execution_count": 39,
   "id": "d39eda7d",
   "metadata": {},
   "outputs": [],
   "source": [
    "roc_auc = metrics.auc(fpr, tpr)"
   ]
  },
  {
   "cell_type": "code",
   "execution_count": 40,
   "id": "fb77a226",
   "metadata": {},
   "outputs": [
    {
     "data": {
      "image/png": "[encoded data removed]",
      "text/plain": [
       "<Figure size 432x288 with 1 Axes>"
      ]
     },
     "metadata": {
      "needs_background": "light"
     },
     "output_type": "display_data"
    }
   ],
   "source": [
    "display = metrics.RocCurveDisplay(fpr=fpr, tpr=tpr, roc_auc=roc_auc,\n",
    "                                  estimator_name='RF')\n",
    "display.plot()\n",
    "plt.show()"
   ]
  },
  {
   "cell_type": "code",
   "execution_count": null,
   "id": "47f87d1a",
   "metadata": {},
   "outputs": [],
   "source": []
  },
  {
   "cell_type": "markdown",
   "id": "f42c2708",
   "metadata": {},
   "source": [
    "### Feature Importance"
   ]
  },
  {
   "cell_type": "code",
   "execution_count": 41,
   "id": "bdf5b04e",
   "metadata": {},
   "outputs": [],
   "source": [
    "import seaborn as sn\n",
    "# Create a dataframe to store the features and their corresponding\n",
    "# importances\n",
    "\n",
    "feature_rank = pd.DataFrame({'feature': Xtrain.columns, 'importance': model_bp.feature_importances_})"
   ]
  },
  {
   "cell_type": "code",
   "execution_count": 42,
   "id": "45ed1cd5",
   "metadata": {},
   "outputs": [],
   "source": [
    "\n",
    "feature_rank = feature_rank.sort_values('importance', ascending = False)"
   ]
  },
  {
   "cell_type": "code",
   "execution_count": 43,
   "id": "09a25e17",
   "metadata": {},
   "outputs": [
    {
     "data": {
      "image/png": "[encoded data removed]",
      "text/plain": [
       "<Figure size 576x432 with 1 Axes>"
      ]
     },
     "metadata": {
      "needs_background": "light"
     },
     "output_type": "display_data"
    }
   ],
   "source": [
    "plt.figure(figsize=(8, 6))\n",
    "\n",
    "# plot the values\n",
    "\n",
    "sn.barplot(y = 'feature', x = 'importance', data = feature_rank);"
   ]
  },
  {
   "cell_type": "code",
   "execution_count": 44,
   "id": "0a38b37b",
   "metadata": {},
   "outputs": [
    {
     "data": {
      "text/html": [
       "<div>\n",
       "<style scoped>\n",
       "    .dataframe tbody tr th:only-of-type {\n",
       "        vertical-align: middle;\n",
       "    }\n",
       "\n",
       "    .dataframe tbody tr th {\n",
       "        vertical-align: top;\n",
       "    }\n",
       "\n",
       "    .dataframe thead th {\n",
       "        text-align: right;\n",
       "    }\n",
       "</style>\n",
       "<table border=\"1\" class=\"dataframe\">\n",
       "  <thead>\n",
       "    <tr style=\"text-align: right;\">\n",
       "      <th></th>\n",
       "      <th>feature</th>\n",
       "      <th>importance</th>\n",
       "      <th>cumsum</th>\n",
       "    </tr>\n",
       "  </thead>\n",
       "  <tbody>\n",
       "    <tr>\n",
       "      <th>1</th>\n",
       "      <td>amount</td>\n",
       "      <td>0.180274</td>\n",
       "      <td>18.027427</td>\n",
       "    </tr>\n",
       "    <tr>\n",
       "      <th>4</th>\n",
       "      <td>age</td>\n",
       "      <td>0.127211</td>\n",
       "      <td>30.748490</td>\n",
       "    </tr>\n",
       "    <tr>\n",
       "      <th>0</th>\n",
       "      <td>duration</td>\n",
       "      <td>0.110383</td>\n",
       "      <td>41.786748</td>\n",
       "    </tr>\n",
       "    <tr>\n",
       "      <th>8</th>\n",
       "      <td>checkin_acc_A14</td>\n",
       "      <td>0.090499</td>\n",
       "      <td>50.836698</td>\n",
       "    </tr>\n",
       "    <tr>\n",
       "      <th>2</th>\n",
       "      <td>inst_rate</td>\n",
       "      <td>0.044287</td>\n",
       "      <td>55.265374</td>\n",
       "    </tr>\n",
       "    <tr>\n",
       "      <th>3</th>\n",
       "      <td>residing_since</td>\n",
       "      <td>0.042421</td>\n",
       "      <td>59.507446</td>\n",
       "    </tr>\n",
       "    <tr>\n",
       "      <th>12</th>\n",
       "      <td>credit_history_A34</td>\n",
       "      <td>0.038151</td>\n",
       "      <td>63.322569</td>\n",
       "    </tr>\n",
       "    <tr>\n",
       "      <th>25</th>\n",
       "      <td>inst_plans_A143</td>\n",
       "      <td>0.026428</td>\n",
       "      <td>65.965382</td>\n",
       "    </tr>\n",
       "    <tr>\n",
       "      <th>5</th>\n",
       "      <td>num_credits</td>\n",
       "      <td>0.024940</td>\n",
       "      <td>68.459369</td>\n",
       "    </tr>\n",
       "    <tr>\n",
       "      <th>16</th>\n",
       "      <td>savings_acc_A65</td>\n",
       "      <td>0.023955</td>\n",
       "      <td>70.854881</td>\n",
       "    </tr>\n",
       "  </tbody>\n",
       "</table>\n",
       "</div>"
      ],
      "text/plain": [
       "               feature  importance     cumsum\n",
       "1               amount    0.180274  18.027427\n",
       "4                  age    0.127211  30.748490\n",
       "0             duration    0.110383  41.786748\n",
       "8      checkin_acc_A14    0.090499  50.836698\n",
       "2            inst_rate    0.044287  55.265374\n",
       "3       residing_since    0.042421  59.507446\n",
       "12  credit_history_A34    0.038151  63.322569\n",
       "25     inst_plans_A143    0.026428  65.965382\n",
       "5          num_credits    0.024940  68.459369\n",
       "16     savings_acc_A65    0.023955  70.854881"
      ]
     },
     "execution_count": 44,
     "metadata": {},
     "output_type": "execute_result"
    }
   ],
   "source": [
    "feature_rank['cumsum'] = feature_rank['importance'].cumsum() * 100\n",
    "feature_rank.head(10)"
   ]
  },
  {
   "cell_type": "code",
   "execution_count": null,
   "id": "1c43a9e1",
   "metadata": {},
   "outputs": [],
   "source": []
  },
  {
   "cell_type": "code",
   "execution_count": null,
   "id": "088178fb",
   "metadata": {},
   "outputs": [],
   "source": []
  },
  {
   "cell_type": "markdown",
   "id": "efa07bb1",
   "metadata": {},
   "source": [
    "### Adaboost"
   ]
  },
  {
   "cell_type": "code",
   "execution_count": 45,
   "id": "6a05eb98",
   "metadata": {},
   "outputs": [
    {
     "data": {
      "text/plain": [
       "AdaBoostClassifier(base_estimator=DecisionTreeClassifier(max_depth=10),\n",
       "                   n_estimators=250, random_state=101)"
      ]
     },
     "execution_count": 45,
     "metadata": {},
     "output_type": "execute_result"
    }
   ],
   "source": [
    "from sklearn.ensemble import AdaBoostClassifier\n",
    "dfbase = DecisionTreeClassifier(max_depth=10)\n",
    "ada = AdaBoostClassifier(dfbase, n_estimators=250, random_state=101)\n",
    "ada.fit(Xtrain, Ytrain)"
   ]
  },
  {
   "cell_type": "markdown",
   "id": "71e2c820",
   "metadata": {},
   "source": [
    "### performance measure"
   ]
  },
  {
   "cell_type": "code",
   "execution_count": 46,
   "id": "7527c61b",
   "metadata": {},
   "outputs": [],
   "source": [
    "from sklearn.metrics import classification_report, confusion_matrix"
   ]
  },
  {
   "cell_type": "code",
   "execution_count": 47,
   "id": "70085838",
   "metadata": {},
   "outputs": [],
   "source": [
    "predY = ada.predict(Xtest)"
   ]
  },
  {
   "cell_type": "code",
   "execution_count": 48,
   "id": "1cb62bf5",
   "metadata": {},
   "outputs": [
    {
     "name": "stdout",
     "output_type": "stream",
     "text": [
      "[[189  20]\n",
      " [ 62  29]]\n"
     ]
    }
   ],
   "source": [
    "print(confusion_matrix(Ytest,predY))"
   ]
  },
  {
   "cell_type": "code",
   "execution_count": 49,
   "id": "9f3a2a9f",
   "metadata": {},
   "outputs": [
    {
     "name": "stdout",
     "output_type": "stream",
     "text": [
      "              precision    recall  f1-score   support\n",
      "\n",
      "           0       0.75      0.90      0.82       209\n",
      "           1       0.59      0.32      0.41        91\n",
      "\n",
      "    accuracy                           0.73       300\n",
      "   macro avg       0.67      0.61      0.62       300\n",
      "weighted avg       0.70      0.73      0.70       300\n",
      "\n"
     ]
    }
   ],
   "source": [
    "print(metrics.classification_report(Ytest,predY))"
   ]
  },
  {
   "cell_type": "code",
   "execution_count": 50,
   "id": "0f90fcea",
   "metadata": {},
   "outputs": [],
   "source": [
    "auc = metrics.roc_auc_score(Ytest,ada.predict_proba(Xtest)[:,1] )"
   ]
  },
  {
   "cell_type": "code",
   "execution_count": 51,
   "id": "fd14c503",
   "metadata": {},
   "outputs": [
    {
     "data": {
      "text/plain": [
       "0.7717019822282981"
      ]
     },
     "execution_count": 51,
     "metadata": {},
     "output_type": "execute_result"
    }
   ],
   "source": [
    "auc"
   ]
  },
  {
   "cell_type": "code",
   "execution_count": null,
   "id": "c16d1ff9",
   "metadata": {},
   "outputs": [],
   "source": []
  },
  {
   "cell_type": "markdown",
   "id": "811e3d6c",
   "metadata": {},
   "source": [
    "### Gradient Boosting"
   ]
  },
  {
   "cell_type": "code",
   "execution_count": 52,
   "id": "6e0e114b",
   "metadata": {},
   "outputs": [
    {
     "data": {
      "text/plain": [
       "GradientBoostingClassifier(max_depth=10, n_estimators=500)"
      ]
     },
     "execution_count": 52,
     "metadata": {},
     "output_type": "execute_result"
    }
   ],
   "source": [
    "from sklearn.ensemble import GradientBoostingClassifier\n",
    "\n",
    "modelgb = GradientBoostingClassifier(n_estimators=500, max_depth=10)\n",
    "modelgb.fit(Xtrain,Ytrain)"
   ]
  },
  {
   "cell_type": "code",
   "execution_count": 53,
   "id": "76b84913",
   "metadata": {},
   "outputs": [
    {
     "data": {
      "text/plain": [
       "0.7445712182554288"
      ]
     },
     "execution_count": 53,
     "metadata": {},
     "output_type": "execute_result"
    }
   ],
   "source": [
    "auc = metrics.roc_auc_score(Ytest, modelgb.predict_proba(Xtest)[:,1])\n",
    "auc"
   ]
  },
  {
   "cell_type": "markdown",
   "id": "f99ae987",
   "metadata": {},
   "source": [
    "### Grid search cv"
   ]
  },
  {
   "cell_type": "code",
   "execution_count": 54,
   "id": "19e8fe61",
   "metadata": {},
   "outputs": [
    {
     "data": {
      "text/plain": [
       "GridSearchCV(cv=10, estimator=GradientBoostingClassifier(random_state=101),\n",
       "             param_grid=[{'learning_rate': [0.01, 0.05, 0.5, 0.1],\n",
       "                          'n_estimators': [100, 200, 400]}],\n",
       "             scoring='roc_auc')"
      ]
     },
     "execution_count": 54,
     "metadata": {},
     "output_type": "execute_result"
    }
   ],
   "source": [
    "from sklearn.model_selection import GridSearchCV\n",
    "param = [{'n_estimators': [100,200, 400], 'learning_rate':[0.01,.05,.5,.1]}]\n",
    "model1 = GradientBoostingClassifier(random_state=101)\n",
    "modelcv = GridSearchCV(model1, param, cv=10, scoring='roc_auc')\n",
    "modelcv.fit(Xtrain,Ytrain)"
   ]
  },
  {
   "cell_type": "code",
   "execution_count": 55,
   "id": "3ebe7c65",
   "metadata": {},
   "outputs": [
    {
     "data": {
      "text/plain": [
       "{'learning_rate': 0.05, 'n_estimators': 200}"
      ]
     },
     "execution_count": 55,
     "metadata": {},
     "output_type": "execute_result"
    }
   ],
   "source": [
    "modelcv.best_params_"
   ]
  },
  {
   "cell_type": "code",
   "execution_count": 56,
   "id": "7194f565",
   "metadata": {},
   "outputs": [
    {
     "data": {
      "text/plain": [
       "0.7397752186588921"
      ]
     },
     "execution_count": 56,
     "metadata": {},
     "output_type": "execute_result"
    }
   ],
   "source": [
    "modelcv.best_score_"
   ]
  },
  {
   "cell_type": "markdown",
   "id": "4560ca45",
   "metadata": {},
   "source": [
    "### Performance Measures - Gradient Boosting"
   ]
  },
  {
   "cell_type": "code",
   "execution_count": 57,
   "id": "8a5a334a",
   "metadata": {},
   "outputs": [],
   "source": [
    "predY = modelcv.predict(Xtest)"
   ]
  },
  {
   "cell_type": "code",
   "execution_count": 58,
   "id": "5ceb6e03",
   "metadata": {},
   "outputs": [
    {
     "name": "stdout",
     "output_type": "stream",
     "text": [
      "[[187  22]\n",
      " [ 54  37]]\n"
     ]
    }
   ],
   "source": [
    "print(confusion_matrix(Ytest,predY))"
   ]
  },
  {
   "cell_type": "code",
   "execution_count": 59,
   "id": "5ecda2b0",
   "metadata": {},
   "outputs": [
    {
     "name": "stdout",
     "output_type": "stream",
     "text": [
      "              precision    recall  f1-score   support\n",
      "\n",
      "           0       0.78      0.89      0.83       209\n",
      "           1       0.63      0.41      0.49        91\n",
      "\n",
      "    accuracy                           0.75       300\n",
      "   macro avg       0.70      0.65      0.66       300\n",
      "weighted avg       0.73      0.75      0.73       300\n",
      "\n"
     ]
    }
   ],
   "source": [
    "print(metrics.classification_report(Ytest,predY))"
   ]
  },
  {
   "cell_type": "code",
   "execution_count": 60,
   "id": "dfd7c710",
   "metadata": {},
   "outputs": [
    {
     "data": {
      "text/plain": [
       "0.6506651243493349"
      ]
     },
     "execution_count": 60,
     "metadata": {},
     "output_type": "execute_result"
    }
   ],
   "source": [
    "auc = metrics.roc_auc_score(Ytest,predY )\n",
    "auc"
   ]
  },
  {
   "cell_type": "code",
   "execution_count": null,
   "id": "d9000047",
   "metadata": {},
   "outputs": [],
   "source": []
  },
  {
   "cell_type": "code",
   "execution_count": null,
   "id": "2c7f2919",
   "metadata": {},
   "outputs": [],
   "source": []
  },
  {
   "cell_type": "code",
   "execution_count": null,
   "id": "6008cd89",
   "metadata": {},
   "outputs": [],
   "source": []
  }
 ],
 "metadata": {
  "kernelspec": {
   "display_name": "Python 3",
   "language": "python",
   "name": "python3"
  },
  "language_info": {
   "codemirror_mode": {
    "name": "ipython",
    "version": 3
   },
   "file_extension": ".py",
   "mimetype": "text/x-python",
   "name": "python",
   "nbconvert_exporter": "python",
   "pygments_lexer": "ipython3",
   "version": "3.8.8"
  }
 },
 "nbformat": 4,
 "nbformat_minor": 5
}

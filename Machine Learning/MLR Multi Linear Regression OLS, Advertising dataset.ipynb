{
 "cells": [
  {
   "cell_type": "code",
   "execution_count": 6,
   "id": "68ae1288",
   "metadata": {},
   "outputs": [],
   "source": [
    "import pandas as pd\n",
    "import statsmodels.api as sm\n",
    "import numpy as np"
   ]
  },
  {
   "cell_type": "code",
   "execution_count": 7,
   "id": "670ea2f0",
   "metadata": {},
   "outputs": [
    {
     "data": {
      "text/html": [
       "<div>\n",
       "<style scoped>\n",
       "    .dataframe tbody tr th:only-of-type {\n",
       "        vertical-align: middle;\n",
       "    }\n",
       "\n",
       "    .dataframe tbody tr th {\n",
       "        vertical-align: top;\n",
       "    }\n",
       "\n",
       "    .dataframe thead th {\n",
       "        text-align: right;\n",
       "    }\n",
       "</style>\n",
       "<table border=\"1\" class=\"dataframe\">\n",
       "  <thead>\n",
       "    <tr style=\"text-align: right;\">\n",
       "      <th></th>\n",
       "      <th>TV</th>\n",
       "      <th>Radio</th>\n",
       "      <th>Newspaper</th>\n",
       "      <th>Sales</th>\n",
       "    </tr>\n",
       "  </thead>\n",
       "  <tbody>\n",
       "    <tr>\n",
       "      <th>0</th>\n",
       "      <td>230.1</td>\n",
       "      <td>37.8</td>\n",
       "      <td>69.2</td>\n",
       "      <td>22.1</td>\n",
       "    </tr>\n",
       "    <tr>\n",
       "      <th>1</th>\n",
       "      <td>44.5</td>\n",
       "      <td>39.3</td>\n",
       "      <td>45.1</td>\n",
       "      <td>10.4</td>\n",
       "    </tr>\n",
       "    <tr>\n",
       "      <th>2</th>\n",
       "      <td>17.2</td>\n",
       "      <td>45.9</td>\n",
       "      <td>69.3</td>\n",
       "      <td>9.3</td>\n",
       "    </tr>\n",
       "    <tr>\n",
       "      <th>3</th>\n",
       "      <td>151.5</td>\n",
       "      <td>41.3</td>\n",
       "      <td>58.5</td>\n",
       "      <td>18.5</td>\n",
       "    </tr>\n",
       "    <tr>\n",
       "      <th>4</th>\n",
       "      <td>180.8</td>\n",
       "      <td>10.8</td>\n",
       "      <td>58.4</td>\n",
       "      <td>12.9</td>\n",
       "    </tr>\n",
       "    <tr>\n",
       "      <th>...</th>\n",
       "      <td>...</td>\n",
       "      <td>...</td>\n",
       "      <td>...</td>\n",
       "      <td>...</td>\n",
       "    </tr>\n",
       "    <tr>\n",
       "      <th>195</th>\n",
       "      <td>38.2</td>\n",
       "      <td>3.7</td>\n",
       "      <td>13.8</td>\n",
       "      <td>7.6</td>\n",
       "    </tr>\n",
       "    <tr>\n",
       "      <th>196</th>\n",
       "      <td>94.2</td>\n",
       "      <td>4.9</td>\n",
       "      <td>8.1</td>\n",
       "      <td>9.7</td>\n",
       "    </tr>\n",
       "    <tr>\n",
       "      <th>197</th>\n",
       "      <td>177.0</td>\n",
       "      <td>9.3</td>\n",
       "      <td>6.4</td>\n",
       "      <td>12.8</td>\n",
       "    </tr>\n",
       "    <tr>\n",
       "      <th>198</th>\n",
       "      <td>283.6</td>\n",
       "      <td>42.0</td>\n",
       "      <td>66.2</td>\n",
       "      <td>25.5</td>\n",
       "    </tr>\n",
       "    <tr>\n",
       "      <th>199</th>\n",
       "      <td>232.1</td>\n",
       "      <td>8.6</td>\n",
       "      <td>8.7</td>\n",
       "      <td>13.4</td>\n",
       "    </tr>\n",
       "  </tbody>\n",
       "</table>\n",
       "<p>200 rows × 4 columns</p>\n",
       "</div>"
      ],
      "text/plain": [
       "        TV  Radio  Newspaper  Sales\n",
       "0    230.1   37.8       69.2   22.1\n",
       "1     44.5   39.3       45.1   10.4\n",
       "2     17.2   45.9       69.3    9.3\n",
       "3    151.5   41.3       58.5   18.5\n",
       "4    180.8   10.8       58.4   12.9\n",
       "..     ...    ...        ...    ...\n",
       "195   38.2    3.7       13.8    7.6\n",
       "196   94.2    4.9        8.1    9.7\n",
       "197  177.0    9.3        6.4   12.8\n",
       "198  283.6   42.0       66.2   25.5\n",
       "199  232.1    8.6        8.7   13.4\n",
       "\n",
       "[200 rows x 4 columns]"
      ]
     },
     "execution_count": 7,
     "metadata": {},
     "output_type": "execute_result"
    }
   ],
   "source": [
    "A=pd.read_csv('Advertising.csv')\n",
    "A"
   ]
  },
  {
   "cell_type": "code",
   "execution_count": 8,
   "id": "75f6c035",
   "metadata": {},
   "outputs": [],
   "source": [
    "X = sm.add_constant(A[['TV','Radio','Newspaper']])\n",
    "Y=A['Sales']"
   ]
  },
  {
   "cell_type": "code",
   "execution_count": 9,
   "id": "67de3342",
   "metadata": {},
   "outputs": [
    {
     "data": {
      "text/html": [
       "<div>\n",
       "<style scoped>\n",
       "    .dataframe tbody tr th:only-of-type {\n",
       "        vertical-align: middle;\n",
       "    }\n",
       "\n",
       "    .dataframe tbody tr th {\n",
       "        vertical-align: top;\n",
       "    }\n",
       "\n",
       "    .dataframe thead th {\n",
       "        text-align: right;\n",
       "    }\n",
       "</style>\n",
       "<table border=\"1\" class=\"dataframe\">\n",
       "  <thead>\n",
       "    <tr style=\"text-align: right;\">\n",
       "      <th></th>\n",
       "      <th>const</th>\n",
       "      <th>TV</th>\n",
       "      <th>Radio</th>\n",
       "      <th>Newspaper</th>\n",
       "    </tr>\n",
       "  </thead>\n",
       "  <tbody>\n",
       "    <tr>\n",
       "      <th>0</th>\n",
       "      <td>1.0</td>\n",
       "      <td>230.1</td>\n",
       "      <td>37.8</td>\n",
       "      <td>69.2</td>\n",
       "    </tr>\n",
       "    <tr>\n",
       "      <th>1</th>\n",
       "      <td>1.0</td>\n",
       "      <td>44.5</td>\n",
       "      <td>39.3</td>\n",
       "      <td>45.1</td>\n",
       "    </tr>\n",
       "    <tr>\n",
       "      <th>2</th>\n",
       "      <td>1.0</td>\n",
       "      <td>17.2</td>\n",
       "      <td>45.9</td>\n",
       "      <td>69.3</td>\n",
       "    </tr>\n",
       "    <tr>\n",
       "      <th>3</th>\n",
       "      <td>1.0</td>\n",
       "      <td>151.5</td>\n",
       "      <td>41.3</td>\n",
       "      <td>58.5</td>\n",
       "    </tr>\n",
       "    <tr>\n",
       "      <th>4</th>\n",
       "      <td>1.0</td>\n",
       "      <td>180.8</td>\n",
       "      <td>10.8</td>\n",
       "      <td>58.4</td>\n",
       "    </tr>\n",
       "  </tbody>\n",
       "</table>\n",
       "</div>"
      ],
      "text/plain": [
       "   const     TV  Radio  Newspaper\n",
       "0    1.0  230.1   37.8       69.2\n",
       "1    1.0   44.5   39.3       45.1\n",
       "2    1.0   17.2   45.9       69.3\n",
       "3    1.0  151.5   41.3       58.5\n",
       "4    1.0  180.8   10.8       58.4"
      ]
     },
     "execution_count": 9,
     "metadata": {},
     "output_type": "execute_result"
    }
   ],
   "source": [
    "X.head(5)"
   ]
  },
  {
   "cell_type": "code",
   "execution_count": 10,
   "id": "e80395e6",
   "metadata": {},
   "outputs": [
    {
     "data": {
      "text/plain": [
       "0      22.1\n",
       "1      10.4\n",
       "2       9.3\n",
       "3      18.5\n",
       "4      12.9\n",
       "       ... \n",
       "195     7.6\n",
       "196     9.7\n",
       "197    12.8\n",
       "198    25.5\n",
       "199    13.4\n",
       "Name: Sales, Length: 200, dtype: float64"
      ]
     },
     "execution_count": 10,
     "metadata": {},
     "output_type": "execute_result"
    }
   ],
   "source": [
    "Y"
   ]
  },
  {
   "cell_type": "code",
   "execution_count": 11,
   "id": "9c6ac6d8",
   "metadata": {},
   "outputs": [
    {
     "data": {
      "text/plain": [
       "const        2.938889\n",
       "TV           0.045765\n",
       "Radio        0.188530\n",
       "Newspaper   -0.001037\n",
       "dtype: float64"
      ]
     },
     "execution_count": 11,
     "metadata": {},
     "output_type": "execute_result"
    }
   ],
   "source": [
    "model = sm.OLS(Y,X).fit()\n",
    "model.params"
   ]
  },
  {
   "cell_type": "code",
   "execution_count": 12,
   "id": "c1bb8a9f",
   "metadata": {},
   "outputs": [
    {
     "data": {
      "text/html": [
       "<table class=\"simpletable\">\n",
       "<caption>OLS Regression Results</caption>\n",
       "<tr>\n",
       "  <th>Dep. Variable:</th>          <td>Sales</td>      <th>  R-squared:         </th> <td>   0.897</td>\n",
       "</tr>\n",
       "<tr>\n",
       "  <th>Model:</th>                   <td>OLS</td>       <th>  Adj. R-squared:    </th> <td>   0.896</td>\n",
       "</tr>\n",
       "<tr>\n",
       "  <th>Method:</th>             <td>Least Squares</td>  <th>  F-statistic:       </th> <td>   570.3</td>\n",
       "</tr>\n",
       "<tr>\n",
       "  <th>Date:</th>             <td>Thu, 17 Feb 2022</td> <th>  Prob (F-statistic):</th> <td>1.58e-96</td>\n",
       "</tr>\n",
       "<tr>\n",
       "  <th>Time:</th>                 <td>20:45:16</td>     <th>  Log-Likelihood:    </th> <td> -386.18</td>\n",
       "</tr>\n",
       "<tr>\n",
       "  <th>No. Observations:</th>      <td>   200</td>      <th>  AIC:               </th> <td>   780.4</td>\n",
       "</tr>\n",
       "<tr>\n",
       "  <th>Df Residuals:</th>          <td>   196</td>      <th>  BIC:               </th> <td>   793.6</td>\n",
       "</tr>\n",
       "<tr>\n",
       "  <th>Df Model:</th>              <td>     3</td>      <th>                     </th>     <td> </td>   \n",
       "</tr>\n",
       "<tr>\n",
       "  <th>Covariance Type:</th>      <td>nonrobust</td>    <th>                     </th>     <td> </td>   \n",
       "</tr>\n",
       "</table>\n",
       "<table class=\"simpletable\">\n",
       "<tr>\n",
       "      <td></td>         <th>coef</th>     <th>std err</th>      <th>t</th>      <th>P>|t|</th>  <th>[0.025</th>    <th>0.975]</th>  \n",
       "</tr>\n",
       "<tr>\n",
       "  <th>const</th>     <td>    2.9389</td> <td>    0.312</td> <td>    9.422</td> <td> 0.000</td> <td>    2.324</td> <td>    3.554</td>\n",
       "</tr>\n",
       "<tr>\n",
       "  <th>TV</th>        <td>    0.0458</td> <td>    0.001</td> <td>   32.809</td> <td> 0.000</td> <td>    0.043</td> <td>    0.049</td>\n",
       "</tr>\n",
       "<tr>\n",
       "  <th>Radio</th>     <td>    0.1885</td> <td>    0.009</td> <td>   21.893</td> <td> 0.000</td> <td>    0.172</td> <td>    0.206</td>\n",
       "</tr>\n",
       "<tr>\n",
       "  <th>Newspaper</th> <td>   -0.0010</td> <td>    0.006</td> <td>   -0.177</td> <td> 0.860</td> <td>   -0.013</td> <td>    0.011</td>\n",
       "</tr>\n",
       "</table>\n",
       "<table class=\"simpletable\">\n",
       "<tr>\n",
       "  <th>Omnibus:</th>       <td>60.414</td> <th>  Durbin-Watson:     </th> <td>   2.084</td>\n",
       "</tr>\n",
       "<tr>\n",
       "  <th>Prob(Omnibus):</th> <td> 0.000</td> <th>  Jarque-Bera (JB):  </th> <td> 151.241</td>\n",
       "</tr>\n",
       "<tr>\n",
       "  <th>Skew:</th>          <td>-1.327</td> <th>  Prob(JB):          </th> <td>1.44e-33</td>\n",
       "</tr>\n",
       "<tr>\n",
       "  <th>Kurtosis:</th>      <td> 6.332</td> <th>  Cond. No.          </th> <td>    454.</td>\n",
       "</tr>\n",
       "</table><br/><br/>Notes:<br/>[1] Standard Errors assume that the covariance matrix of the errors is correctly specified."
      ],
      "text/plain": [
       "<class 'statsmodels.iolib.summary.Summary'>\n",
       "\"\"\"\n",
       "                            OLS Regression Results                            \n",
       "==============================================================================\n",
       "Dep. Variable:                  Sales   R-squared:                       0.897\n",
       "Model:                            OLS   Adj. R-squared:                  0.896\n",
       "Method:                 Least Squares   F-statistic:                     570.3\n",
       "Date:                Thu, 17 Feb 2022   Prob (F-statistic):           1.58e-96\n",
       "Time:                        20:45:16   Log-Likelihood:                -386.18\n",
       "No. Observations:                 200   AIC:                             780.4\n",
       "Df Residuals:                     196   BIC:                             793.6\n",
       "Df Model:                           3                                         \n",
       "Covariance Type:            nonrobust                                         \n",
       "==============================================================================\n",
       "                 coef    std err          t      P>|t|      [0.025      0.975]\n",
       "------------------------------------------------------------------------------\n",
       "const          2.9389      0.312      9.422      0.000       2.324       3.554\n",
       "TV             0.0458      0.001     32.809      0.000       0.043       0.049\n",
       "Radio          0.1885      0.009     21.893      0.000       0.172       0.206\n",
       "Newspaper     -0.0010      0.006     -0.177      0.860      -0.013       0.011\n",
       "==============================================================================\n",
       "Omnibus:                       60.414   Durbin-Watson:                   2.084\n",
       "Prob(Omnibus):                  0.000   Jarque-Bera (JB):              151.241\n",
       "Skew:                          -1.327   Prob(JB):                     1.44e-33\n",
       "Kurtosis:                       6.332   Cond. No.                         454.\n",
       "==============================================================================\n",
       "\n",
       "Notes:\n",
       "[1] Standard Errors assume that the covariance matrix of the errors is correctly specified.\n",
       "\"\"\""
      ]
     },
     "execution_count": 12,
     "metadata": {},
     "output_type": "execute_result"
    }
   ],
   "source": [
    "model.summary()"
   ]
  },
  {
   "cell_type": "code",
   "execution_count": null,
   "id": "7a4e2caf",
   "metadata": {},
   "outputs": [],
   "source": []
  },
  {
   "cell_type": "markdown",
   "id": "cf920f82",
   "metadata": {},
   "source": [
    "### train test split"
   ]
  },
  {
   "cell_type": "code",
   "execution_count": 13,
   "id": "0a43a908",
   "metadata": {},
   "outputs": [],
   "source": [
    "from sklearn.model_selection import train_test_split"
   ]
  },
  {
   "cell_type": "code",
   "execution_count": 14,
   "id": "4426ee8b",
   "metadata": {},
   "outputs": [],
   "source": [
    "X_train, X_test, Y_train, Y_test = train_test_split(X, Y, test_size=0.3, random_state=101)"
   ]
  },
  {
   "cell_type": "code",
   "execution_count": 15,
   "id": "dda0a465",
   "metadata": {},
   "outputs": [],
   "source": [
    "model = sm.OLS(Y_train, X_train).fit()"
   ]
  },
  {
   "cell_type": "code",
   "execution_count": 16,
   "id": "5ab8fed7",
   "metadata": {},
   "outputs": [
    {
     "data": {
      "text/plain": [
       "const        3.151527\n",
       "TV           0.044696\n",
       "Radio        0.187566\n",
       "Newspaper   -0.000323\n",
       "dtype: float64"
      ]
     },
     "execution_count": 16,
     "metadata": {},
     "output_type": "execute_result"
    }
   ],
   "source": [
    "model.params"
   ]
  },
  {
   "cell_type": "code",
   "execution_count": 17,
   "id": "2012ff88",
   "metadata": {},
   "outputs": [
    {
     "data": {
      "text/plain": [
       "37     15.741313\n",
       "109    19.610626\n",
       "31     11.448889\n",
       "89     17.008198\n",
       "66      9.172857\n",
       "119     7.012483\n",
       "54     20.289925\n",
       "74     17.299540\n",
       "145     9.775845\n",
       "142    19.221942\n",
       "148    12.405032\n",
       "112    13.892350\n",
       "174    13.725411\n",
       "55     21.287940\n",
       "141    18.424566\n",
       "149     9.981984\n",
       "25     15.552290\n",
       "34      7.689137\n",
       "170     7.556150\n",
       "39     20.403112\n",
       "172     7.792152\n",
       "153    18.242141\n",
       "175    24.686319\n",
       "61     22.821991\n",
       "65      7.979621\n",
       "50     12.652073\n",
       "42     21.469259\n",
       "129     8.052286\n",
       "179    12.423160\n",
       "2      12.507197\n",
       "12     10.777578\n",
       "133    19.244601\n",
       "90     10.070269\n",
       "22      6.707800\n",
       "41     17.314921\n",
       "32      7.767643\n",
       "125     9.253933\n",
       "196     8.278347\n",
       "158    10.581056\n",
       "180    10.635911\n",
       "16     13.010026\n",
       "186     9.771921\n",
       "144    10.214699\n",
       "121     8.045720\n",
       "80     11.567107\n",
       "18     10.083680\n",
       "78      8.998066\n",
       "48     16.253889\n",
       "4      13.239423\n",
       "15     20.814934\n",
       "1      12.497274\n",
       "43     13.966159\n",
       "102    17.562851\n",
       "164    11.145370\n",
       "9      12.562615\n",
       "155     5.508703\n",
       "36     23.294651\n",
       "190    12.624097\n",
       "33     18.774000\n",
       "45     15.187857\n",
       "dtype: float64"
      ]
     },
     "execution_count": 17,
     "metadata": {},
     "output_type": "execute_result"
    }
   ],
   "source": [
    "predy = model.predict(X_test)\n",
    "predy"
   ]
  },
  {
   "cell_type": "markdown",
   "id": "963028a7",
   "metadata": {},
   "source": [
    "### perform evaluation"
   ]
  },
  {
   "cell_type": "code",
   "execution_count": 18,
   "id": "b3f8771d",
   "metadata": {},
   "outputs": [],
   "source": [
    "from sklearn.metrics import mean_absolute_error , mean_absolute_percentage_error"
   ]
  },
  {
   "cell_type": "code",
   "execution_count": 19,
   "id": "43b6c464",
   "metadata": {},
   "outputs": [
    {
     "data": {
      "text/plain": [
       "1.2137457736144808"
      ]
     },
     "execution_count": 19,
     "metadata": {},
     "output_type": "execute_result"
    }
   ],
   "source": [
    "MAE = mean_absolute_error(Y_test, predy)\n",
    "MAE"
   ]
  },
  {
   "cell_type": "code",
   "execution_count": 20,
   "id": "599c95f8",
   "metadata": {},
   "outputs": [
    {
     "data": {
      "text/plain": [
       "0.11831359130546636"
      ]
     },
     "execution_count": 20,
     "metadata": {},
     "output_type": "execute_result"
    }
   ],
   "source": [
    "MAPE = mean_absolute_percentage_error(Y_test, predy)\n",
    "MAPE"
   ]
  },
  {
   "cell_type": "code",
   "execution_count": null,
   "id": "db30ffc1",
   "metadata": {},
   "outputs": [],
   "source": []
  },
  {
   "cell_type": "markdown",
   "id": "cc5527d3",
   "metadata": {},
   "source": [
    "### polynomial regression"
   ]
  },
  {
   "cell_type": "code",
   "execution_count": 21,
   "id": "a8d0224b",
   "metadata": {},
   "outputs": [],
   "source": [
    "from sklearn.preprocessing import PolynomialFeatures"
   ]
  },
  {
   "cell_type": "code",
   "execution_count": 22,
   "id": "85bda801",
   "metadata": {},
   "outputs": [],
   "source": [
    "x=A.drop('Sales', axis=1)\n",
    "y = A['Sales']"
   ]
  },
  {
   "cell_type": "code",
   "execution_count": 23,
   "id": "3b559351",
   "metadata": {},
   "outputs": [
    {
     "data": {
      "text/plain": [
       "PolynomialFeatures()"
      ]
     },
     "execution_count": 23,
     "metadata": {},
     "output_type": "execute_result"
    }
   ],
   "source": [
    "poly_instance = PolynomialFeatures(degree=2, include_bias=True)\n",
    "poly_instance.fit(x)"
   ]
  },
  {
   "cell_type": "code",
   "execution_count": 24,
   "id": "c13ac985",
   "metadata": {},
   "outputs": [
    {
     "data": {
      "text/plain": [
       "array([[1.00000e+00, 2.30100e+02, 3.78000e+01, ..., 1.42884e+03,\n",
       "        2.61576e+03, 4.78864e+03],\n",
       "       [1.00000e+00, 4.45000e+01, 3.93000e+01, ..., 1.54449e+03,\n",
       "        1.77243e+03, 2.03401e+03],\n",
       "       [1.00000e+00, 1.72000e+01, 4.59000e+01, ..., 2.10681e+03,\n",
       "        3.18087e+03, 4.80249e+03],\n",
       "       ...,\n",
       "       [1.00000e+00, 1.77000e+02, 9.30000e+00, ..., 8.64900e+01,\n",
       "        5.95200e+01, 4.09600e+01],\n",
       "       [1.00000e+00, 2.83600e+02, 4.20000e+01, ..., 1.76400e+03,\n",
       "        2.78040e+03, 4.38244e+03],\n",
       "       [1.00000e+00, 2.32100e+02, 8.60000e+00, ..., 7.39600e+01,\n",
       "        7.48200e+01, 7.56900e+01]])"
      ]
     },
     "execution_count": 24,
     "metadata": {},
     "output_type": "execute_result"
    }
   ],
   "source": [
    "poly_features = poly_instance.transform(x)\n",
    "poly_features"
   ]
  },
  {
   "cell_type": "code",
   "execution_count": 25,
   "id": "8c4a880b",
   "metadata": {},
   "outputs": [
    {
     "data": {
      "text/plain": [
       "array([1.000000e+00, 2.301000e+02, 3.780000e+01, 6.920000e+01,\n",
       "       5.294601e+04, 8.697780e+03, 1.592292e+04, 1.428840e+03,\n",
       "       2.615760e+03, 4.788640e+03])"
      ]
     },
     "execution_count": 25,
     "metadata": {},
     "output_type": "execute_result"
    }
   ],
   "source": [
    "# x1 ,x2, x3\n",
    "# x1^2, x1*x2, x1*x3\n",
    "# x2^2, x2*x3\n",
    "# x3^2\n",
    "\n",
    "\n",
    "poly_features[0]"
   ]
  },
  {
   "cell_type": "code",
   "execution_count": 26,
   "id": "f8f32756",
   "metadata": {},
   "outputs": [
    {
     "data": {
      "text/plain": [
       "(200, 3)"
      ]
     },
     "execution_count": 26,
     "metadata": {},
     "output_type": "execute_result"
    }
   ],
   "source": [
    "x.shape"
   ]
  },
  {
   "cell_type": "code",
   "execution_count": 27,
   "id": "22484349",
   "metadata": {},
   "outputs": [
    {
     "data": {
      "text/plain": [
       "(200, 10)"
      ]
     },
     "execution_count": 27,
     "metadata": {},
     "output_type": "execute_result"
    }
   ],
   "source": [
    "poly_features.shape"
   ]
  },
  {
   "cell_type": "code",
   "execution_count": 28,
   "id": "ada6ba5c",
   "metadata": {},
   "outputs": [
    {
     "data": {
      "text/plain": [
       "const    5.084782\n",
       "x1       0.051653\n",
       "x2       0.021074\n",
       "x3       0.006884\n",
       "x4      -0.000110\n",
       "x5       0.001105\n",
       "x6      -0.000046\n",
       "x7       0.000112\n",
       "x8       0.000083\n",
       "x9       0.000012\n",
       "dtype: float64"
      ]
     },
     "execution_count": 28,
     "metadata": {},
     "output_type": "execute_result"
    }
   ],
   "source": [
    "model = sm.OLS(y, poly_features).fit()\n",
    "model.params"
   ]
  },
  {
   "cell_type": "code",
   "execution_count": 29,
   "id": "9b7c894b",
   "metadata": {},
   "outputs": [
    {
     "data": {
      "text/html": [
       "<table class=\"simpletable\">\n",
       "<caption>OLS Regression Results</caption>\n",
       "<tr>\n",
       "  <th>Dep. Variable:</th>          <td>Sales</td>      <th>  R-squared:         </th> <td>   0.987</td> \n",
       "</tr>\n",
       "<tr>\n",
       "  <th>Model:</th>                   <td>OLS</td>       <th>  Adj. R-squared:    </th> <td>   0.986</td> \n",
       "</tr>\n",
       "<tr>\n",
       "  <th>Method:</th>             <td>Least Squares</td>  <th>  F-statistic:       </th> <td>   1543.</td> \n",
       "</tr>\n",
       "<tr>\n",
       "  <th>Date:</th>             <td>Thu, 17 Feb 2022</td> <th>  Prob (F-statistic):</th> <td>1.72e-172</td>\n",
       "</tr>\n",
       "<tr>\n",
       "  <th>Time:</th>                 <td>20:45:17</td>     <th>  Log-Likelihood:    </th> <td> -183.14</td> \n",
       "</tr>\n",
       "<tr>\n",
       "  <th>No. Observations:</th>      <td>   200</td>      <th>  AIC:               </th> <td>   386.3</td> \n",
       "</tr>\n",
       "<tr>\n",
       "  <th>Df Residuals:</th>          <td>   190</td>      <th>  BIC:               </th> <td>   419.3</td> \n",
       "</tr>\n",
       "<tr>\n",
       "  <th>Df Model:</th>              <td>     9</td>      <th>                     </th>     <td> </td>    \n",
       "</tr>\n",
       "<tr>\n",
       "  <th>Covariance Type:</th>      <td>nonrobust</td>    <th>                     </th>     <td> </td>    \n",
       "</tr>\n",
       "</table>\n",
       "<table class=\"simpletable\">\n",
       "<tr>\n",
       "    <td></td>       <th>coef</th>     <th>std err</th>      <th>t</th>      <th>P>|t|</th>  <th>[0.025</th>    <th>0.975]</th>  \n",
       "</tr>\n",
       "<tr>\n",
       "  <th>const</th> <td>    5.0848</td> <td>    0.239</td> <td>   21.279</td> <td> 0.000</td> <td>    4.613</td> <td>    5.556</td>\n",
       "</tr>\n",
       "<tr>\n",
       "  <th>x1</th>    <td>    0.0517</td> <td>    0.002</td> <td>   22.997</td> <td> 0.000</td> <td>    0.047</td> <td>    0.056</td>\n",
       "</tr>\n",
       "<tr>\n",
       "  <th>x2</th>    <td>    0.0211</td> <td>    0.013</td> <td>    1.675</td> <td> 0.096</td> <td>   -0.004</td> <td>    0.046</td>\n",
       "</tr>\n",
       "<tr>\n",
       "  <th>x3</th>    <td>    0.0069</td> <td>    0.008</td> <td>    0.863</td> <td> 0.389</td> <td>   -0.009</td> <td>    0.023</td>\n",
       "</tr>\n",
       "<tr>\n",
       "  <th>x4</th>    <td>   -0.0001</td> <td> 6.95e-06</td> <td>  -15.778</td> <td> 0.000</td> <td>   -0.000</td> <td> -9.6e-05</td>\n",
       "</tr>\n",
       "<tr>\n",
       "  <th>x5</th>    <td>    0.0011</td> <td> 3.81e-05</td> <td>   29.043</td> <td> 0.000</td> <td>    0.001</td> <td>    0.001</td>\n",
       "</tr>\n",
       "<tr>\n",
       "  <th>x6</th>    <td>-4.552e-05</td> <td> 2.38e-05</td> <td>   -1.915</td> <td> 0.057</td> <td>-9.24e-05</td> <td> 1.37e-06</td>\n",
       "</tr>\n",
       "<tr>\n",
       "  <th>x7</th>    <td>    0.0001</td> <td>    0.000</td> <td>    0.458</td> <td> 0.647</td> <td>   -0.000</td> <td>    0.001</td>\n",
       "</tr>\n",
       "<tr>\n",
       "  <th>x8</th>    <td> 8.266e-05</td> <td>    0.000</td> <td>    0.486</td> <td> 0.628</td> <td>   -0.000</td> <td>    0.000</td>\n",
       "</tr>\n",
       "<tr>\n",
       "  <th>x9</th>    <td> 1.191e-05</td> <td> 7.34e-05</td> <td>    0.162</td> <td> 0.871</td> <td>   -0.000</td> <td>    0.000</td>\n",
       "</tr>\n",
       "</table>\n",
       "<table class=\"simpletable\">\n",
       "<tr>\n",
       "  <th>Omnibus:</th>       <td>145.912</td> <th>  Durbin-Watson:     </th> <td>   2.136</td>\n",
       "</tr>\n",
       "<tr>\n",
       "  <th>Prob(Omnibus):</th> <td> 0.000</td>  <th>  Jarque-Bera (JB):  </th> <td>2613.928</td>\n",
       "</tr>\n",
       "<tr>\n",
       "  <th>Skew:</th>          <td>-2.477</td>  <th>  Prob(JB):          </th> <td>    0.00</td>\n",
       "</tr>\n",
       "<tr>\n",
       "  <th>Kurtosis:</th>      <td>20.004</td>  <th>  Cond. No.          </th> <td>2.14e+05</td>\n",
       "</tr>\n",
       "</table><br/><br/>Notes:<br/>[1] Standard Errors assume that the covariance matrix of the errors is correctly specified.<br/>[2] The condition number is large, 2.14e+05. This might indicate that there are<br/>strong multicollinearity or other numerical problems."
      ],
      "text/plain": [
       "<class 'statsmodels.iolib.summary.Summary'>\n",
       "\"\"\"\n",
       "                            OLS Regression Results                            \n",
       "==============================================================================\n",
       "Dep. Variable:                  Sales   R-squared:                       0.987\n",
       "Model:                            OLS   Adj. R-squared:                  0.986\n",
       "Method:                 Least Squares   F-statistic:                     1543.\n",
       "Date:                Thu, 17 Feb 2022   Prob (F-statistic):          1.72e-172\n",
       "Time:                        20:45:17   Log-Likelihood:                -183.14\n",
       "No. Observations:                 200   AIC:                             386.3\n",
       "Df Residuals:                     190   BIC:                             419.3\n",
       "Df Model:                           9                                         \n",
       "Covariance Type:            nonrobust                                         \n",
       "==============================================================================\n",
       "                 coef    std err          t      P>|t|      [0.025      0.975]\n",
       "------------------------------------------------------------------------------\n",
       "const          5.0848      0.239     21.279      0.000       4.613       5.556\n",
       "x1             0.0517      0.002     22.997      0.000       0.047       0.056\n",
       "x2             0.0211      0.013      1.675      0.096      -0.004       0.046\n",
       "x3             0.0069      0.008      0.863      0.389      -0.009       0.023\n",
       "x4            -0.0001   6.95e-06    -15.778      0.000      -0.000    -9.6e-05\n",
       "x5             0.0011   3.81e-05     29.043      0.000       0.001       0.001\n",
       "x6         -4.552e-05   2.38e-05     -1.915      0.057   -9.24e-05    1.37e-06\n",
       "x7             0.0001      0.000      0.458      0.647      -0.000       0.001\n",
       "x8          8.266e-05      0.000      0.486      0.628      -0.000       0.000\n",
       "x9          1.191e-05   7.34e-05      0.162      0.871      -0.000       0.000\n",
       "==============================================================================\n",
       "Omnibus:                      145.912   Durbin-Watson:                   2.136\n",
       "Prob(Omnibus):                  0.000   Jarque-Bera (JB):             2613.928\n",
       "Skew:                          -2.477   Prob(JB):                         0.00\n",
       "Kurtosis:                      20.004   Cond. No.                     2.14e+05\n",
       "==============================================================================\n",
       "\n",
       "Notes:\n",
       "[1] Standard Errors assume that the covariance matrix of the errors is correctly specified.\n",
       "[2] The condition number is large, 2.14e+05. This might indicate that there are\n",
       "strong multicollinearity or other numerical problems.\n",
       "\"\"\""
      ]
     },
     "execution_count": 29,
     "metadata": {},
     "output_type": "execute_result"
    }
   ],
   "source": [
    "model.summary()"
   ]
  },
  {
   "cell_type": "markdown",
   "id": "fec324e3",
   "metadata": {},
   "source": [
    "### train test split"
   ]
  },
  {
   "cell_type": "code",
   "execution_count": 30,
   "id": "dc6cbe58",
   "metadata": {},
   "outputs": [],
   "source": [
    "from sklearn.model_selection import train_test_split"
   ]
  },
  {
   "cell_type": "code",
   "execution_count": 31,
   "id": "bff6bca0",
   "metadata": {},
   "outputs": [],
   "source": [
    "x=poly_features\n"
   ]
  },
  {
   "cell_type": "code",
   "execution_count": 32,
   "id": "29ebac91",
   "metadata": {},
   "outputs": [],
   "source": [
    "Xtrain, Xtest, Ytrain, Ytest = train_test_split(x, y, test_size=0.3, random_state=101)"
   ]
  },
  {
   "cell_type": "code",
   "execution_count": 33,
   "id": "18f106e4",
   "metadata": {},
   "outputs": [],
   "source": [
    "model = sm.OLS(Ytrain, Xtrain).fit()"
   ]
  },
  {
   "cell_type": "code",
   "execution_count": 34,
   "id": "213b9b90",
   "metadata": {},
   "outputs": [
    {
     "data": {
      "text/plain": [
       "const    5.125557\n",
       "x1       0.051710\n",
       "x2       0.013085\n",
       "x3       0.012000\n",
       "x4      -0.000111\n",
       "x5       0.001142\n",
       "x6      -0.000052\n",
       "x7       0.000033\n",
       "x8       0.000146\n",
       "x9      -0.000030\n",
       "dtype: float64"
      ]
     },
     "execution_count": 34,
     "metadata": {},
     "output_type": "execute_result"
    }
   ],
   "source": [
    "model.params"
   ]
  },
  {
   "cell_type": "code",
   "execution_count": 35,
   "id": "be2280e4",
   "metadata": {},
   "outputs": [
    {
     "data": {
      "text/html": [
       "<table class=\"simpletable\">\n",
       "<caption>OLS Regression Results</caption>\n",
       "<tr>\n",
       "  <th>Dep. Variable:</th>          <td>Sales</td>      <th>  R-squared:         </th> <td>   0.987</td> \n",
       "</tr>\n",
       "<tr>\n",
       "  <th>Model:</th>                   <td>OLS</td>       <th>  Adj. R-squared:    </th> <td>   0.986</td> \n",
       "</tr>\n",
       "<tr>\n",
       "  <th>Method:</th>             <td>Least Squares</td>  <th>  F-statistic:       </th> <td>   1085.</td> \n",
       "</tr>\n",
       "<tr>\n",
       "  <th>Date:</th>             <td>Thu, 17 Feb 2022</td> <th>  Prob (F-statistic):</th> <td>1.03e-117</td>\n",
       "</tr>\n",
       "<tr>\n",
       "  <th>Time:</th>                 <td>20:45:17</td>     <th>  Log-Likelihood:    </th> <td> -124.30</td> \n",
       "</tr>\n",
       "<tr>\n",
       "  <th>No. Observations:</th>      <td>   140</td>      <th>  AIC:               </th> <td>   268.6</td> \n",
       "</tr>\n",
       "<tr>\n",
       "  <th>Df Residuals:</th>          <td>   130</td>      <th>  BIC:               </th> <td>   298.0</td> \n",
       "</tr>\n",
       "<tr>\n",
       "  <th>Df Model:</th>              <td>     9</td>      <th>                     </th>     <td> </td>    \n",
       "</tr>\n",
       "<tr>\n",
       "  <th>Covariance Type:</th>      <td>nonrobust</td>    <th>                     </th>     <td> </td>    \n",
       "</tr>\n",
       "</table>\n",
       "<table class=\"simpletable\">\n",
       "<tr>\n",
       "    <td></td>       <th>coef</th>     <th>std err</th>      <th>t</th>      <th>P>|t|</th>  <th>[0.025</th>    <th>0.975]</th>  \n",
       "</tr>\n",
       "<tr>\n",
       "  <th>const</th> <td>    5.1256</td> <td>    0.278</td> <td>   18.462</td> <td> 0.000</td> <td>    4.576</td> <td>    5.675</td>\n",
       "</tr>\n",
       "<tr>\n",
       "  <th>x1</th>    <td>    0.0517</td> <td>    0.003</td> <td>   19.022</td> <td> 0.000</td> <td>    0.046</td> <td>    0.057</td>\n",
       "</tr>\n",
       "<tr>\n",
       "  <th>x2</th>    <td>    0.0131</td> <td>    0.015</td> <td>    0.876</td> <td> 0.383</td> <td>   -0.016</td> <td>    0.043</td>\n",
       "</tr>\n",
       "<tr>\n",
       "  <th>x3</th>    <td>    0.0120</td> <td>    0.010</td> <td>    1.205</td> <td> 0.230</td> <td>   -0.008</td> <td>    0.032</td>\n",
       "</tr>\n",
       "<tr>\n",
       "  <th>x4</th>    <td>   -0.0001</td> <td> 8.53e-06</td> <td>  -13.002</td> <td> 0.000</td> <td>   -0.000</td> <td> -9.4e-05</td>\n",
       "</tr>\n",
       "<tr>\n",
       "  <th>x5</th>    <td>    0.0011</td> <td> 4.58e-05</td> <td>   24.928</td> <td> 0.000</td> <td>    0.001</td> <td>    0.001</td>\n",
       "</tr>\n",
       "<tr>\n",
       "  <th>x6</th>    <td>-5.241e-05</td> <td>  3.1e-05</td> <td>   -1.688</td> <td> 0.094</td> <td>   -0.000</td> <td>    9e-06</td>\n",
       "</tr>\n",
       "<tr>\n",
       "  <th>x7</th>    <td> 3.349e-05</td> <td>    0.000</td> <td>    0.115</td> <td> 0.908</td> <td>   -0.001</td> <td>    0.001</td>\n",
       "</tr>\n",
       "<tr>\n",
       "  <th>x8</th>    <td>    0.0001</td> <td>    0.000</td> <td>    0.749</td> <td> 0.455</td> <td>   -0.000</td> <td>    0.001</td>\n",
       "</tr>\n",
       "<tr>\n",
       "  <th>x9</th>    <td>-3.047e-05</td> <td>    0.000</td> <td>   -0.300</td> <td> 0.765</td> <td>   -0.000</td> <td>    0.000</td>\n",
       "</tr>\n",
       "</table>\n",
       "<table class=\"simpletable\">\n",
       "<tr>\n",
       "  <th>Omnibus:</th>       <td>116.816</td> <th>  Durbin-Watson:     </th> <td>   2.071</td>\n",
       "</tr>\n",
       "<tr>\n",
       "  <th>Prob(Omnibus):</th> <td> 0.000</td>  <th>  Jarque-Bera (JB):  </th> <td>2216.031</td>\n",
       "</tr>\n",
       "<tr>\n",
       "  <th>Skew:</th>          <td>-2.656</td>  <th>  Prob(JB):          </th> <td>    0.00</td>\n",
       "</tr>\n",
       "<tr>\n",
       "  <th>Kurtosis:</th>      <td>21.753</td>  <th>  Cond. No.          </th> <td>2.16e+05</td>\n",
       "</tr>\n",
       "</table><br/><br/>Notes:<br/>[1] Standard Errors assume that the covariance matrix of the errors is correctly specified.<br/>[2] The condition number is large, 2.16e+05. This might indicate that there are<br/>strong multicollinearity or other numerical problems."
      ],
      "text/plain": [
       "<class 'statsmodels.iolib.summary.Summary'>\n",
       "\"\"\"\n",
       "                            OLS Regression Results                            \n",
       "==============================================================================\n",
       "Dep. Variable:                  Sales   R-squared:                       0.987\n",
       "Model:                            OLS   Adj. R-squared:                  0.986\n",
       "Method:                 Least Squares   F-statistic:                     1085.\n",
       "Date:                Thu, 17 Feb 2022   Prob (F-statistic):          1.03e-117\n",
       "Time:                        20:45:17   Log-Likelihood:                -124.30\n",
       "No. Observations:                 140   AIC:                             268.6\n",
       "Df Residuals:                     130   BIC:                             298.0\n",
       "Df Model:                           9                                         \n",
       "Covariance Type:            nonrobust                                         \n",
       "==============================================================================\n",
       "                 coef    std err          t      P>|t|      [0.025      0.975]\n",
       "------------------------------------------------------------------------------\n",
       "const          5.1256      0.278     18.462      0.000       4.576       5.675\n",
       "x1             0.0517      0.003     19.022      0.000       0.046       0.057\n",
       "x2             0.0131      0.015      0.876      0.383      -0.016       0.043\n",
       "x3             0.0120      0.010      1.205      0.230      -0.008       0.032\n",
       "x4            -0.0001   8.53e-06    -13.002      0.000      -0.000    -9.4e-05\n",
       "x5             0.0011   4.58e-05     24.928      0.000       0.001       0.001\n",
       "x6         -5.241e-05    3.1e-05     -1.688      0.094      -0.000       9e-06\n",
       "x7          3.349e-05      0.000      0.115      0.908      -0.001       0.001\n",
       "x8             0.0001      0.000      0.749      0.455      -0.000       0.001\n",
       "x9         -3.047e-05      0.000     -0.300      0.765      -0.000       0.000\n",
       "==============================================================================\n",
       "Omnibus:                      116.816   Durbin-Watson:                   2.071\n",
       "Prob(Omnibus):                  0.000   Jarque-Bera (JB):             2216.031\n",
       "Skew:                          -2.656   Prob(JB):                         0.00\n",
       "Kurtosis:                      21.753   Cond. No.                     2.16e+05\n",
       "==============================================================================\n",
       "\n",
       "Notes:\n",
       "[1] Standard Errors assume that the covariance matrix of the errors is correctly specified.\n",
       "[2] The condition number is large, 2.16e+05. This might indicate that there are\n",
       "strong multicollinearity or other numerical problems.\n",
       "\"\"\""
      ]
     },
     "execution_count": 35,
     "metadata": {},
     "output_type": "execute_result"
    }
   ],
   "source": [
    "model.summary()"
   ]
  },
  {
   "cell_type": "code",
   "execution_count": 36,
   "id": "1c1cea8a",
   "metadata": {},
   "outputs": [
    {
     "data": {
      "text/plain": [
       "array([13.94856153, 19.33480262, 12.31928162, 16.76286337,  7.90210901,\n",
       "        6.94143792, 20.13372693, 17.50092709, 10.56889   , 20.12551788,\n",
       "        9.44614537, 14.09935417, 12.05513493, 23.39254049, 19.67508393,\n",
       "        9.15626258, 12.1163732 ,  9.28149557,  8.44604007, 21.65588129,\n",
       "        7.05070331, 19.35854208, 27.26716369, 24.58689346,  9.03179421,\n",
       "       11.81070232, 20.42630125,  9.19390639, 12.74795186,  8.64340674,\n",
       "        8.66294151, 20.20047377, 10.93673817,  6.84639129, 18.27939359,\n",
       "        9.47659449, 10.34242145,  9.6657038 ,  7.43347915, 11.03561332,\n",
       "       12.65731013, 10.65459946, 11.20971496,  7.46199023, 11.38224982,\n",
       "       10.27331262,  6.15573251, 15.50893362, 13.36092889, 22.71839277,\n",
       "       10.40389682, 13.21622701, 14.23622207, 11.8723677 , 11.68463616,\n",
       "        5.62217738, 25.03778913,  9.53507734, 17.37926571, 15.7534364 ])"
      ]
     },
     "execution_count": 36,
     "metadata": {},
     "output_type": "execute_result"
    }
   ],
   "source": [
    "predY = model.predict(Xtest)\n",
    "predY"
   ]
  },
  {
   "cell_type": "code",
   "execution_count": 37,
   "id": "34aff132",
   "metadata": {},
   "outputs": [
    {
     "data": {
      "text/plain": [
       "0.4896798044803869"
      ]
     },
     "execution_count": 37,
     "metadata": {},
     "output_type": "execute_result"
    }
   ],
   "source": [
    "MAE = mean_absolute_error(Ytest,predY)\n",
    "MAE"
   ]
  },
  {
   "cell_type": "code",
   "execution_count": 38,
   "id": "27d7797f",
   "metadata": {},
   "outputs": [
    {
     "data": {
      "text/plain": [
       "0.05375511765333338"
      ]
     },
     "execution_count": 38,
     "metadata": {},
     "output_type": "execute_result"
    }
   ],
   "source": [
    "MAPE = mean_absolute_percentage_error(Ytest, predY)\n",
    "MAPE"
   ]
  },
  {
   "cell_type": "code",
   "execution_count": null,
   "id": "c2739121",
   "metadata": {},
   "outputs": [],
   "source": []
  },
  {
   "cell_type": "code",
   "execution_count": 39,
   "id": "82befcef",
   "metadata": {},
   "outputs": [
    {
     "data": {
      "text/html": [
       "<div>\n",
       "<style scoped>\n",
       "    .dataframe tbody tr th:only-of-type {\n",
       "        vertical-align: middle;\n",
       "    }\n",
       "\n",
       "    .dataframe tbody tr th {\n",
       "        vertical-align: top;\n",
       "    }\n",
       "\n",
       "    .dataframe thead th {\n",
       "        text-align: right;\n",
       "    }\n",
       "</style>\n",
       "<table border=\"1\" class=\"dataframe\">\n",
       "  <thead>\n",
       "    <tr style=\"text-align: right;\">\n",
       "      <th></th>\n",
       "      <th>TV</th>\n",
       "      <th>Radio</th>\n",
       "      <th>Newspaper</th>\n",
       "      <th>Sales</th>\n",
       "    </tr>\n",
       "  </thead>\n",
       "  <tbody>\n",
       "    <tr>\n",
       "      <th>0</th>\n",
       "      <td>230.1</td>\n",
       "      <td>37.8</td>\n",
       "      <td>69.2</td>\n",
       "      <td>22.1</td>\n",
       "    </tr>\n",
       "    <tr>\n",
       "      <th>1</th>\n",
       "      <td>44.5</td>\n",
       "      <td>39.3</td>\n",
       "      <td>45.1</td>\n",
       "      <td>10.4</td>\n",
       "    </tr>\n",
       "    <tr>\n",
       "      <th>2</th>\n",
       "      <td>17.2</td>\n",
       "      <td>45.9</td>\n",
       "      <td>69.3</td>\n",
       "      <td>9.3</td>\n",
       "    </tr>\n",
       "    <tr>\n",
       "      <th>3</th>\n",
       "      <td>151.5</td>\n",
       "      <td>41.3</td>\n",
       "      <td>58.5</td>\n",
       "      <td>18.5</td>\n",
       "    </tr>\n",
       "    <tr>\n",
       "      <th>4</th>\n",
       "      <td>180.8</td>\n",
       "      <td>10.8</td>\n",
       "      <td>58.4</td>\n",
       "      <td>12.9</td>\n",
       "    </tr>\n",
       "    <tr>\n",
       "      <th>...</th>\n",
       "      <td>...</td>\n",
       "      <td>...</td>\n",
       "      <td>...</td>\n",
       "      <td>...</td>\n",
       "    </tr>\n",
       "    <tr>\n",
       "      <th>195</th>\n",
       "      <td>38.2</td>\n",
       "      <td>3.7</td>\n",
       "      <td>13.8</td>\n",
       "      <td>7.6</td>\n",
       "    </tr>\n",
       "    <tr>\n",
       "      <th>196</th>\n",
       "      <td>94.2</td>\n",
       "      <td>4.9</td>\n",
       "      <td>8.1</td>\n",
       "      <td>9.7</td>\n",
       "    </tr>\n",
       "    <tr>\n",
       "      <th>197</th>\n",
       "      <td>177.0</td>\n",
       "      <td>9.3</td>\n",
       "      <td>6.4</td>\n",
       "      <td>12.8</td>\n",
       "    </tr>\n",
       "    <tr>\n",
       "      <th>198</th>\n",
       "      <td>283.6</td>\n",
       "      <td>42.0</td>\n",
       "      <td>66.2</td>\n",
       "      <td>25.5</td>\n",
       "    </tr>\n",
       "    <tr>\n",
       "      <th>199</th>\n",
       "      <td>232.1</td>\n",
       "      <td>8.6</td>\n",
       "      <td>8.7</td>\n",
       "      <td>13.4</td>\n",
       "    </tr>\n",
       "  </tbody>\n",
       "</table>\n",
       "<p>200 rows × 4 columns</p>\n",
       "</div>"
      ],
      "text/plain": [
       "        TV  Radio  Newspaper  Sales\n",
       "0    230.1   37.8       69.2   22.1\n",
       "1     44.5   39.3       45.1   10.4\n",
       "2     17.2   45.9       69.3    9.3\n",
       "3    151.5   41.3       58.5   18.5\n",
       "4    180.8   10.8       58.4   12.9\n",
       "..     ...    ...        ...    ...\n",
       "195   38.2    3.7       13.8    7.6\n",
       "196   94.2    4.9        8.1    9.7\n",
       "197  177.0    9.3        6.4   12.8\n",
       "198  283.6   42.0       66.2   25.5\n",
       "199  232.1    8.6        8.7   13.4\n",
       "\n",
       "[200 rows x 4 columns]"
      ]
     },
     "execution_count": 39,
     "metadata": {},
     "output_type": "execute_result"
    }
   ],
   "source": [
    "a=pd.read_csv('Advertising.csv')\n",
    "a"
   ]
  },
  {
   "cell_type": "code",
   "execution_count": 40,
   "id": "51300419",
   "metadata": {},
   "outputs": [],
   "source": [
    "x1= a.drop('Sales', axis = 1)\n",
    "y1=a['Sales']"
   ]
  },
  {
   "cell_type": "code",
   "execution_count": 53,
   "id": "95b080ea",
   "metadata": {},
   "outputs": [],
   "source": [
    "train_mapelst=[]\n",
    "test_mapelst=[]\n",
    "\n",
    "for i in range(1,10):\n",
    "    polyinst = PolynomialFeatures(degree=i, include_bias=False)\n",
    "    \n",
    "    polyfea = polyinst.fit_transform(x1)\n",
    "    \n",
    "    x1train, x1test, y1train, y1test = train_test_split(polyfea, y1, train_size=0.7, random_state=101)\n",
    "    \n",
    "    model2 = sm.OLS(y1train, x1train).fit()\n",
    "    \n",
    "    trainpred = model2.predict(x1train)\n",
    "    testpred = model2.predict(x1test)\n",
    "    \n",
    "    trainmape = mean_absolute_percentage_error(y1train, trainpred)\n",
    "    testmape = mean_absolute_percentage_error(y1test, testpred)\n",
    "    \n",
    "    train_mapelst.append(trainmape)\n",
    "    test_mapelst.append(testmape)\n",
    "    "
   ]
  },
  {
   "cell_type": "code",
   "execution_count": 54,
   "id": "3833c0b7",
   "metadata": {},
   "outputs": [
    {
     "data": {
      "text/plain": [
       "[0.1827167080846376,\n",
       " 0.0904295994757511,\n",
       " 0.050175524512813825,\n",
       " 0.03509515049113202,\n",
       " 0.021116776496466087,\n",
       " 0.014076036612882772,\n",
       " 0.033436522319041456,\n",
       " 0.04526648322964182,\n",
       " 0.0463845360479418]"
      ]
     },
     "execution_count": 54,
     "metadata": {},
     "output_type": "execute_result"
    }
   ],
   "source": [
    "train_mapelst"
   ]
  },
  {
   "cell_type": "code",
   "execution_count": 55,
   "id": "3bfd1f43",
   "metadata": {},
   "outputs": [
    {
     "data": {
      "text/plain": [
       "[0.13732614904047244,\n",
       " 0.08561610718369451,\n",
       " 0.050625485259520916,\n",
       " 0.03658839861622644,\n",
       " 0.06800600601666716,\n",
       " 0.10587541606152724,\n",
       " 5.833272296852982,\n",
       " 265.51208366461407,\n",
       " 3411.818269546468]"
      ]
     },
     "execution_count": 55,
     "metadata": {},
     "output_type": "execute_result"
    }
   ],
   "source": [
    "test_mapelst"
   ]
  },
  {
   "cell_type": "code",
   "execution_count": 56,
   "id": "b49114be",
   "metadata": {},
   "outputs": [
    {
     "data": {
      "image/png": "[encoded data removed]",
      "text/plain": [
       "<Figure size 432x288 with 1 Axes>"
      ]
     },
     "metadata": {
      "needs_background": "light"
     },
     "output_type": "display_data"
    }
   ],
   "source": [
    "import matplotlib.pyplot as plt\n",
    "plt.plot(range(1,7), train_mapelst[:6], label='Train MAPE')\n",
    "plt.plot(range(1,7), test_mapelst[:6], label='Test MAPE')\n",
    "plt.xlabel('Degree of poly')\n",
    "plt.ylabel('MAPE')\n",
    "plt.legend()\n",
    "plt.show()"
   ]
  },
  {
   "cell_type": "code",
   "execution_count": 57,
   "id": "1bb5a190",
   "metadata": {},
   "outputs": [],
   "source": [
    "data = pd.read_csv('Advertising.csv')\n",
    "df=pd.DataFrame(data = data)\n",
    "\n",
    "x2 = df.drop('Sales', axis = 1)\n",
    "y2 = df['Sales']"
   ]
  },
  {
   "cell_type": "code",
   "execution_count": 58,
   "id": "660a6383",
   "metadata": {},
   "outputs": [],
   "source": [
    "finalpins = PolynomialFeatures(degree = 3, include_bias=False)\n",
    "finalpfea = finalpins.fit_transform(x2)"
   ]
  },
  {
   "cell_type": "code",
   "execution_count": 69,
   "id": "e2542f63",
   "metadata": {},
   "outputs": [
    {
     "data": {
      "text/plain": [
       "x1     1.261988e-01\n",
       "x2     2.198370e-01\n",
       "x3     1.234717e-01\n",
       "x4    -5.697323e-04\n",
       "x5     5.323155e-04\n",
       "x6    -6.190489e-04\n",
       "x7    -2.906033e-03\n",
       "x8    -4.495668e-03\n",
       "x9    -3.366549e-04\n",
       "x10    9.252401e-07\n",
       "x11    4.185316e-09\n",
       "x12    1.071802e-06\n",
       "x13    6.915197e-06\n",
       "x14    5.332985e-06\n",
       "x15    5.431213e-07\n",
       "x16    7.495736e-06\n",
       "x17    4.436494e-05\n",
       "x18    1.302445e-05\n",
       "x19   -1.302743e-06\n",
       "dtype: float64"
      ]
     },
     "execution_count": 69,
     "metadata": {},
     "output_type": "execute_result"
    }
   ],
   "source": [
    "finalmodel=sm.OLS(y2, finalpfea).fit()\n",
    "finalmodel.params"
   ]
  },
  {
   "cell_type": "code",
   "execution_count": 70,
   "id": "ff94a074",
   "metadata": {},
   "outputs": [
    {
     "data": {
      "text/html": [
       "<table class=\"simpletable\">\n",
       "<caption>OLS Regression Results</caption>\n",
       "<tr>\n",
       "  <th>Dep. Variable:</th>          <td>Sales</td>      <th>  R-squared (uncentered):</th>      <td>   0.998</td> \n",
       "</tr>\n",
       "<tr>\n",
       "  <th>Model:</th>                   <td>OLS</td>       <th>  Adj. R-squared (uncentered):</th> <td>   0.998</td> \n",
       "</tr>\n",
       "<tr>\n",
       "  <th>Method:</th>             <td>Least Squares</td>  <th>  F-statistic:       </th>          <td>   5682.</td> \n",
       "</tr>\n",
       "<tr>\n",
       "  <th>Date:</th>             <td>Thu, 17 Feb 2022</td> <th>  Prob (F-statistic):</th>          <td>3.04e-240</td>\n",
       "</tr>\n",
       "<tr>\n",
       "  <th>Time:</th>                 <td>21:13:51</td>     <th>  Log-Likelihood:    </th>          <td> -185.56</td> \n",
       "</tr>\n",
       "<tr>\n",
       "  <th>No. Observations:</th>      <td>   200</td>      <th>  AIC:               </th>          <td>   409.1</td> \n",
       "</tr>\n",
       "<tr>\n",
       "  <th>Df Residuals:</th>          <td>   181</td>      <th>  BIC:               </th>          <td>   471.8</td> \n",
       "</tr>\n",
       "<tr>\n",
       "  <th>Df Model:</th>              <td>    19</td>      <th>                     </th>              <td> </td>    \n",
       "</tr>\n",
       "<tr>\n",
       "  <th>Covariance Type:</th>      <td>nonrobust</td>    <th>                     </th>              <td> </td>    \n",
       "</tr>\n",
       "</table>\n",
       "<table class=\"simpletable\">\n",
       "<tr>\n",
       "   <td></td>      <th>coef</th>     <th>std err</th>      <th>t</th>      <th>P>|t|</th>  <th>[0.025</th>    <th>0.975]</th>  \n",
       "</tr>\n",
       "<tr>\n",
       "  <th>x1</th>  <td>    0.1262</td> <td>    0.005</td> <td>   24.335</td> <td> 0.000</td> <td>    0.116</td> <td>    0.136</td>\n",
       "</tr>\n",
       "<tr>\n",
       "  <th>x2</th>  <td>    0.2198</td> <td>    0.031</td> <td>    7.110</td> <td> 0.000</td> <td>    0.159</td> <td>    0.281</td>\n",
       "</tr>\n",
       "<tr>\n",
       "  <th>x3</th>  <td>    0.1235</td> <td>    0.017</td> <td>    7.319</td> <td> 0.000</td> <td>    0.090</td> <td>    0.157</td>\n",
       "</tr>\n",
       "<tr>\n",
       "  <th>x4</th>  <td>   -0.0006</td> <td> 4.16e-05</td> <td>  -13.708</td> <td> 0.000</td> <td>   -0.001</td> <td>   -0.000</td>\n",
       "</tr>\n",
       "<tr>\n",
       "  <th>x5</th>  <td>    0.0005</td> <td>    0.000</td> <td>    2.786</td> <td> 0.006</td> <td>    0.000</td> <td>    0.001</td>\n",
       "</tr>\n",
       "<tr>\n",
       "  <th>x6</th>  <td>   -0.0006</td> <td>    0.000</td> <td>   -4.899</td> <td> 0.000</td> <td>   -0.001</td> <td>   -0.000</td>\n",
       "</tr>\n",
       "<tr>\n",
       "  <th>x7</th>  <td>   -0.0029</td> <td>    0.001</td> <td>   -1.993</td> <td> 0.048</td> <td>   -0.006</td> <td>-2.84e-05</td>\n",
       "</tr>\n",
       "<tr>\n",
       "  <th>x8</th>  <td>   -0.0045</td> <td>    0.001</td> <td>   -5.110</td> <td> 0.000</td> <td>   -0.006</td> <td>   -0.003</td>\n",
       "</tr>\n",
       "<tr>\n",
       "  <th>x9</th>  <td>   -0.0003</td> <td>    0.000</td> <td>   -0.731</td> <td> 0.466</td> <td>   -0.001</td> <td>    0.001</td>\n",
       "</tr>\n",
       "<tr>\n",
       "  <th>x10</th> <td> 9.252e-07</td> <td> 9.45e-08</td> <td>    9.794</td> <td> 0.000</td> <td> 7.39e-07</td> <td> 1.11e-06</td>\n",
       "</tr>\n",
       "<tr>\n",
       "  <th>x11</th> <td> 4.185e-09</td> <td> 5.57e-07</td> <td>    0.008</td> <td> 0.994</td> <td> -1.1e-06</td> <td>  1.1e-06</td>\n",
       "</tr>\n",
       "<tr>\n",
       "  <th>x12</th> <td> 1.072e-06</td> <td> 3.78e-07</td> <td>    2.835</td> <td> 0.005</td> <td> 3.26e-07</td> <td> 1.82e-06</td>\n",
       "</tr>\n",
       "<tr>\n",
       "  <th>x13</th> <td> 6.915e-06</td> <td> 3.17e-06</td> <td>    2.178</td> <td> 0.031</td> <td> 6.51e-07</td> <td> 1.32e-05</td>\n",
       "</tr>\n",
       "<tr>\n",
       "  <th>x14</th> <td> 5.333e-06</td> <td> 2.43e-06</td> <td>    2.198</td> <td> 0.029</td> <td> 5.45e-07</td> <td> 1.01e-05</td>\n",
       "</tr>\n",
       "<tr>\n",
       "  <th>x15</th> <td> 5.431e-07</td> <td> 9.59e-07</td> <td>    0.566</td> <td> 0.572</td> <td>-1.35e-06</td> <td> 2.44e-06</td>\n",
       "</tr>\n",
       "<tr>\n",
       "  <th>x16</th> <td> 7.496e-06</td> <td> 2.13e-05</td> <td>    0.352</td> <td> 0.725</td> <td>-3.45e-05</td> <td> 4.95e-05</td>\n",
       "</tr>\n",
       "<tr>\n",
       "  <th>x17</th> <td> 4.436e-05</td> <td> 1.35e-05</td> <td>    3.292</td> <td> 0.001</td> <td> 1.78e-05</td> <td>  7.1e-05</td>\n",
       "</tr>\n",
       "<tr>\n",
       "  <th>x18</th> <td> 1.302e-05</td> <td> 7.41e-06</td> <td>    1.758</td> <td> 0.080</td> <td> -1.6e-06</td> <td> 2.76e-05</td>\n",
       "</tr>\n",
       "<tr>\n",
       "  <th>x19</th> <td>-1.303e-06</td> <td>  2.6e-06</td> <td>   -0.501</td> <td> 0.617</td> <td>-6.43e-06</td> <td> 3.82e-06</td>\n",
       "</tr>\n",
       "</table>\n",
       "<table class=\"simpletable\">\n",
       "<tr>\n",
       "  <th>Omnibus:</th>       <td>36.870</td> <th>  Durbin-Watson:     </th> <td>   2.053</td>\n",
       "</tr>\n",
       "<tr>\n",
       "  <th>Prob(Omnibus):</th> <td> 0.000</td> <th>  Jarque-Bera (JB):  </th> <td> 363.238</td>\n",
       "</tr>\n",
       "<tr>\n",
       "  <th>Skew:</th>          <td> 0.102</td> <th>  Prob(JB):          </th> <td>1.33e-79</td>\n",
       "</tr>\n",
       "<tr>\n",
       "  <th>Kurtosis:</th>      <td> 9.599</td> <th>  Cond. No.          </th> <td>6.65e+06</td>\n",
       "</tr>\n",
       "</table><br/><br/>Notes:<br/>[1] R² is computed without centering (uncentered) since the model does not contain a constant.<br/>[2] Standard Errors assume that the covariance matrix of the errors is correctly specified.<br/>[3] The condition number is large, 6.65e+06. This might indicate that there are<br/>strong multicollinearity or other numerical problems."
      ],
      "text/plain": [
       "<class 'statsmodels.iolib.summary.Summary'>\n",
       "\"\"\"\n",
       "                                 OLS Regression Results                                \n",
       "=======================================================================================\n",
       "Dep. Variable:                  Sales   R-squared (uncentered):                   0.998\n",
       "Model:                            OLS   Adj. R-squared (uncentered):              0.998\n",
       "Method:                 Least Squares   F-statistic:                              5682.\n",
       "Date:                Thu, 17 Feb 2022   Prob (F-statistic):                   3.04e-240\n",
       "Time:                        21:13:51   Log-Likelihood:                         -185.56\n",
       "No. Observations:                 200   AIC:                                      409.1\n",
       "Df Residuals:                     181   BIC:                                      471.8\n",
       "Df Model:                          19                                                  \n",
       "Covariance Type:            nonrobust                                                  \n",
       "==============================================================================\n",
       "                 coef    std err          t      P>|t|      [0.025      0.975]\n",
       "------------------------------------------------------------------------------\n",
       "x1             0.1262      0.005     24.335      0.000       0.116       0.136\n",
       "x2             0.2198      0.031      7.110      0.000       0.159       0.281\n",
       "x3             0.1235      0.017      7.319      0.000       0.090       0.157\n",
       "x4            -0.0006   4.16e-05    -13.708      0.000      -0.001      -0.000\n",
       "x5             0.0005      0.000      2.786      0.006       0.000       0.001\n",
       "x6            -0.0006      0.000     -4.899      0.000      -0.001      -0.000\n",
       "x7            -0.0029      0.001     -1.993      0.048      -0.006   -2.84e-05\n",
       "x8            -0.0045      0.001     -5.110      0.000      -0.006      -0.003\n",
       "x9            -0.0003      0.000     -0.731      0.466      -0.001       0.001\n",
       "x10         9.252e-07   9.45e-08      9.794      0.000    7.39e-07    1.11e-06\n",
       "x11         4.185e-09   5.57e-07      0.008      0.994    -1.1e-06     1.1e-06\n",
       "x12         1.072e-06   3.78e-07      2.835      0.005    3.26e-07    1.82e-06\n",
       "x13         6.915e-06   3.17e-06      2.178      0.031    6.51e-07    1.32e-05\n",
       "x14         5.333e-06   2.43e-06      2.198      0.029    5.45e-07    1.01e-05\n",
       "x15         5.431e-07   9.59e-07      0.566      0.572   -1.35e-06    2.44e-06\n",
       "x16         7.496e-06   2.13e-05      0.352      0.725   -3.45e-05    4.95e-05\n",
       "x17         4.436e-05   1.35e-05      3.292      0.001    1.78e-05     7.1e-05\n",
       "x18         1.302e-05   7.41e-06      1.758      0.080    -1.6e-06    2.76e-05\n",
       "x19        -1.303e-06    2.6e-06     -0.501      0.617   -6.43e-06    3.82e-06\n",
       "==============================================================================\n",
       "Omnibus:                       36.870   Durbin-Watson:                   2.053\n",
       "Prob(Omnibus):                  0.000   Jarque-Bera (JB):              363.238\n",
       "Skew:                           0.102   Prob(JB):                     1.33e-79\n",
       "Kurtosis:                       9.599   Cond. No.                     6.65e+06\n",
       "==============================================================================\n",
       "\n",
       "Notes:\n",
       "[1] R² is computed without centering (uncentered) since the model does not contain a constant.\n",
       "[2] Standard Errors assume that the covariance matrix of the errors is correctly specified.\n",
       "[3] The condition number is large, 6.65e+06. This might indicate that there are\n",
       "strong multicollinearity or other numerical problems.\n",
       "\"\"\""
      ]
     },
     "execution_count": 70,
     "metadata": {},
     "output_type": "execute_result"
    }
   ],
   "source": [
    "finalmodel.summary()"
   ]
  },
  {
   "cell_type": "markdown",
   "id": "6c8d7324",
   "metadata": {},
   "source": [
    "### model prediction with new data"
   ]
  },
  {
   "cell_type": "code",
   "execution_count": 65,
   "id": "1194f474",
   "metadata": {},
   "outputs": [],
   "source": [
    "newdata=[[149, 22, 12]]"
   ]
  },
  {
   "cell_type": "code",
   "execution_count": 66,
   "id": "510cbda9",
   "metadata": {},
   "outputs": [
    {
     "data": {
      "text/plain": [
       "array([14.9141421])"
      ]
     },
     "execution_count": 66,
     "metadata": {},
     "output_type": "execute_result"
    }
   ],
   "source": [
    "testpolyfea = finalpins.fit_transform(newdata)\n",
    "result = finalmodel.predict(testpolyfea)\n",
    "result"
   ]
  },
  {
   "cell_type": "code",
   "execution_count": null,
   "id": "62535b2a",
   "metadata": {},
   "outputs": [],
   "source": []
  },
  {
   "cell_type": "code",
   "execution_count": null,
   "id": "4b0b7744",
   "metadata": {},
   "outputs": [],
   "source": []
  },
  {
   "cell_type": "markdown",
   "id": "0889af9c",
   "metadata": {},
   "source": [
    "### residual analysis"
   ]
  },
  {
   "cell_type": "code",
   "execution_count": 67,
   "id": "fe44c6d9",
   "metadata": {},
   "outputs": [
    {
     "data": {
      "text/plain": [
       "0      1.117116\n",
       "1     -0.432548\n",
       "2      0.754175\n",
       "3      0.065687\n",
       "4     -0.194988\n",
       "         ...   \n",
       "195    1.572155\n",
       "196    0.384720\n",
       "197    0.286997\n",
       "198   -0.411322\n",
       "199    0.265808\n",
       "Length: 200, dtype: float64"
      ]
     },
     "execution_count": 67,
     "metadata": {},
     "output_type": "execute_result"
    }
   ],
   "source": [
    "residuals=finalmodel.resid\n",
    "residuals"
   ]
  },
  {
   "cell_type": "code",
   "execution_count": 68,
   "id": "99f63425",
   "metadata": {},
   "outputs": [
    {
     "data": {
      "text/plain": [
       "<Figure size 576x1152 with 0 Axes>"
      ]
     },
     "metadata": {},
     "output_type": "display_data"
    },
    {
     "data": {
      "image/png": "[encoded data removed]",
      "text/plain": [
       "<Figure size 432x288 with 1 Axes>"
      ]
     },
     "metadata": {
      "needs_background": "light"
     },
     "output_type": "display_data"
    }
   ],
   "source": [
    "probplot=sm.ProbPlot(residuals)\n",
    "plt.figure(figsize = (8,16))\n",
    "probplot.ppplot(line='45')\n",
    "plt.title('Normal P-P plot')\n",
    "plt.show()"
   ]
  },
  {
   "cell_type": "code",
   "execution_count": 85,
   "id": "479e5f39",
   "metadata": {},
   "outputs": [],
   "source": [
    "def standardize(vals):\n",
    "    return(vals-vals.mean())/vals.std()"
   ]
  },
  {
   "cell_type": "code",
   "execution_count": 86,
   "id": "99f1621e",
   "metadata": {},
   "outputs": [
    {
     "data": {
      "text/plain": [
       "Text(0, 0.5, 'std residuals')"
      ]
     },
     "execution_count": 86,
     "metadata": {},
     "output_type": "execute_result"
    },
    {
     "data": {
      "image/png": "[encoded data removed]",
      "text/plain": [
       "<Figure size 432x288 with 1 Axes>"
      ]
     },
     "metadata": {
      "needs_background": "light"
     },
     "output_type": "display_data"
    }
   ],
   "source": [
    "plt.scatter(standardize(finalmodel.fittedvalues), standardize(residuals))\n",
    "plt.title('Residuals vs predicted values')\n",
    "plt.xlabel('std pred values')\n",
    "plt.ylabel('std residuals')"
   ]
  },
  {
   "cell_type": "code",
   "execution_count": 87,
   "id": "a9167043",
   "metadata": {},
   "outputs": [],
   "source": [
    "import seaborn as sns"
   ]
  },
  {
   "cell_type": "code",
   "execution_count": 95,
   "id": "b8aa1671",
   "metadata": {
    "scrolled": true
   },
   "outputs": [
    {
     "data": {
      "text/plain": [
       "<AxesSubplot:>"
      ]
     },
     "execution_count": 95,
     "metadata": {},
     "output_type": "execute_result"
    },
    {
     "data": {
      "image/png": "[encoded data removed]",
      "text/plain": [
       "<Figure size 432x288 with 1 Axes>"
      ]
     },
     "metadata": {
      "needs_background": "light"
     },
     "output_type": "display_data"
    }
   ],
   "source": [
    "sns.scatterplot(x=standardize(finalmodel.fittedvalues), y=standardize(residuals))"
   ]
  },
  {
   "cell_type": "code",
   "execution_count": null,
   "id": "a3f2f75b",
   "metadata": {},
   "outputs": [],
   "source": []
  },
  {
   "cell_type": "code",
   "execution_count": null,
   "id": "b4cb7979",
   "metadata": {},
   "outputs": [],
   "source": []
  },
  {
   "cell_type": "code",
   "execution_count": null,
   "id": "77431376",
   "metadata": {},
   "outputs": [],
   "source": []
  },
  {
   "cell_type": "markdown",
   "id": "7b6068b8",
   "metadata": {},
   "source": [
    "The file salary_raw_data provides salary and educational qualifications of 30 randomly chosen people. Build a regression model to establish the relationship between salary earned and their educational qualifications. \n",
    "If we build a model Y = b0 + b1 × Education, it will be incorrect. We have to use dummy variables.\n",
    "High School: 1\n",
    "Graduate: 2\n",
    "Post Graduate: 3\n",
    "None: 4\n"
   ]
  },
  {
   "cell_type": "code",
   "execution_count": 71,
   "id": "4d740aee",
   "metadata": {},
   "outputs": [
    {
     "data": {
      "text/html": [
       "<div>\n",
       "<style scoped>\n",
       "    .dataframe tbody tr th:only-of-type {\n",
       "        vertical-align: middle;\n",
       "    }\n",
       "\n",
       "    .dataframe tbody tr th {\n",
       "        vertical-align: top;\n",
       "    }\n",
       "\n",
       "    .dataframe thead th {\n",
       "        text-align: right;\n",
       "    }\n",
       "</style>\n",
       "<table border=\"1\" class=\"dataframe\">\n",
       "  <thead>\n",
       "    <tr style=\"text-align: right;\">\n",
       "      <th></th>\n",
       "      <th>Education</th>\n",
       "      <th>Salary</th>\n",
       "    </tr>\n",
       "  </thead>\n",
       "  <tbody>\n",
       "    <tr>\n",
       "      <th>0</th>\n",
       "      <td>1</td>\n",
       "      <td>9800</td>\n",
       "    </tr>\n",
       "    <tr>\n",
       "      <th>1</th>\n",
       "      <td>1</td>\n",
       "      <td>10200</td>\n",
       "    </tr>\n",
       "    <tr>\n",
       "      <th>2</th>\n",
       "      <td>1</td>\n",
       "      <td>14200</td>\n",
       "    </tr>\n",
       "    <tr>\n",
       "      <th>3</th>\n",
       "      <td>1</td>\n",
       "      <td>21000</td>\n",
       "    </tr>\n",
       "    <tr>\n",
       "      <th>4</th>\n",
       "      <td>1</td>\n",
       "      <td>16500</td>\n",
       "    </tr>\n",
       "    <tr>\n",
       "      <th>5</th>\n",
       "      <td>1</td>\n",
       "      <td>19210</td>\n",
       "    </tr>\n",
       "    <tr>\n",
       "      <th>6</th>\n",
       "      <td>1</td>\n",
       "      <td>9700</td>\n",
       "    </tr>\n",
       "    <tr>\n",
       "      <th>7</th>\n",
       "      <td>1</td>\n",
       "      <td>11000</td>\n",
       "    </tr>\n",
       "    <tr>\n",
       "      <th>8</th>\n",
       "      <td>1</td>\n",
       "      <td>7800</td>\n",
       "    </tr>\n",
       "    <tr>\n",
       "      <th>9</th>\n",
       "      <td>1</td>\n",
       "      <td>8800</td>\n",
       "    </tr>\n",
       "    <tr>\n",
       "      <th>10</th>\n",
       "      <td>2</td>\n",
       "      <td>17200</td>\n",
       "    </tr>\n",
       "    <tr>\n",
       "      <th>11</th>\n",
       "      <td>2</td>\n",
       "      <td>17600</td>\n",
       "    </tr>\n",
       "    <tr>\n",
       "      <th>12</th>\n",
       "      <td>2</td>\n",
       "      <td>17650</td>\n",
       "    </tr>\n",
       "    <tr>\n",
       "      <th>13</th>\n",
       "      <td>2</td>\n",
       "      <td>19600</td>\n",
       "    </tr>\n",
       "    <tr>\n",
       "      <th>14</th>\n",
       "      <td>2</td>\n",
       "      <td>16700</td>\n",
       "    </tr>\n",
       "    <tr>\n",
       "      <th>15</th>\n",
       "      <td>2</td>\n",
       "      <td>16700</td>\n",
       "    </tr>\n",
       "    <tr>\n",
       "      <th>16</th>\n",
       "      <td>2</td>\n",
       "      <td>17500</td>\n",
       "    </tr>\n",
       "    <tr>\n",
       "      <th>17</th>\n",
       "      <td>2</td>\n",
       "      <td>15000</td>\n",
       "    </tr>\n",
       "    <tr>\n",
       "      <th>18</th>\n",
       "      <td>2</td>\n",
       "      <td>18500</td>\n",
       "    </tr>\n",
       "    <tr>\n",
       "      <th>19</th>\n",
       "      <td>2</td>\n",
       "      <td>19700</td>\n",
       "    </tr>\n",
       "    <tr>\n",
       "      <th>20</th>\n",
       "      <td>3</td>\n",
       "      <td>21000</td>\n",
       "    </tr>\n",
       "    <tr>\n",
       "      <th>21</th>\n",
       "      <td>3</td>\n",
       "      <td>19400</td>\n",
       "    </tr>\n",
       "    <tr>\n",
       "      <th>22</th>\n",
       "      <td>3</td>\n",
       "      <td>18800</td>\n",
       "    </tr>\n",
       "    <tr>\n",
       "      <th>23</th>\n",
       "      <td>3</td>\n",
       "      <td>21000</td>\n",
       "    </tr>\n",
       "    <tr>\n",
       "      <th>24</th>\n",
       "      <td>4</td>\n",
       "      <td>6500</td>\n",
       "    </tr>\n",
       "    <tr>\n",
       "      <th>25</th>\n",
       "      <td>4</td>\n",
       "      <td>7200</td>\n",
       "    </tr>\n",
       "    <tr>\n",
       "      <th>26</th>\n",
       "      <td>4</td>\n",
       "      <td>7700</td>\n",
       "    </tr>\n",
       "    <tr>\n",
       "      <th>27</th>\n",
       "      <td>4</td>\n",
       "      <td>5600</td>\n",
       "    </tr>\n",
       "    <tr>\n",
       "      <th>28</th>\n",
       "      <td>4</td>\n",
       "      <td>8000</td>\n",
       "    </tr>\n",
       "    <tr>\n",
       "      <th>29</th>\n",
       "      <td>4</td>\n",
       "      <td>9300</td>\n",
       "    </tr>\n",
       "  </tbody>\n",
       "</table>\n",
       "</div>"
      ],
      "text/plain": [
       "    Education  Salary\n",
       "0           1    9800\n",
       "1           1   10200\n",
       "2           1   14200\n",
       "3           1   21000\n",
       "4           1   16500\n",
       "5           1   19210\n",
       "6           1    9700\n",
       "7           1   11000\n",
       "8           1    7800\n",
       "9           1    8800\n",
       "10          2   17200\n",
       "11          2   17600\n",
       "12          2   17650\n",
       "13          2   19600\n",
       "14          2   16700\n",
       "15          2   16700\n",
       "16          2   17500\n",
       "17          2   15000\n",
       "18          2   18500\n",
       "19          2   19700\n",
       "20          3   21000\n",
       "21          3   19400\n",
       "22          3   18800\n",
       "23          3   21000\n",
       "24          4    6500\n",
       "25          4    7200\n",
       "26          4    7700\n",
       "27          4    5600\n",
       "28          4    8000\n",
       "29          4    9300"
      ]
     },
     "execution_count": 71,
     "metadata": {},
     "output_type": "execute_result"
    }
   ],
   "source": [
    "S=pd.read_excel('Salary_dummy_raw_data.xlsx')\n",
    "S"
   ]
  },
  {
   "cell_type": "code",
   "execution_count": 74,
   "id": "1069fb17",
   "metadata": {},
   "outputs": [
    {
     "name": "stdout",
     "output_type": "stream",
     "text": [
      "<class 'pandas.core.frame.DataFrame'>\n",
      "RangeIndex: 30 entries, 0 to 29\n",
      "Data columns (total 2 columns):\n",
      " #   Column     Non-Null Count  Dtype \n",
      "---  ------     --------------  ----- \n",
      " 0   Education  30 non-null     object\n",
      " 1   Salary     30 non-null     int64 \n",
      "dtypes: int64(1), object(1)\n",
      "memory usage: 608.0+ bytes\n"
     ]
    }
   ],
   "source": [
    "S['Education'] = S['Education'].apply(str)\n",
    "S.info()"
   ]
  },
  {
   "cell_type": "code",
   "execution_count": 75,
   "id": "42dad07b",
   "metadata": {},
   "outputs": [
    {
     "data": {
      "text/html": [
       "<div>\n",
       "<style scoped>\n",
       "    .dataframe tbody tr th:only-of-type {\n",
       "        vertical-align: middle;\n",
       "    }\n",
       "\n",
       "    .dataframe tbody tr th {\n",
       "        vertical-align: top;\n",
       "    }\n",
       "\n",
       "    .dataframe thead th {\n",
       "        text-align: right;\n",
       "    }\n",
       "</style>\n",
       "<table border=\"1\" class=\"dataframe\">\n",
       "  <thead>\n",
       "    <tr style=\"text-align: right;\">\n",
       "      <th></th>\n",
       "      <th>1</th>\n",
       "      <th>2</th>\n",
       "      <th>3</th>\n",
       "      <th>4</th>\n",
       "    </tr>\n",
       "  </thead>\n",
       "  <tbody>\n",
       "    <tr>\n",
       "      <th>0</th>\n",
       "      <td>1</td>\n",
       "      <td>0</td>\n",
       "      <td>0</td>\n",
       "      <td>0</td>\n",
       "    </tr>\n",
       "    <tr>\n",
       "      <th>1</th>\n",
       "      <td>1</td>\n",
       "      <td>0</td>\n",
       "      <td>0</td>\n",
       "      <td>0</td>\n",
       "    </tr>\n",
       "    <tr>\n",
       "      <th>2</th>\n",
       "      <td>1</td>\n",
       "      <td>0</td>\n",
       "      <td>0</td>\n",
       "      <td>0</td>\n",
       "    </tr>\n",
       "    <tr>\n",
       "      <th>3</th>\n",
       "      <td>1</td>\n",
       "      <td>0</td>\n",
       "      <td>0</td>\n",
       "      <td>0</td>\n",
       "    </tr>\n",
       "    <tr>\n",
       "      <th>4</th>\n",
       "      <td>1</td>\n",
       "      <td>0</td>\n",
       "      <td>0</td>\n",
       "      <td>0</td>\n",
       "    </tr>\n",
       "    <tr>\n",
       "      <th>5</th>\n",
       "      <td>1</td>\n",
       "      <td>0</td>\n",
       "      <td>0</td>\n",
       "      <td>0</td>\n",
       "    </tr>\n",
       "    <tr>\n",
       "      <th>6</th>\n",
       "      <td>1</td>\n",
       "      <td>0</td>\n",
       "      <td>0</td>\n",
       "      <td>0</td>\n",
       "    </tr>\n",
       "    <tr>\n",
       "      <th>7</th>\n",
       "      <td>1</td>\n",
       "      <td>0</td>\n",
       "      <td>0</td>\n",
       "      <td>0</td>\n",
       "    </tr>\n",
       "    <tr>\n",
       "      <th>8</th>\n",
       "      <td>1</td>\n",
       "      <td>0</td>\n",
       "      <td>0</td>\n",
       "      <td>0</td>\n",
       "    </tr>\n",
       "    <tr>\n",
       "      <th>9</th>\n",
       "      <td>1</td>\n",
       "      <td>0</td>\n",
       "      <td>0</td>\n",
       "      <td>0</td>\n",
       "    </tr>\n",
       "    <tr>\n",
       "      <th>10</th>\n",
       "      <td>0</td>\n",
       "      <td>1</td>\n",
       "      <td>0</td>\n",
       "      <td>0</td>\n",
       "    </tr>\n",
       "    <tr>\n",
       "      <th>11</th>\n",
       "      <td>0</td>\n",
       "      <td>1</td>\n",
       "      <td>0</td>\n",
       "      <td>0</td>\n",
       "    </tr>\n",
       "    <tr>\n",
       "      <th>12</th>\n",
       "      <td>0</td>\n",
       "      <td>1</td>\n",
       "      <td>0</td>\n",
       "      <td>0</td>\n",
       "    </tr>\n",
       "    <tr>\n",
       "      <th>13</th>\n",
       "      <td>0</td>\n",
       "      <td>1</td>\n",
       "      <td>0</td>\n",
       "      <td>0</td>\n",
       "    </tr>\n",
       "    <tr>\n",
       "      <th>14</th>\n",
       "      <td>0</td>\n",
       "      <td>1</td>\n",
       "      <td>0</td>\n",
       "      <td>0</td>\n",
       "    </tr>\n",
       "    <tr>\n",
       "      <th>15</th>\n",
       "      <td>0</td>\n",
       "      <td>1</td>\n",
       "      <td>0</td>\n",
       "      <td>0</td>\n",
       "    </tr>\n",
       "    <tr>\n",
       "      <th>16</th>\n",
       "      <td>0</td>\n",
       "      <td>1</td>\n",
       "      <td>0</td>\n",
       "      <td>0</td>\n",
       "    </tr>\n",
       "    <tr>\n",
       "      <th>17</th>\n",
       "      <td>0</td>\n",
       "      <td>1</td>\n",
       "      <td>0</td>\n",
       "      <td>0</td>\n",
       "    </tr>\n",
       "    <tr>\n",
       "      <th>18</th>\n",
       "      <td>0</td>\n",
       "      <td>1</td>\n",
       "      <td>0</td>\n",
       "      <td>0</td>\n",
       "    </tr>\n",
       "    <tr>\n",
       "      <th>19</th>\n",
       "      <td>0</td>\n",
       "      <td>1</td>\n",
       "      <td>0</td>\n",
       "      <td>0</td>\n",
       "    </tr>\n",
       "    <tr>\n",
       "      <th>20</th>\n",
       "      <td>0</td>\n",
       "      <td>0</td>\n",
       "      <td>1</td>\n",
       "      <td>0</td>\n",
       "    </tr>\n",
       "    <tr>\n",
       "      <th>21</th>\n",
       "      <td>0</td>\n",
       "      <td>0</td>\n",
       "      <td>1</td>\n",
       "      <td>0</td>\n",
       "    </tr>\n",
       "    <tr>\n",
       "      <th>22</th>\n",
       "      <td>0</td>\n",
       "      <td>0</td>\n",
       "      <td>1</td>\n",
       "      <td>0</td>\n",
       "    </tr>\n",
       "    <tr>\n",
       "      <th>23</th>\n",
       "      <td>0</td>\n",
       "      <td>0</td>\n",
       "      <td>1</td>\n",
       "      <td>0</td>\n",
       "    </tr>\n",
       "    <tr>\n",
       "      <th>24</th>\n",
       "      <td>0</td>\n",
       "      <td>0</td>\n",
       "      <td>0</td>\n",
       "      <td>1</td>\n",
       "    </tr>\n",
       "    <tr>\n",
       "      <th>25</th>\n",
       "      <td>0</td>\n",
       "      <td>0</td>\n",
       "      <td>0</td>\n",
       "      <td>1</td>\n",
       "    </tr>\n",
       "    <tr>\n",
       "      <th>26</th>\n",
       "      <td>0</td>\n",
       "      <td>0</td>\n",
       "      <td>0</td>\n",
       "      <td>1</td>\n",
       "    </tr>\n",
       "    <tr>\n",
       "      <th>27</th>\n",
       "      <td>0</td>\n",
       "      <td>0</td>\n",
       "      <td>0</td>\n",
       "      <td>1</td>\n",
       "    </tr>\n",
       "    <tr>\n",
       "      <th>28</th>\n",
       "      <td>0</td>\n",
       "      <td>0</td>\n",
       "      <td>0</td>\n",
       "      <td>1</td>\n",
       "    </tr>\n",
       "    <tr>\n",
       "      <th>29</th>\n",
       "      <td>0</td>\n",
       "      <td>0</td>\n",
       "      <td>0</td>\n",
       "      <td>1</td>\n",
       "    </tr>\n",
       "  </tbody>\n",
       "</table>\n",
       "</div>"
      ],
      "text/plain": [
       "    1  2  3  4\n",
       "0   1  0  0  0\n",
       "1   1  0  0  0\n",
       "2   1  0  0  0\n",
       "3   1  0  0  0\n",
       "4   1  0  0  0\n",
       "5   1  0  0  0\n",
       "6   1  0  0  0\n",
       "7   1  0  0  0\n",
       "8   1  0  0  0\n",
       "9   1  0  0  0\n",
       "10  0  1  0  0\n",
       "11  0  1  0  0\n",
       "12  0  1  0  0\n",
       "13  0  1  0  0\n",
       "14  0  1  0  0\n",
       "15  0  1  0  0\n",
       "16  0  1  0  0\n",
       "17  0  1  0  0\n",
       "18  0  1  0  0\n",
       "19  0  1  0  0\n",
       "20  0  0  1  0\n",
       "21  0  0  1  0\n",
       "22  0  0  1  0\n",
       "23  0  0  1  0\n",
       "24  0  0  0  1\n",
       "25  0  0  0  1\n",
       "26  0  0  0  1\n",
       "27  0  0  0  1\n",
       "28  0  0  0  1\n",
       "29  0  0  0  1"
      ]
     },
     "execution_count": 75,
     "metadata": {},
     "output_type": "execute_result"
    }
   ],
   "source": [
    "S_dummies=pd.get_dummies(S['Education'])\n",
    "S_dummies"
   ]
  },
  {
   "cell_type": "code",
   "execution_count": 76,
   "id": "22f3e132",
   "metadata": {},
   "outputs": [
    {
     "data": {
      "text/html": [
       "<div>\n",
       "<style scoped>\n",
       "    .dataframe tbody tr th:only-of-type {\n",
       "        vertical-align: middle;\n",
       "    }\n",
       "\n",
       "    .dataframe tbody tr th {\n",
       "        vertical-align: top;\n",
       "    }\n",
       "\n",
       "    .dataframe thead th {\n",
       "        text-align: right;\n",
       "    }\n",
       "</style>\n",
       "<table border=\"1\" class=\"dataframe\">\n",
       "  <thead>\n",
       "    <tr style=\"text-align: right;\">\n",
       "      <th></th>\n",
       "      <th>1</th>\n",
       "      <th>2</th>\n",
       "      <th>3</th>\n",
       "    </tr>\n",
       "  </thead>\n",
       "  <tbody>\n",
       "    <tr>\n",
       "      <th>0</th>\n",
       "      <td>1</td>\n",
       "      <td>0</td>\n",
       "      <td>0</td>\n",
       "    </tr>\n",
       "    <tr>\n",
       "      <th>1</th>\n",
       "      <td>1</td>\n",
       "      <td>0</td>\n",
       "      <td>0</td>\n",
       "    </tr>\n",
       "    <tr>\n",
       "      <th>2</th>\n",
       "      <td>1</td>\n",
       "      <td>0</td>\n",
       "      <td>0</td>\n",
       "    </tr>\n",
       "    <tr>\n",
       "      <th>3</th>\n",
       "      <td>1</td>\n",
       "      <td>0</td>\n",
       "      <td>0</td>\n",
       "    </tr>\n",
       "    <tr>\n",
       "      <th>4</th>\n",
       "      <td>1</td>\n",
       "      <td>0</td>\n",
       "      <td>0</td>\n",
       "    </tr>\n",
       "    <tr>\n",
       "      <th>5</th>\n",
       "      <td>1</td>\n",
       "      <td>0</td>\n",
       "      <td>0</td>\n",
       "    </tr>\n",
       "    <tr>\n",
       "      <th>6</th>\n",
       "      <td>1</td>\n",
       "      <td>0</td>\n",
       "      <td>0</td>\n",
       "    </tr>\n",
       "    <tr>\n",
       "      <th>7</th>\n",
       "      <td>1</td>\n",
       "      <td>0</td>\n",
       "      <td>0</td>\n",
       "    </tr>\n",
       "    <tr>\n",
       "      <th>8</th>\n",
       "      <td>1</td>\n",
       "      <td>0</td>\n",
       "      <td>0</td>\n",
       "    </tr>\n",
       "    <tr>\n",
       "      <th>9</th>\n",
       "      <td>1</td>\n",
       "      <td>0</td>\n",
       "      <td>0</td>\n",
       "    </tr>\n",
       "    <tr>\n",
       "      <th>10</th>\n",
       "      <td>0</td>\n",
       "      <td>1</td>\n",
       "      <td>0</td>\n",
       "    </tr>\n",
       "    <tr>\n",
       "      <th>11</th>\n",
       "      <td>0</td>\n",
       "      <td>1</td>\n",
       "      <td>0</td>\n",
       "    </tr>\n",
       "    <tr>\n",
       "      <th>12</th>\n",
       "      <td>0</td>\n",
       "      <td>1</td>\n",
       "      <td>0</td>\n",
       "    </tr>\n",
       "    <tr>\n",
       "      <th>13</th>\n",
       "      <td>0</td>\n",
       "      <td>1</td>\n",
       "      <td>0</td>\n",
       "    </tr>\n",
       "    <tr>\n",
       "      <th>14</th>\n",
       "      <td>0</td>\n",
       "      <td>1</td>\n",
       "      <td>0</td>\n",
       "    </tr>\n",
       "    <tr>\n",
       "      <th>15</th>\n",
       "      <td>0</td>\n",
       "      <td>1</td>\n",
       "      <td>0</td>\n",
       "    </tr>\n",
       "    <tr>\n",
       "      <th>16</th>\n",
       "      <td>0</td>\n",
       "      <td>1</td>\n",
       "      <td>0</td>\n",
       "    </tr>\n",
       "    <tr>\n",
       "      <th>17</th>\n",
       "      <td>0</td>\n",
       "      <td>1</td>\n",
       "      <td>0</td>\n",
       "    </tr>\n",
       "    <tr>\n",
       "      <th>18</th>\n",
       "      <td>0</td>\n",
       "      <td>1</td>\n",
       "      <td>0</td>\n",
       "    </tr>\n",
       "    <tr>\n",
       "      <th>19</th>\n",
       "      <td>0</td>\n",
       "      <td>1</td>\n",
       "      <td>0</td>\n",
       "    </tr>\n",
       "    <tr>\n",
       "      <th>20</th>\n",
       "      <td>0</td>\n",
       "      <td>0</td>\n",
       "      <td>1</td>\n",
       "    </tr>\n",
       "    <tr>\n",
       "      <th>21</th>\n",
       "      <td>0</td>\n",
       "      <td>0</td>\n",
       "      <td>1</td>\n",
       "    </tr>\n",
       "    <tr>\n",
       "      <th>22</th>\n",
       "      <td>0</td>\n",
       "      <td>0</td>\n",
       "      <td>1</td>\n",
       "    </tr>\n",
       "    <tr>\n",
       "      <th>23</th>\n",
       "      <td>0</td>\n",
       "      <td>0</td>\n",
       "      <td>1</td>\n",
       "    </tr>\n",
       "    <tr>\n",
       "      <th>24</th>\n",
       "      <td>0</td>\n",
       "      <td>0</td>\n",
       "      <td>0</td>\n",
       "    </tr>\n",
       "    <tr>\n",
       "      <th>25</th>\n",
       "      <td>0</td>\n",
       "      <td>0</td>\n",
       "      <td>0</td>\n",
       "    </tr>\n",
       "    <tr>\n",
       "      <th>26</th>\n",
       "      <td>0</td>\n",
       "      <td>0</td>\n",
       "      <td>0</td>\n",
       "    </tr>\n",
       "    <tr>\n",
       "      <th>27</th>\n",
       "      <td>0</td>\n",
       "      <td>0</td>\n",
       "      <td>0</td>\n",
       "    </tr>\n",
       "    <tr>\n",
       "      <th>28</th>\n",
       "      <td>0</td>\n",
       "      <td>0</td>\n",
       "      <td>0</td>\n",
       "    </tr>\n",
       "    <tr>\n",
       "      <th>29</th>\n",
       "      <td>0</td>\n",
       "      <td>0</td>\n",
       "      <td>0</td>\n",
       "    </tr>\n",
       "  </tbody>\n",
       "</table>\n",
       "</div>"
      ],
      "text/plain": [
       "    1  2  3\n",
       "0   1  0  0\n",
       "1   1  0  0\n",
       "2   1  0  0\n",
       "3   1  0  0\n",
       "4   1  0  0\n",
       "5   1  0  0\n",
       "6   1  0  0\n",
       "7   1  0  0\n",
       "8   1  0  0\n",
       "9   1  0  0\n",
       "10  0  1  0\n",
       "11  0  1  0\n",
       "12  0  1  0\n",
       "13  0  1  0\n",
       "14  0  1  0\n",
       "15  0  1  0\n",
       "16  0  1  0\n",
       "17  0  1  0\n",
       "18  0  1  0\n",
       "19  0  1  0\n",
       "20  0  0  1\n",
       "21  0  0  1\n",
       "22  0  0  1\n",
       "23  0  0  1\n",
       "24  0  0  0\n",
       "25  0  0  0\n",
       "26  0  0  0\n",
       "27  0  0  0\n",
       "28  0  0  0\n",
       "29  0  0  0"
      ]
     },
     "execution_count": 76,
     "metadata": {},
     "output_type": "execute_result"
    }
   ],
   "source": [
    "S_dummies.drop('4', axis=1, inplace=True)\n",
    "S_dummies"
   ]
  },
  {
   "cell_type": "code",
   "execution_count": 77,
   "id": "306e93d1",
   "metadata": {},
   "outputs": [
    {
     "data": {
      "text/html": [
       "<div>\n",
       "<style scoped>\n",
       "    .dataframe tbody tr th:only-of-type {\n",
       "        vertical-align: middle;\n",
       "    }\n",
       "\n",
       "    .dataframe tbody tr th {\n",
       "        vertical-align: top;\n",
       "    }\n",
       "\n",
       "    .dataframe thead th {\n",
       "        text-align: right;\n",
       "    }\n",
       "</style>\n",
       "<table border=\"1\" class=\"dataframe\">\n",
       "  <thead>\n",
       "    <tr style=\"text-align: right;\">\n",
       "      <th></th>\n",
       "      <th>1</th>\n",
       "      <th>2</th>\n",
       "      <th>3</th>\n",
       "      <th>Salary</th>\n",
       "    </tr>\n",
       "  </thead>\n",
       "  <tbody>\n",
       "    <tr>\n",
       "      <th>0</th>\n",
       "      <td>1</td>\n",
       "      <td>0</td>\n",
       "      <td>0</td>\n",
       "      <td>9800</td>\n",
       "    </tr>\n",
       "    <tr>\n",
       "      <th>1</th>\n",
       "      <td>1</td>\n",
       "      <td>0</td>\n",
       "      <td>0</td>\n",
       "      <td>10200</td>\n",
       "    </tr>\n",
       "    <tr>\n",
       "      <th>2</th>\n",
       "      <td>1</td>\n",
       "      <td>0</td>\n",
       "      <td>0</td>\n",
       "      <td>14200</td>\n",
       "    </tr>\n",
       "    <tr>\n",
       "      <th>3</th>\n",
       "      <td>1</td>\n",
       "      <td>0</td>\n",
       "      <td>0</td>\n",
       "      <td>21000</td>\n",
       "    </tr>\n",
       "    <tr>\n",
       "      <th>4</th>\n",
       "      <td>1</td>\n",
       "      <td>0</td>\n",
       "      <td>0</td>\n",
       "      <td>16500</td>\n",
       "    </tr>\n",
       "  </tbody>\n",
       "</table>\n",
       "</div>"
      ],
      "text/plain": [
       "   1  2  3  Salary\n",
       "0  1  0  0    9800\n",
       "1  1  0  0   10200\n",
       "2  1  0  0   14200\n",
       "3  1  0  0   21000\n",
       "4  1  0  0   16500"
      ]
     },
     "execution_count": 77,
     "metadata": {},
     "output_type": "execute_result"
    }
   ],
   "source": [
    "S = pd.concat([S_dummies, S['Salary']], axis=1)\n",
    "S.head()"
   ]
  },
  {
   "cell_type": "code",
   "execution_count": 78,
   "id": "0361a93c",
   "metadata": {},
   "outputs": [],
   "source": [
    "x3= sm.add_constant(S[['1','2','3']])\n",
    "y3=S['Salary']"
   ]
  },
  {
   "cell_type": "code",
   "execution_count": 82,
   "id": "bc140004",
   "metadata": {},
   "outputs": [
    {
     "data": {
      "text/html": [
       "<table class=\"simpletable\">\n",
       "<caption>OLS Regression Results</caption>\n",
       "<tr>\n",
       "  <th>Dep. Variable:</th>         <td>Salary</td>      <th>  R-squared:         </th> <td>   0.712</td>\n",
       "</tr>\n",
       "<tr>\n",
       "  <th>Model:</th>                   <td>OLS</td>       <th>  Adj. R-squared:    </th> <td>   0.678</td>\n",
       "</tr>\n",
       "<tr>\n",
       "  <th>Method:</th>             <td>Least Squares</td>  <th>  F-statistic:       </th> <td>   21.39</td>\n",
       "</tr>\n",
       "<tr>\n",
       "  <th>Date:</th>             <td>Thu, 17 Feb 2022</td> <th>  Prob (F-statistic):</th> <td>3.41e-07</td>\n",
       "</tr>\n",
       "<tr>\n",
       "  <th>Time:</th>                 <td>21:45:57</td>     <th>  Log-Likelihood:    </th> <td> -279.91</td>\n",
       "</tr>\n",
       "<tr>\n",
       "  <th>No. Observations:</th>      <td>    30</td>      <th>  AIC:               </th> <td>   567.8</td>\n",
       "</tr>\n",
       "<tr>\n",
       "  <th>Df Residuals:</th>          <td>    26</td>      <th>  BIC:               </th> <td>   573.4</td>\n",
       "</tr>\n",
       "<tr>\n",
       "  <th>Df Model:</th>              <td>     3</td>      <th>                     </th>     <td> </td>   \n",
       "</tr>\n",
       "<tr>\n",
       "  <th>Covariance Type:</th>      <td>nonrobust</td>    <th>                     </th>     <td> </td>   \n",
       "</tr>\n",
       "</table>\n",
       "<table class=\"simpletable\">\n",
       "<tr>\n",
       "    <td></td>       <th>coef</th>     <th>std err</th>      <th>t</th>      <th>P>|t|</th>  <th>[0.025</th>    <th>0.975]</th>  \n",
       "</tr>\n",
       "<tr>\n",
       "  <th>const</th> <td> 7383.3333</td> <td> 1196.395</td> <td>    6.171</td> <td> 0.000</td> <td> 4924.108</td> <td> 9842.558</td>\n",
       "</tr>\n",
       "<tr>\n",
       "  <th>1</th>     <td> 5437.6667</td> <td> 1513.333</td> <td>    3.593</td> <td> 0.001</td> <td> 2326.966</td> <td> 8548.367</td>\n",
       "</tr>\n",
       "<tr>\n",
       "  <th>2</th>     <td> 1.023e+04</td> <td> 1513.333</td> <td>    6.761</td> <td> 0.000</td> <td> 7120.966</td> <td> 1.33e+04</td>\n",
       "</tr>\n",
       "<tr>\n",
       "  <th>3</th>     <td> 1.267e+04</td> <td> 1891.666</td> <td>    6.696</td> <td> 0.000</td> <td> 8778.291</td> <td> 1.66e+04</td>\n",
       "</tr>\n",
       "</table>\n",
       "<table class=\"simpletable\">\n",
       "<tr>\n",
       "  <th>Omnibus:</th>       <td> 9.027</td> <th>  Durbin-Watson:     </th> <td>   1.184</td>\n",
       "</tr>\n",
       "<tr>\n",
       "  <th>Prob(Omnibus):</th> <td> 0.011</td> <th>  Jarque-Bera (JB):  </th> <td>   7.645</td>\n",
       "</tr>\n",
       "<tr>\n",
       "  <th>Skew:</th>          <td> 0.961</td> <th>  Prob(JB):          </th> <td>  0.0219</td>\n",
       "</tr>\n",
       "<tr>\n",
       "  <th>Kurtosis:</th>      <td> 4.557</td> <th>  Cond. No.          </th> <td>    5.46</td>\n",
       "</tr>\n",
       "</table><br/><br/>Notes:<br/>[1] Standard Errors assume that the covariance matrix of the errors is correctly specified."
      ],
      "text/plain": [
       "<class 'statsmodels.iolib.summary.Summary'>\n",
       "\"\"\"\n",
       "                            OLS Regression Results                            \n",
       "==============================================================================\n",
       "Dep. Variable:                 Salary   R-squared:                       0.712\n",
       "Model:                            OLS   Adj. R-squared:                  0.678\n",
       "Method:                 Least Squares   F-statistic:                     21.39\n",
       "Date:                Thu, 17 Feb 2022   Prob (F-statistic):           3.41e-07\n",
       "Time:                        21:45:57   Log-Likelihood:                -279.91\n",
       "No. Observations:                  30   AIC:                             567.8\n",
       "Df Residuals:                      26   BIC:                             573.4\n",
       "Df Model:                           3                                         \n",
       "Covariance Type:            nonrobust                                         \n",
       "==============================================================================\n",
       "                 coef    std err          t      P>|t|      [0.025      0.975]\n",
       "------------------------------------------------------------------------------\n",
       "const       7383.3333   1196.395      6.171      0.000    4924.108    9842.558\n",
       "1           5437.6667   1513.333      3.593      0.001    2326.966    8548.367\n",
       "2           1.023e+04   1513.333      6.761      0.000    7120.966    1.33e+04\n",
       "3           1.267e+04   1891.666      6.696      0.000    8778.291    1.66e+04\n",
       "==============================================================================\n",
       "Omnibus:                        9.027   Durbin-Watson:                   1.184\n",
       "Prob(Omnibus):                  0.011   Jarque-Bera (JB):                7.645\n",
       "Skew:                           0.961   Prob(JB):                       0.0219\n",
       "Kurtosis:                       4.557   Cond. No.                         5.46\n",
       "==============================================================================\n",
       "\n",
       "Notes:\n",
       "[1] Standard Errors assume that the covariance matrix of the errors is correctly specified.\n",
       "\"\"\""
      ]
     },
     "execution_count": 82,
     "metadata": {},
     "output_type": "execute_result"
    }
   ],
   "source": [
    "model5=sm.OLS(y3,x3).fit()\n",
    "model5.summary()"
   ]
  },
  {
   "cell_type": "code",
   "execution_count": 83,
   "id": "86b6a990",
   "metadata": {},
   "outputs": [],
   "source": [
    "# salary = 7383 + 5437 * HS(1) +10231 * 0 +12666 * 0"
   ]
  }
 ],
 "metadata": {
  "kernelspec": {
   "display_name": "Python 3",
   "language": "python",
   "name": "python3"
  },
  "language_info": {
   "codemirror_mode": {
    "name": "ipython",
    "version": 3
   },
   "file_extension": ".py",
   "mimetype": "text/x-python",
   "name": "python",
   "nbconvert_exporter": "python",
   "pygments_lexer": "ipython3",
   "version": "3.8.8"
  }
 },
 "nbformat": 4,
 "nbformat_minor": 5
}

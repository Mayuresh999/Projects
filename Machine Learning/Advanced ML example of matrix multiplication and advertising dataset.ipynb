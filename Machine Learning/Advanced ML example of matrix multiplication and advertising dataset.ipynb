{
 "cells": [
  {
   "cell_type": "code",
   "execution_count": 1,
   "id": "2779a663",
   "metadata": {},
   "outputs": [],
   "source": [
    "import pandas as pd\n",
    "import numpy as np"
   ]
  },
  {
   "cell_type": "code",
   "execution_count": 2,
   "id": "f2af506b",
   "metadata": {},
   "outputs": [],
   "source": [
    "X = np.array([49,69,89,99,109])\n",
    "Y = np.array([124,95,71,45,18])"
   ]
  },
  {
   "cell_type": "code",
   "execution_count": 3,
   "id": "79a15d8a",
   "metadata": {},
   "outputs": [
    {
     "data": {
      "text/plain": [
       "array([[  1,  49],\n",
       "       [  1,  69],\n",
       "       [  1,  89],\n",
       "       [  1,  99],\n",
       "       [  1, 109]])"
      ]
     },
     "execution_count": 3,
     "metadata": {},
     "output_type": "execute_result"
    }
   ],
   "source": [
    "Xmat=np.array([[1,1,1,1,1], [49,69,89,99,109]]).T\n",
    "Ymat = Y\n",
    "Xmat"
   ]
  },
  {
   "cell_type": "code",
   "execution_count": 4,
   "id": "1758ac08",
   "metadata": {},
   "outputs": [
    {
     "data": {
      "text/plain": [
       "array([211.27068966,  -1.69482759])"
      ]
     },
     "execution_count": 4,
     "metadata": {},
     "output_type": "execute_result"
    }
   ],
   "source": [
    "np.dot(np.linalg.inv(np.dot(Xmat.T, Xmat)), np.dot(Xmat.T,Y))"
   ]
  },
  {
   "cell_type": "code",
   "execution_count": 5,
   "id": "146b605f",
   "metadata": {},
   "outputs": [],
   "source": [
    "w = -1.69482759\n",
    "b = 211.27068966"
   ]
  },
  {
   "cell_type": "code",
   "execution_count": 6,
   "id": "e006c0a2",
   "metadata": {},
   "outputs": [
    {
     "data": {
      "text/plain": [
       "array([128.22413775,  94.32758595,  60.43103415,  43.48275825,\n",
       "        26.53448235])"
      ]
     },
     "execution_count": 6,
     "metadata": {},
     "output_type": "execute_result"
    }
   ],
   "source": [
    "Yhat = b + np.dot(X,w)\n",
    "Yhat"
   ]
  },
  {
   "cell_type": "code",
   "execution_count": null,
   "id": "6fb0352f",
   "metadata": {},
   "outputs": [],
   "source": []
  },
  {
   "cell_type": "markdown",
   "id": "e9caa4b9",
   "metadata": {},
   "source": [
    "## Gradient Descent , Cost Function "
   ]
  },
  {
   "cell_type": "code",
   "execution_count": 7,
   "id": "47dcb533",
   "metadata": {},
   "outputs": [
    {
     "data": {
      "text/html": [
       "<div>\n",
       "<style scoped>\n",
       "    .dataframe tbody tr th:only-of-type {\n",
       "        vertical-align: middle;\n",
       "    }\n",
       "\n",
       "    .dataframe tbody tr th {\n",
       "        vertical-align: top;\n",
       "    }\n",
       "\n",
       "    .dataframe thead th {\n",
       "        text-align: right;\n",
       "    }\n",
       "</style>\n",
       "<table border=\"1\" class=\"dataframe\">\n",
       "  <thead>\n",
       "    <tr style=\"text-align: right;\">\n",
       "      <th></th>\n",
       "      <th>TV</th>\n",
       "      <th>Radio</th>\n",
       "      <th>Newspaper</th>\n",
       "      <th>Sales</th>\n",
       "    </tr>\n",
       "  </thead>\n",
       "  <tbody>\n",
       "    <tr>\n",
       "      <th>0</th>\n",
       "      <td>230.1</td>\n",
       "      <td>37.8</td>\n",
       "      <td>69.2</td>\n",
       "      <td>22.1</td>\n",
       "    </tr>\n",
       "    <tr>\n",
       "      <th>1</th>\n",
       "      <td>44.5</td>\n",
       "      <td>39.3</td>\n",
       "      <td>45.1</td>\n",
       "      <td>10.4</td>\n",
       "    </tr>\n",
       "    <tr>\n",
       "      <th>2</th>\n",
       "      <td>17.2</td>\n",
       "      <td>45.9</td>\n",
       "      <td>69.3</td>\n",
       "      <td>9.3</td>\n",
       "    </tr>\n",
       "    <tr>\n",
       "      <th>3</th>\n",
       "      <td>151.5</td>\n",
       "      <td>41.3</td>\n",
       "      <td>58.5</td>\n",
       "      <td>18.5</td>\n",
       "    </tr>\n",
       "    <tr>\n",
       "      <th>4</th>\n",
       "      <td>180.8</td>\n",
       "      <td>10.8</td>\n",
       "      <td>58.4</td>\n",
       "      <td>12.9</td>\n",
       "    </tr>\n",
       "    <tr>\n",
       "      <th>...</th>\n",
       "      <td>...</td>\n",
       "      <td>...</td>\n",
       "      <td>...</td>\n",
       "      <td>...</td>\n",
       "    </tr>\n",
       "    <tr>\n",
       "      <th>195</th>\n",
       "      <td>38.2</td>\n",
       "      <td>3.7</td>\n",
       "      <td>13.8</td>\n",
       "      <td>7.6</td>\n",
       "    </tr>\n",
       "    <tr>\n",
       "      <th>196</th>\n",
       "      <td>94.2</td>\n",
       "      <td>4.9</td>\n",
       "      <td>8.1</td>\n",
       "      <td>9.7</td>\n",
       "    </tr>\n",
       "    <tr>\n",
       "      <th>197</th>\n",
       "      <td>177.0</td>\n",
       "      <td>9.3</td>\n",
       "      <td>6.4</td>\n",
       "      <td>12.8</td>\n",
       "    </tr>\n",
       "    <tr>\n",
       "      <th>198</th>\n",
       "      <td>283.6</td>\n",
       "      <td>42.0</td>\n",
       "      <td>66.2</td>\n",
       "      <td>25.5</td>\n",
       "    </tr>\n",
       "    <tr>\n",
       "      <th>199</th>\n",
       "      <td>232.1</td>\n",
       "      <td>8.6</td>\n",
       "      <td>8.7</td>\n",
       "      <td>13.4</td>\n",
       "    </tr>\n",
       "  </tbody>\n",
       "</table>\n",
       "<p>200 rows × 4 columns</p>\n",
       "</div>"
      ],
      "text/plain": [
       "        TV  Radio  Newspaper  Sales\n",
       "0    230.1   37.8       69.2   22.1\n",
       "1     44.5   39.3       45.1   10.4\n",
       "2     17.2   45.9       69.3    9.3\n",
       "3    151.5   41.3       58.5   18.5\n",
       "4    180.8   10.8       58.4   12.9\n",
       "..     ...    ...        ...    ...\n",
       "195   38.2    3.7       13.8    7.6\n",
       "196   94.2    4.9        8.1    9.7\n",
       "197  177.0    9.3        6.4   12.8\n",
       "198  283.6   42.0       66.2   25.5\n",
       "199  232.1    8.6        8.7   13.4\n",
       "\n",
       "[200 rows x 4 columns]"
      ]
     },
     "execution_count": 7,
     "metadata": {},
     "output_type": "execute_result"
    }
   ],
   "source": [
    "Ad = pd.read_csv('Advertising.csv')\n",
    "Ad"
   ]
  },
  {
   "cell_type": "code",
   "execution_count": 8,
   "id": "0d116f0e",
   "metadata": {},
   "outputs": [],
   "source": [
    "X = Ad[['TV','Radio','Newspaper']]\n",
    "Y = Ad['Sales']"
   ]
  },
  {
   "cell_type": "code",
   "execution_count": 9,
   "id": "6c9b83af",
   "metadata": {},
   "outputs": [
    {
     "data": {
      "text/html": [
       "<div>\n",
       "<style scoped>\n",
       "    .dataframe tbody tr th:only-of-type {\n",
       "        vertical-align: middle;\n",
       "    }\n",
       "\n",
       "    .dataframe tbody tr th {\n",
       "        vertical-align: top;\n",
       "    }\n",
       "\n",
       "    .dataframe thead th {\n",
       "        text-align: right;\n",
       "    }\n",
       "</style>\n",
       "<table border=\"1\" class=\"dataframe\">\n",
       "  <thead>\n",
       "    <tr style=\"text-align: right;\">\n",
       "      <th></th>\n",
       "      <th>TV</th>\n",
       "      <th>Radio</th>\n",
       "      <th>Newspaper</th>\n",
       "    </tr>\n",
       "  </thead>\n",
       "  <tbody>\n",
       "    <tr>\n",
       "      <th>0</th>\n",
       "      <td>0.967425</td>\n",
       "      <td>0.979066</td>\n",
       "      <td>1.774493</td>\n",
       "    </tr>\n",
       "    <tr>\n",
       "      <th>1</th>\n",
       "      <td>-1.194379</td>\n",
       "      <td>1.080097</td>\n",
       "      <td>0.667903</td>\n",
       "    </tr>\n",
       "    <tr>\n",
       "      <th>2</th>\n",
       "      <td>-1.512360</td>\n",
       "      <td>1.524637</td>\n",
       "      <td>1.779084</td>\n",
       "    </tr>\n",
       "    <tr>\n",
       "      <th>3</th>\n",
       "      <td>0.051919</td>\n",
       "      <td>1.214806</td>\n",
       "      <td>1.283185</td>\n",
       "    </tr>\n",
       "    <tr>\n",
       "      <th>4</th>\n",
       "      <td>0.393196</td>\n",
       "      <td>-0.839507</td>\n",
       "      <td>1.278593</td>\n",
       "    </tr>\n",
       "    <tr>\n",
       "      <th>...</th>\n",
       "      <td>...</td>\n",
       "      <td>...</td>\n",
       "      <td>...</td>\n",
       "    </tr>\n",
       "    <tr>\n",
       "      <th>195</th>\n",
       "      <td>-1.267759</td>\n",
       "      <td>-1.317724</td>\n",
       "      <td>-0.769287</td>\n",
       "    </tr>\n",
       "    <tr>\n",
       "      <th>196</th>\n",
       "      <td>-0.615491</td>\n",
       "      <td>-1.236899</td>\n",
       "      <td>-1.031011</td>\n",
       "    </tr>\n",
       "    <tr>\n",
       "      <th>197</th>\n",
       "      <td>0.348934</td>\n",
       "      <td>-0.940539</td>\n",
       "      <td>-1.109069</td>\n",
       "    </tr>\n",
       "    <tr>\n",
       "      <th>198</th>\n",
       "      <td>1.590574</td>\n",
       "      <td>1.261955</td>\n",
       "      <td>1.636743</td>\n",
       "    </tr>\n",
       "    <tr>\n",
       "      <th>199</th>\n",
       "      <td>0.990720</td>\n",
       "      <td>-0.987687</td>\n",
       "      <td>-1.003461</td>\n",
       "    </tr>\n",
       "  </tbody>\n",
       "</table>\n",
       "<p>200 rows × 3 columns</p>\n",
       "</div>"
      ],
      "text/plain": [
       "           TV     Radio  Newspaper\n",
       "0    0.967425  0.979066   1.774493\n",
       "1   -1.194379  1.080097   0.667903\n",
       "2   -1.512360  1.524637   1.779084\n",
       "3    0.051919  1.214806   1.283185\n",
       "4    0.393196 -0.839507   1.278593\n",
       "..        ...       ...        ...\n",
       "195 -1.267759 -1.317724  -0.769287\n",
       "196 -0.615491 -1.236899  -1.031011\n",
       "197  0.348934 -0.940539  -1.109069\n",
       "198  1.590574  1.261955   1.636743\n",
       "199  0.990720 -0.987687  -1.003461\n",
       "\n",
       "[200 rows x 3 columns]"
      ]
     },
     "execution_count": 9,
     "metadata": {},
     "output_type": "execute_result"
    }
   ],
   "source": [
    "Y = np.array((Y - Y.mean())/Y.std())\n",
    "X = X.apply(lambda rec: (rec - rec.mean())/rec.std(), axis=0)\n",
    "X"
   ]
  },
  {
   "cell_type": "code",
   "execution_count": 10,
   "id": "572f733b",
   "metadata": {},
   "outputs": [],
   "source": [
    "import random\n",
    "\n",
    "def ini(dim):\n",
    "    np.random.seed(seed=42)\n",
    "    random.seed(42)\n",
    "    b=random.random()\n",
    "    w=np.random.rand(dim)\n",
    "    return b,w"
   ]
  },
  {
   "cell_type": "code",
   "execution_count": 11,
   "id": "8f482c06",
   "metadata": {},
   "outputs": [
    {
     "name": "stdout",
     "output_type": "stream",
     "text": [
      "bias 0.6394267984578837 weights [0.37454012 0.95071431 0.73199394]\n"
     ]
    }
   ],
   "source": [
    "b,w=ini(3)\n",
    "print('bias',b,'weights',w)"
   ]
  },
  {
   "cell_type": "code",
   "execution_count": 12,
   "id": "6b0c2dec",
   "metadata": {},
   "outputs": [],
   "source": [
    "def predy(b, w, X):\n",
    "    return b+np.dot(X, w)"
   ]
  },
  {
   "cell_type": "code",
   "execution_count": 13,
   "id": "fc440a97",
   "metadata": {},
   "outputs": [
    {
     "data": {
      "text/plain": [
       "array([ 3.23149557,  1.70784873,  2.82476076,  2.75309026,  0.92448558,\n",
       "        3.17136498,  0.62234399, -0.34935444, -2.313095  , -0.76802983])"
      ]
     },
     "execution_count": 13,
     "metadata": {},
     "output_type": "execute_result"
    }
   ],
   "source": [
    "b,w = ini(3)\n",
    "Yhat = predy(b, w, X)\n",
    "Yhat[0:10]"
   ]
  },
  {
   "cell_type": "code",
   "execution_count": 14,
   "id": "461245b8",
   "metadata": {},
   "outputs": [],
   "source": [
    "import math\n",
    "def gcost(Y, Yhat):\n",
    "    Yresid = Y-Yhat\n",
    "    return np.sum(np.dot(Yresid.T, Yresid))/len(Yresid)"
   ]
  },
  {
   "cell_type": "code",
   "execution_count": 15,
   "id": "0949d659",
   "metadata": {},
   "outputs": [
    {
     "data": {
      "text/plain": [
       "1.5303100198505895"
      ]
     },
     "execution_count": 15,
     "metadata": {},
     "output_type": "execute_result"
    }
   ],
   "source": [
    "b,w = ini(3)\n",
    "Yhat = predy(b,w,X)\n",
    "gcost(Y, Yhat)"
   ]
  },
  {
   "cell_type": "code",
   "execution_count": 16,
   "id": "e0a886b9",
   "metadata": {},
   "outputs": [],
   "source": [
    "def update(X,Y,Yhat,b0,w0,learning_rate):\n",
    "    db = (np.sum(Yhat - Y)*2)/len(Y)      # gradient of bias\n",
    "    dw = (np.dot((Yhat-Y),X)*2)/len(Y)       # gadient of weights\n",
    "    b1 = b0 - learning_rate*db            # update bias\n",
    "    w1 = w0 - learning_rate*dw            # update beta\n",
    "    return b1,w1                       # return new bias and beta values"
   ]
  },
  {
   "cell_type": "code",
   "execution_count": 17,
   "id": "a77a107d",
   "metadata": {},
   "outputs": [
    {
     "name": "stdout",
     "output_type": "stream",
     "text": [
      "After initialization - bias 0.6394267984578837 weights: [0.37454012 0.95071431 0.73199394]\n",
      "After first update bias 0.6266382624887261 weights [0.38079093 0.9376953  0.71484883]\n"
     ]
    }
   ],
   "source": [
    "b,w =ini(3)\n",
    "print('After initialization - bias', b, 'weights:',w)\n",
    "Yhat = predy(b,w,X)\n",
    "b,w = update(X,Y,Yhat,b,w,0.01)\n",
    "print('After first update bias',b,'weights', w)"
   ]
  },
  {
   "cell_type": "code",
   "execution_count": 18,
   "id": "466e4f79",
   "metadata": {},
   "outputs": [],
   "source": [
    "def run(X,Y,alpha = 0.01, num_iterations = 100):\n",
    "    b,w = ini(X.shape[1])\n",
    "    iter_num = 0\n",
    "    gdi = pd.DataFrame(columns = ['iteration','cost'])\n",
    "    result_idx = 0\n",
    "    for each_iter in range(num_iterations):\n",
    "        Yhat = predy(b,w,X)\n",
    "        this_cost = gcost(Y,Yhat)\n",
    "        prev_b = b\n",
    "        prev_w = w\n",
    "        b, w = update(X, Y, Yhat, prev_b, prev_w, alpha)\n",
    "        if(iter_num % 10 == 0):\n",
    "            gdi.loc[result_idx] = [iter_num, this_cost]\n",
    "            result_idx += 1\n",
    "        iter_num += 1\n",
    "    print('Final estimate of b and w', b,w)\n",
    "    return gdi,b,w\n",
    "\n"
   ]
  },
  {
   "cell_type": "code",
   "execution_count": 19,
   "id": "2297a290",
   "metadata": {},
   "outputs": [
    {
     "name": "stdout",
     "output_type": "stream",
     "text": [
      "Final estimate of b and w 2.775466205076477e-16 [ 0.75306591  0.53648155 -0.00433069]\n"
     ]
    }
   ],
   "source": [
    "gdi1,b,w = run(X,Y,alpha = 0.01, num_iterations = 10000)"
   ]
  },
  {
   "cell_type": "code",
   "execution_count": 20,
   "id": "8f0f227f",
   "metadata": {},
   "outputs": [
    {
     "data": {
      "text/plain": [
       "(0.0, 250.0)"
      ]
     },
     "execution_count": 20,
     "metadata": {},
     "output_type": "execute_result"
    },
    {
     "data": {
      "image/png": "[encoded data removed]",
      "text/plain": [
       "<Figure size 432x288 with 1 Axes>"
      ]
     },
     "metadata": {
      "needs_background": "light"
     },
     "output_type": "display_data"
    }
   ],
   "source": [
    "import matplotlib.pyplot as plt\n",
    "plt.plot(gdi1['iteration'], gdi1['cost'])\n",
    "plt.xlim(0,250)"
   ]
  },
  {
   "cell_type": "code",
   "execution_count": null,
   "id": "be460800",
   "metadata": {},
   "outputs": [],
   "source": []
  },
  {
   "cell_type": "code",
   "execution_count": 21,
   "id": "18133eb6",
   "metadata": {},
   "outputs": [
    {
     "name": "stdout",
     "output_type": "stream",
     "text": [
      "Final estimate of b and w 1.2918253342422793e-09 [ 0.75306591  0.53648113 -0.00433026]\n"
     ]
    }
   ],
   "source": [
    "# loer learning rate of 0.001\n",
    "gdi1,b,w = run(X,Y,alpha = 0.001, num_iterations = 10000)"
   ]
  },
  {
   "cell_type": "code",
   "execution_count": 22,
   "id": "b955eb8a",
   "metadata": {},
   "outputs": [
    {
     "data": {
      "text/plain": [
       "(0.0, 2000.0)"
      ]
     },
     "execution_count": 22,
     "metadata": {},
     "output_type": "execute_result"
    },
    {
     "data": {
      "image/png": "[encoded data removed]",
      "text/plain": [
       "<Figure size 432x288 with 1 Axes>"
      ]
     },
     "metadata": {
      "needs_background": "light"
     },
     "output_type": "display_data"
    }
   ],
   "source": [
    "plt.plot(gdi1['iteration'], gdi1['cost'])\n",
    "plt.xlim(0,2000)"
   ]
  },
  {
   "cell_type": "markdown",
   "id": "7e2139b1",
   "metadata": {},
   "source": [
    "### Scikit learn library for Machine Learning"
   ]
  },
  {
   "cell_type": "code",
   "execution_count": 23,
   "id": "d0aeb7ed",
   "metadata": {},
   "outputs": [],
   "source": [
    "from sklearn.model_selection import train_test_split\n",
    "from sklearn.linear_model import LinearRegression"
   ]
  },
  {
   "cell_type": "code",
   "execution_count": 24,
   "id": "e2892b74",
   "metadata": {},
   "outputs": [],
   "source": [
    "Xtrain, Xtest, Ytrain, Ytest = train_test_split(Ad[['TV','Radio','Newspaper']] ,Ad['Sales'],  test_size=0.3, random_state=42)"
   ]
  },
  {
   "cell_type": "code",
   "execution_count": 25,
   "id": "bcfcc98f",
   "metadata": {},
   "outputs": [
    {
     "data": {
      "text/plain": [
       "LinearRegression()"
      ]
     },
     "execution_count": 25,
     "metadata": {},
     "output_type": "execute_result"
    }
   ],
   "source": [
    "linreg = LinearRegression ()\n",
    "linreg.fit(Xtrain, Ytrain)"
   ]
  },
  {
   "cell_type": "code",
   "execution_count": 26,
   "id": "50c9b75a",
   "metadata": {},
   "outputs": [
    {
     "data": {
      "text/plain": [
       "2.70894909251591"
      ]
     },
     "execution_count": 26,
     "metadata": {},
     "output_type": "execute_result"
    }
   ],
   "source": [
    "linreg.intercept_"
   ]
  },
  {
   "cell_type": "code",
   "execution_count": 27,
   "id": "79b42ae5",
   "metadata": {},
   "outputs": [
    {
     "data": {
      "text/plain": [
       "array([0.04405928, 0.1992875 , 0.00688245])"
      ]
     },
     "execution_count": 27,
     "metadata": {},
     "output_type": "execute_result"
    }
   ],
   "source": [
    "linreg.coef_"
   ]
  },
  {
   "cell_type": "code",
   "execution_count": 28,
   "id": "1e760049",
   "metadata": {},
   "outputs": [
    {
     "data": {
      "text/plain": [
       "[('TV', 0.0440592809574652),\n",
       " ('Radio', 0.19928749689893954),\n",
       " ('Newspaper', 0.006882452222275456)]"
      ]
     },
     "execution_count": 28,
     "metadata": {},
     "output_type": "execute_result"
    }
   ],
   "source": [
    "list(zip(Xtrain.columns, (linreg.coef_)))"
   ]
  },
  {
   "cell_type": "markdown",
   "id": "6fc7bf3d",
   "metadata": {},
   "source": [
    "Sales = 2.708 + 0.044TV + 0.199 Radio + 0.006 Newspaper"
   ]
  },
  {
   "cell_type": "code",
   "execution_count": 29,
   "id": "f0426500",
   "metadata": {},
   "outputs": [],
   "source": [
    "ypred = linreg.predict(Xtest)\n"
   ]
  },
  {
   "cell_type": "code",
   "execution_count": 30,
   "id": "3d3dd6d8",
   "metadata": {},
   "outputs": [
    {
     "data": {
      "text/html": [
       "<div>\n",
       "<style scoped>\n",
       "    .dataframe tbody tr th:only-of-type {\n",
       "        vertical-align: middle;\n",
       "    }\n",
       "\n",
       "    .dataframe tbody tr th {\n",
       "        vertical-align: top;\n",
       "    }\n",
       "\n",
       "    .dataframe thead th {\n",
       "        text-align: right;\n",
       "    }\n",
       "</style>\n",
       "<table border=\"1\" class=\"dataframe\">\n",
       "  <thead>\n",
       "    <tr style=\"text-align: right;\">\n",
       "      <th></th>\n",
       "      <th>actual</th>\n",
       "      <th>predicted</th>\n",
       "    </tr>\n",
       "  </thead>\n",
       "  <tbody>\n",
       "    <tr>\n",
       "      <th>95</th>\n",
       "      <td>16.9</td>\n",
       "      <td>16.57</td>\n",
       "    </tr>\n",
       "    <tr>\n",
       "      <th>15</th>\n",
       "      <td>22.4</td>\n",
       "      <td>21.19</td>\n",
       "    </tr>\n",
       "    <tr>\n",
       "      <th>30</th>\n",
       "      <td>21.4</td>\n",
       "      <td>21.55</td>\n",
       "    </tr>\n",
       "    <tr>\n",
       "      <th>158</th>\n",
       "      <td>7.3</td>\n",
       "      <td>10.89</td>\n",
       "    </tr>\n",
       "    <tr>\n",
       "      <th>128</th>\n",
       "      <td>24.7</td>\n",
       "      <td>22.20</td>\n",
       "    </tr>\n",
       "    <tr>\n",
       "      <th>115</th>\n",
       "      <td>12.6</td>\n",
       "      <td>13.36</td>\n",
       "    </tr>\n",
       "    <tr>\n",
       "      <th>69</th>\n",
       "      <td>22.3</td>\n",
       "      <td>21.20</td>\n",
       "    </tr>\n",
       "    <tr>\n",
       "      <th>170</th>\n",
       "      <td>8.4</td>\n",
       "      <td>7.35</td>\n",
       "    </tr>\n",
       "    <tr>\n",
       "      <th>174</th>\n",
       "      <td>11.5</td>\n",
       "      <td>13.28</td>\n",
       "    </tr>\n",
       "    <tr>\n",
       "      <th>45</th>\n",
       "      <td>14.9</td>\n",
       "      <td>15.12</td>\n",
       "    </tr>\n",
       "  </tbody>\n",
       "</table>\n",
       "</div>"
      ],
      "text/plain": [
       "     actual  predicted\n",
       "95     16.9      16.57\n",
       "15     22.4      21.19\n",
       "30     21.4      21.55\n",
       "158     7.3      10.89\n",
       "128    24.7      22.20\n",
       "115    12.6      13.36\n",
       "69     22.3      21.20\n",
       "170     8.4       7.35\n",
       "174    11.5      13.28\n",
       "45     14.9      15.12"
      ]
     },
     "execution_count": 30,
     "metadata": {},
     "output_type": "execute_result"
    }
   ],
   "source": [
    "test_pred = pd.DataFrame({'actual': Ytest, 'predicted': np.round(ypred,2)})\n",
    "test_pred[:10]"
   ]
  },
  {
   "cell_type": "code",
   "execution_count": 31,
   "id": "c3acece0",
   "metadata": {},
   "outputs": [],
   "source": [
    "from sklearn import metrics"
   ]
  },
  {
   "cell_type": "code",
   "execution_count": 32,
   "id": "72a152e1",
   "metadata": {},
   "outputs": [
    {
     "name": "stdout",
     "output_type": "stream",
     "text": [
      "R-squared:  0.9055159502227753\n"
     ]
    }
   ],
   "source": [
    "r2 = metrics.r2_score(Ytrain, linreg.predict(Xtrain))\n",
    "print('R-squared: ',r2)"
   ]
  },
  {
   "cell_type": "code",
   "execution_count": 33,
   "id": "8fe7c12b",
   "metadata": {},
   "outputs": [],
   "source": [
    "mse = metrics.mean_squared_error(Ytest,ypred)"
   ]
  },
  {
   "cell_type": "code",
   "execution_count": 34,
   "id": "62fc2e1f",
   "metadata": {},
   "outputs": [
    {
     "name": "stdout",
     "output_type": "stream",
     "text": [
      "RMSE:  1.95\n"
     ]
    }
   ],
   "source": [
    "rmse = round(np.sqrt(mse),2)\n",
    "print('RMSE: ', rmse)"
   ]
  },
  {
   "cell_type": "code",
   "execution_count": null,
   "id": "99ce2eba",
   "metadata": {},
   "outputs": [],
   "source": []
  },
  {
   "cell_type": "markdown",
   "id": "62180be4",
   "metadata": {},
   "source": [
    "### Validation Dataset"
   ]
  },
  {
   "cell_type": "code",
   "execution_count": 35,
   "id": "8b5839da",
   "metadata": {},
   "outputs": [],
   "source": [
    "Ad = pd.read_csv('Advertising.csv')\n",
    "X = Ad[['TV','Radio','Newspaper']]\n",
    "Y = Ad['Sales']"
   ]
  },
  {
   "cell_type": "code",
   "execution_count": 36,
   "id": "eed123cf",
   "metadata": {},
   "outputs": [],
   "source": [
    "Xtrain, Xother, Ytrain, Yother = train_test_split(Ad[['TV','Radio','Newspaper']] ,Ad['Sales'],  test_size=0.3, random_state=42)"
   ]
  },
  {
   "cell_type": "code",
   "execution_count": 37,
   "id": "9f2638ca",
   "metadata": {},
   "outputs": [],
   "source": [
    "Xeval, Xtest, Yeval, Ytest = train_test_split(Xother ,Yother,  test_size=0.5, random_state=42)"
   ]
  },
  {
   "cell_type": "code",
   "execution_count": 38,
   "id": "5acd4f81",
   "metadata": {},
   "outputs": [],
   "source": [
    "from sklearn.preprocessing import StandardScaler"
   ]
  },
  {
   "cell_type": "code",
   "execution_count": 39,
   "id": "0bff20f4",
   "metadata": {},
   "outputs": [],
   "source": [
    "scaler = StandardScaler()\n",
    "\n",
    "# for one stdev change in X value, the Y stdev changes by beta\n",
    "\n",
    "# Standardized Beta = Unstandardized Beta * (stdev X/ stdev Y)"
   ]
  },
  {
   "cell_type": "code",
   "execution_count": 40,
   "id": "3edf54e6",
   "metadata": {},
   "outputs": [],
   "source": [
    "Xtrain = scaler.fit_transform(Xtrain)"
   ]
  },
  {
   "cell_type": "code",
   "execution_count": 41,
   "id": "c3d196ef",
   "metadata": {},
   "outputs": [],
   "source": [
    "Xtest = scaler.transform(Xtest)"
   ]
  },
  {
   "cell_type": "code",
   "execution_count": 42,
   "id": "0c116b61",
   "metadata": {},
   "outputs": [],
   "source": [
    "Xeval = scaler.transform(Xeval)"
   ]
  },
  {
   "cell_type": "code",
   "execution_count": 43,
   "id": "6759bae3",
   "metadata": {},
   "outputs": [],
   "source": [
    "lm = LinearRegression()"
   ]
  },
  {
   "cell_type": "code",
   "execution_count": 44,
   "id": "25410ba7",
   "metadata": {},
   "outputs": [
    {
     "data": {
      "text/plain": [
       "LinearRegression()"
      ]
     },
     "execution_count": 44,
     "metadata": {},
     "output_type": "execute_result"
    }
   ],
   "source": [
    "lm.fit(Xtrain, Ytrain)"
   ]
  },
  {
   "cell_type": "code",
   "execution_count": 45,
   "id": "979156fc",
   "metadata": {},
   "outputs": [],
   "source": [
    "pred = lm.predict(Xeval)"
   ]
  },
  {
   "cell_type": "code",
   "execution_count": 46,
   "id": "d7e7795e",
   "metadata": {},
   "outputs": [
    {
     "data": {
      "text/plain": [
       "2.54903856871742"
      ]
     },
     "execution_count": 46,
     "metadata": {},
     "output_type": "execute_result"
    }
   ],
   "source": [
    "metrics.mean_squared_error(Yeval,pred)"
   ]
  },
  {
   "cell_type": "code",
   "execution_count": null,
   "id": "d18088de",
   "metadata": {},
   "outputs": [],
   "source": []
  },
  {
   "cell_type": "markdown",
   "id": "793e487f",
   "metadata": {},
   "source": [
    "### KFold Validation"
   ]
  },
  {
   "cell_type": "code",
   "execution_count": 47,
   "id": "44418d3f",
   "metadata": {},
   "outputs": [],
   "source": [
    "Xtrain, Xtest, Ytrain, Ytest = train_test_split(X ,Y,  test_size=0.3, random_state=101)"
   ]
  },
  {
   "cell_type": "code",
   "execution_count": 48,
   "id": "53c29772",
   "metadata": {},
   "outputs": [],
   "source": [
    "Xtrain = scaler.fit_transform(Xtrain)\n",
    "Xtest = scaler.transform(Xtest)"
   ]
  },
  {
   "cell_type": "code",
   "execution_count": 49,
   "id": "0de86a39",
   "metadata": {},
   "outputs": [],
   "source": [
    "from sklearn.model_selection import cross_val_score"
   ]
  },
  {
   "cell_type": "code",
   "execution_count": 50,
   "id": "69ad423b",
   "metadata": {},
   "outputs": [],
   "source": [
    "scores = cross_val_score(lm, Xtrain, Ytrain, scoring = 'neg_mean_squared_error', cv=5)"
   ]
  },
  {
   "cell_type": "code",
   "execution_count": 51,
   "id": "f446c738",
   "metadata": {},
   "outputs": [],
   "source": [
    "from sklearn.metrics import SCORERS"
   ]
  },
  {
   "cell_type": "code",
   "execution_count": 52,
   "id": "a8eee986",
   "metadata": {},
   "outputs": [
    {
     "data": {
      "text/plain": [
       "dict_keys(['explained_variance', 'r2', 'max_error', 'neg_median_absolute_error', 'neg_mean_absolute_error', 'neg_mean_absolute_percentage_error', 'neg_mean_squared_error', 'neg_mean_squared_log_error', 'neg_root_mean_squared_error', 'neg_mean_poisson_deviance', 'neg_mean_gamma_deviance', 'accuracy', 'top_k_accuracy', 'roc_auc', 'roc_auc_ovr', 'roc_auc_ovo', 'roc_auc_ovr_weighted', 'roc_auc_ovo_weighted', 'balanced_accuracy', 'average_precision', 'neg_log_loss', 'neg_brier_score', 'adjusted_rand_score', 'rand_score', 'homogeneity_score', 'completeness_score', 'v_measure_score', 'mutual_info_score', 'adjusted_mutual_info_score', 'normalized_mutual_info_score', 'fowlkes_mallows_score', 'precision', 'precision_macro', 'precision_micro', 'precision_samples', 'precision_weighted', 'recall', 'recall_macro', 'recall_micro', 'recall_samples', 'recall_weighted', 'f1', 'f1_macro', 'f1_micro', 'f1_samples', 'f1_weighted', 'jaccard', 'jaccard_macro', 'jaccard_micro', 'jaccard_samples', 'jaccard_weighted'])"
      ]
     },
     "execution_count": 52,
     "metadata": {},
     "output_type": "execute_result"
    }
   ],
   "source": [
    "SCORERS.keys()"
   ]
  },
  {
   "cell_type": "code",
   "execution_count": 53,
   "id": "0a4b051c",
   "metadata": {},
   "outputs": [
    {
     "data": {
      "text/plain": [
       "array([-3.13932842, -1.6224631 , -5.37383747, -2.24224626, -4.34167085])"
      ]
     },
     "execution_count": 53,
     "metadata": {},
     "output_type": "execute_result"
    }
   ],
   "source": [
    "scores"
   ]
  },
  {
   "cell_type": "code",
   "execution_count": 54,
   "id": "076b1e42",
   "metadata": {},
   "outputs": [
    {
     "data": {
      "text/plain": [
       "3.343909221204691"
      ]
     },
     "execution_count": 54,
     "metadata": {},
     "output_type": "execute_result"
    }
   ],
   "source": [
    "abs(scores.mean())"
   ]
  },
  {
   "cell_type": "code",
   "execution_count": 55,
   "id": "a7ac0498",
   "metadata": {},
   "outputs": [
    {
     "data": {
      "text/plain": [
       "array([3.68334078, 2.90625242, 0.14194772])"
      ]
     },
     "execution_count": 55,
     "metadata": {},
     "output_type": "execute_result"
    }
   ],
   "source": [
    "lm.coef_"
   ]
  },
  {
   "cell_type": "code",
   "execution_count": 56,
   "id": "389e496c",
   "metadata": {},
   "outputs": [],
   "source": [
    "pred1 = lm.predict(Xtest)"
   ]
  },
  {
   "cell_type": "code",
   "execution_count": 57,
   "id": "244ea83b",
   "metadata": {},
   "outputs": [
    {
     "data": {
      "text/plain": [
       "2.5173949444405155"
      ]
     },
     "execution_count": 57,
     "metadata": {},
     "output_type": "execute_result"
    }
   ],
   "source": [
    "metrics.mean_squared_error(Ytest,pred1)"
   ]
  },
  {
   "cell_type": "code",
   "execution_count": null,
   "id": "6ccd24d7",
   "metadata": {},
   "outputs": [],
   "source": []
  },
  {
   "cell_type": "markdown",
   "id": "149c2fae",
   "metadata": {},
   "source": [
    "## Lasso Regression"
   ]
  },
  {
   "cell_type": "code",
   "execution_count": 58,
   "id": "a24756ad",
   "metadata": {},
   "outputs": [],
   "source": [
    "from sklearn.linear_model import Lasso"
   ]
  },
  {
   "cell_type": "code",
   "execution_count": 59,
   "id": "023064a6",
   "metadata": {},
   "outputs": [],
   "source": [
    "lassomodel = Lasso(alpha = 0.1, max_iter = 5000)"
   ]
  },
  {
   "cell_type": "code",
   "execution_count": 60,
   "id": "32eb445d",
   "metadata": {},
   "outputs": [
    {
     "data": {
      "text/plain": [
       "Lasso(alpha=0.1, max_iter=5000)"
      ]
     },
     "execution_count": 60,
     "metadata": {},
     "output_type": "execute_result"
    }
   ],
   "source": [
    "lassomodel.fit(Xtrain, Ytrain)"
   ]
  },
  {
   "cell_type": "code",
   "execution_count": 61,
   "id": "99862f26",
   "metadata": {},
   "outputs": [
    {
     "data": {
      "text/plain": [
       "array([3.67201171, 2.67007381, 0.        ])"
      ]
     },
     "execution_count": 61,
     "metadata": {},
     "output_type": "execute_result"
    }
   ],
   "source": [
    "lassomodel.coef_"
   ]
  },
  {
   "cell_type": "code",
   "execution_count": 62,
   "id": "49a0a5a5",
   "metadata": {},
   "outputs": [],
   "source": [
    "predict = lassomodel.predict(Xtest)"
   ]
  },
  {
   "cell_type": "code",
   "execution_count": 63,
   "id": "03a8ee40",
   "metadata": {},
   "outputs": [
    {
     "data": {
      "text/plain": [
       "2.3873426420874737"
      ]
     },
     "execution_count": 63,
     "metadata": {},
     "output_type": "execute_result"
    }
   ],
   "source": [
    "metrics.mean_squared_error(Ytest,predict)"
   ]
  },
  {
   "cell_type": "code",
   "execution_count": null,
   "id": "19c160f4",
   "metadata": {},
   "outputs": [],
   "source": []
  },
  {
   "cell_type": "code",
   "execution_count": null,
   "id": "1aee494b",
   "metadata": {},
   "outputs": [],
   "source": []
  },
  {
   "cell_type": "markdown",
   "id": "261665da",
   "metadata": {},
   "source": [
    "### Lasso With Cross Validation"
   ]
  },
  {
   "cell_type": "code",
   "execution_count": 64,
   "id": "10a4164c",
   "metadata": {},
   "outputs": [],
   "source": [
    "from sklearn.linear_model import LassoCV"
   ]
  },
  {
   "cell_type": "code",
   "execution_count": 65,
   "id": "b7c03ac6",
   "metadata": {},
   "outputs": [],
   "source": [
    "lassocvmodel = LassoCV(eps = 0.001, alphas=[-1,0.01,10], cv=5, max_iter = 100000)"
   ]
  },
  {
   "cell_type": "code",
   "execution_count": 66,
   "id": "f849686d",
   "metadata": {},
   "outputs": [
    {
     "data": {
      "text/plain": [
       "LassoCV(alphas=[-1, 0.01, 10], cv=5, max_iter=100000)"
      ]
     },
     "execution_count": 66,
     "metadata": {},
     "output_type": "execute_result"
    }
   ],
   "source": [
    "lassocvmodel.fit(Xtrain, Ytrain)"
   ]
  },
  {
   "cell_type": "code",
   "execution_count": 67,
   "id": "d46dfd6e",
   "metadata": {},
   "outputs": [
    {
     "data": {
      "text/plain": [
       "0.01"
      ]
     },
     "execution_count": 67,
     "metadata": {},
     "output_type": "execute_result"
    }
   ],
   "source": [
    "lassocvmodel.alpha_"
   ]
  },
  {
   "cell_type": "code",
   "execution_count": 68,
   "id": "3201f7d8",
   "metadata": {},
   "outputs": [],
   "source": [
    "predict = lassocvmodel.predict(Xtest)"
   ]
  },
  {
   "cell_type": "code",
   "execution_count": 69,
   "id": "3476c2d9",
   "metadata": {},
   "outputs": [
    {
     "data": {
      "text/plain": [
       "2.3066370693239673"
      ]
     },
     "execution_count": 69,
     "metadata": {},
     "output_type": "execute_result"
    }
   ],
   "source": [
    "metrics.mean_squared_error(Ytest,predict)"
   ]
  },
  {
   "cell_type": "code",
   "execution_count": null,
   "id": "c38f91dc",
   "metadata": {},
   "outputs": [],
   "source": []
  },
  {
   "cell_type": "code",
   "execution_count": 70,
   "id": "ac0506f1",
   "metadata": {},
   "outputs": [],
   "source": [
    "lassocvmodel = LassoCV(eps = 0.0001, n_alphas=1000 , cv=5, max_iter = 100000)"
   ]
  },
  {
   "cell_type": "code",
   "execution_count": 71,
   "id": "a243afa1",
   "metadata": {},
   "outputs": [
    {
     "data": {
      "text/plain": [
       "LassoCV(cv=5, eps=0.0001, max_iter=100000, n_alphas=1000)"
      ]
     },
     "execution_count": 71,
     "metadata": {},
     "output_type": "execute_result"
    }
   ],
   "source": [
    "lassocvmodel.fit(Xtrain, Ytrain)"
   ]
  },
  {
   "cell_type": "code",
   "execution_count": 72,
   "id": "594732fe",
   "metadata": {},
   "outputs": [
    {
     "data": {
      "text/plain": [
       "0.09472651317300008"
      ]
     },
     "execution_count": 72,
     "metadata": {},
     "output_type": "execute_result"
    }
   ],
   "source": [
    "lassocvmodel.alpha_"
   ]
  },
  {
   "cell_type": "code",
   "execution_count": 73,
   "id": "133cb46e",
   "metadata": {},
   "outputs": [],
   "source": [
    "predict = lassocvmodel.predict(Xtest)"
   ]
  },
  {
   "cell_type": "code",
   "execution_count": 74,
   "id": "93dffb9a",
   "metadata": {},
   "outputs": [
    {
     "data": {
      "text/plain": [
       "2.381761060791874"
      ]
     },
     "execution_count": 74,
     "metadata": {},
     "output_type": "execute_result"
    }
   ],
   "source": [
    "metrics.mean_squared_error(Ytest,predict)"
   ]
  },
  {
   "cell_type": "code",
   "execution_count": null,
   "id": "0337b18e",
   "metadata": {},
   "outputs": [],
   "source": []
  },
  {
   "cell_type": "markdown",
   "id": "fe5ad472",
   "metadata": {},
   "source": [
    "### L2 Norm  Ridge"
   ]
  },
  {
   "cell_type": "code",
   "execution_count": 75,
   "id": "14d02725",
   "metadata": {},
   "outputs": [],
   "source": [
    "from sklearn.linear_model import Ridge"
   ]
  },
  {
   "cell_type": "code",
   "execution_count": 76,
   "id": "80143635",
   "metadata": {},
   "outputs": [],
   "source": [
    "ridgemodel = Ridge(alpha = 3, max_iter = 1000)"
   ]
  },
  {
   "cell_type": "code",
   "execution_count": 77,
   "id": "6b6002e7",
   "metadata": {},
   "outputs": [
    {
     "data": {
      "text/plain": [
       "Ridge(alpha=3, max_iter=1000)"
      ]
     },
     "execution_count": 77,
     "metadata": {},
     "output_type": "execute_result"
    }
   ],
   "source": [
    "ridgemodel.fit(Xtrain, Ytrain)"
   ]
  },
  {
   "cell_type": "code",
   "execution_count": 78,
   "id": "4f96d153",
   "metadata": {},
   "outputs": [
    {
     "data": {
      "text/plain": [
       "array([3.68800558, 2.70440946, 0.02102826])"
      ]
     },
     "execution_count": 78,
     "metadata": {},
     "output_type": "execute_result"
    }
   ],
   "source": [
    "ridgemodel.coef_"
   ]
  },
  {
   "cell_type": "code",
   "execution_count": 79,
   "id": "3e7b8682",
   "metadata": {},
   "outputs": [],
   "source": [
    "predict = ridgemodel.predict(Xtest)"
   ]
  },
  {
   "cell_type": "code",
   "execution_count": 80,
   "id": "9d14a33b",
   "metadata": {},
   "outputs": [
    {
     "data": {
      "text/plain": [
       "2.3656314101377873"
      ]
     },
     "execution_count": 80,
     "metadata": {},
     "output_type": "execute_result"
    }
   ],
   "source": [
    "metrics.mean_squared_error(Ytest,predict)"
   ]
  },
  {
   "cell_type": "code",
   "execution_count": null,
   "id": "453d96da",
   "metadata": {},
   "outputs": [],
   "source": []
  },
  {
   "cell_type": "markdown",
   "id": "17b8c951",
   "metadata": {},
   "source": [
    "## Ridge with CV"
   ]
  },
  {
   "cell_type": "code",
   "execution_count": 87,
   "id": "13e9e41e",
   "metadata": {},
   "outputs": [],
   "source": [
    "from sklearn.linear_model import RidgeCV"
   ]
  },
  {
   "cell_type": "code",
   "execution_count": 88,
   "id": "4945588a",
   "metadata": {},
   "outputs": [],
   "source": [
    "ridgemodelcv = RidgeCV(alphas=(0.1,1,10), scoring = 'neg_mean_squared_error' )"
   ]
  },
  {
   "cell_type": "code",
   "execution_count": 89,
   "id": "9a4281b7",
   "metadata": {},
   "outputs": [
    {
     "data": {
      "text/plain": [
       "RidgeCV(alphas=array([ 0.1,  1. , 10. ]), scoring='neg_mean_squared_error')"
      ]
     },
     "execution_count": 89,
     "metadata": {},
     "output_type": "execute_result"
    }
   ],
   "source": [
    "ridgemodelcv.fit(Xtrain, Ytrain)"
   ]
  },
  {
   "cell_type": "code",
   "execution_count": 90,
   "id": "27ce7491",
   "metadata": {},
   "outputs": [
    {
     "data": {
      "text/plain": [
       "0.1"
      ]
     },
     "execution_count": 90,
     "metadata": {},
     "output_type": "execute_result"
    }
   ],
   "source": [
    "ridgemodelcv.alpha_"
   ]
  },
  {
   "cell_type": "code",
   "execution_count": 91,
   "id": "dee102fc",
   "metadata": {},
   "outputs": [
    {
     "data": {
      "text/plain": [
       "array([ 3.76333559,  2.76339947, -0.00593674])"
      ]
     },
     "execution_count": 91,
     "metadata": {},
     "output_type": "execute_result"
    }
   ],
   "source": [
    "ridgemodelcv.coef_"
   ]
  },
  {
   "cell_type": "code",
   "execution_count": 92,
   "id": "1288617d",
   "metadata": {},
   "outputs": [],
   "source": [
    "predict = ridgemodelcv.predict(Xtest)"
   ]
  },
  {
   "cell_type": "code",
   "execution_count": 93,
   "id": "090debfb",
   "metadata": {},
   "outputs": [
    {
     "data": {
      "text/plain": [
       "2.300652700355757"
      ]
     },
     "execution_count": 93,
     "metadata": {},
     "output_type": "execute_result"
    }
   ],
   "source": [
    "metrics.mean_squared_error(Ytest,predict)"
   ]
  },
  {
   "cell_type": "code",
   "execution_count": null,
   "id": "b44d8d0d",
   "metadata": {},
   "outputs": [],
   "source": []
  },
  {
   "cell_type": "markdown",
   "id": "f6435d22",
   "metadata": {},
   "source": [
    "## Elastic Net"
   ]
  },
  {
   "cell_type": "code",
   "execution_count": 94,
   "id": "408d4702",
   "metadata": {},
   "outputs": [],
   "source": [
    "from sklearn.linear_model import ElasticNet"
   ]
  },
  {
   "cell_type": "code",
   "execution_count": 95,
   "id": "1883a1b8",
   "metadata": {},
   "outputs": [],
   "source": [
    "enet = ElasticNet(alpha = 0.001, l1_ratio = 0.5, max_iter = 10000)"
   ]
  },
  {
   "cell_type": "code",
   "execution_count": 96,
   "id": "e7f3d781",
   "metadata": {},
   "outputs": [
    {
     "data": {
      "text/plain": [
       "ElasticNet(alpha=0.001, max_iter=10000)"
      ]
     },
     "execution_count": 96,
     "metadata": {},
     "output_type": "execute_result"
    }
   ],
   "source": [
    "enet.fit(Xtrain, Ytrain)"
   ]
  },
  {
   "cell_type": "code",
   "execution_count": 97,
   "id": "ffd473ed",
   "metadata": {},
   "outputs": [],
   "source": [
    "prediction = enet.predict(Xtest)"
   ]
  },
  {
   "cell_type": "code",
   "execution_count": 98,
   "id": "e1875c0b",
   "metadata": {},
   "outputs": [
    {
     "data": {
      "text/plain": [
       "2.300511846625849"
      ]
     },
     "execution_count": 98,
     "metadata": {},
     "output_type": "execute_result"
    }
   ],
   "source": [
    "metrics.mean_squared_error(Ytest,prediction)"
   ]
  },
  {
   "cell_type": "code",
   "execution_count": null,
   "id": "119afcb5",
   "metadata": {},
   "outputs": [],
   "source": []
  },
  {
   "cell_type": "code",
   "execution_count": 99,
   "id": "7f8d11fe",
   "metadata": {},
   "outputs": [],
   "source": [
    "#Elastic Net with CV"
   ]
  },
  {
   "cell_type": "code",
   "execution_count": 100,
   "id": "4a20f1a4",
   "metadata": {},
   "outputs": [],
   "source": [
    "from sklearn.linear_model import ElasticNetCV"
   ]
  },
  {
   "cell_type": "code",
   "execution_count": 109,
   "id": "30f3ecbd",
   "metadata": {},
   "outputs": [],
   "source": [
    "enetcv = ElasticNetCV(l1_ratio = [.1,.2, .3, .4,.5,.7,.9,.99,1],\n",
    "                     eps = 0.001, n_alphas = 100, max_iter = 100000, cv = 5)"
   ]
  },
  {
   "cell_type": "code",
   "execution_count": 110,
   "id": "85a1cc1e",
   "metadata": {},
   "outputs": [
    {
     "data": {
      "text/plain": [
       "ElasticNetCV(cv=5, l1_ratio=[0.1, 0.2, 0.3, 0.4, 0.5, 0.7, 0.9, 0.99, 1],\n",
       "             max_iter=100000)"
      ]
     },
     "execution_count": 110,
     "metadata": {},
     "output_type": "execute_result"
    }
   ],
   "source": [
    "enetcv.fit(Xtrain, Ytrain)"
   ]
  },
  {
   "cell_type": "code",
   "execution_count": 111,
   "id": "ccd102de",
   "metadata": {},
   "outputs": [
    {
     "data": {
      "text/plain": [
       "1.0"
      ]
     },
     "execution_count": 111,
     "metadata": {},
     "output_type": "execute_result"
    }
   ],
   "source": [
    "enetcv.l1_ratio_"
   ]
  },
  {
   "cell_type": "code",
   "execution_count": 112,
   "id": "f949707e",
   "metadata": {},
   "outputs": [
    {
     "data": {
      "text/plain": [
       "0.0915650077992293"
      ]
     },
     "execution_count": 112,
     "metadata": {},
     "output_type": "execute_result"
    }
   ],
   "source": [
    "enetcv.alpha_"
   ]
  },
  {
   "cell_type": "code",
   "execution_count": 113,
   "id": "aa040ded",
   "metadata": {},
   "outputs": [],
   "source": [
    "predict = enetcv.predict(Xtest)"
   ]
  },
  {
   "cell_type": "code",
   "execution_count": 114,
   "id": "53826250",
   "metadata": {},
   "outputs": [
    {
     "data": {
      "text/plain": [
       "2.3784657395975066"
      ]
     },
     "execution_count": 114,
     "metadata": {},
     "output_type": "execute_result"
    }
   ],
   "source": [
    "metrics.mean_squared_error(Ytest,predict)"
   ]
  },
  {
   "cell_type": "code",
   "execution_count": null,
   "id": "5fa17ff9",
   "metadata": {},
   "outputs": [],
   "source": []
  },
  {
   "cell_type": "markdown",
   "id": "ea935be2",
   "metadata": {},
   "source": [
    "## Grid Search CV"
   ]
  },
  {
   "cell_type": "code",
   "execution_count": 115,
   "id": "1cd0ef37",
   "metadata": {},
   "outputs": [],
   "source": [
    "base = ElasticNet()"
   ]
  },
  {
   "cell_type": "code",
   "execution_count": 116,
   "id": "1de575fc",
   "metadata": {},
   "outputs": [],
   "source": [
    "param = {'alpha': [.001, .01, 1, 5, 10, 50], 'l1_ratio': [.1, .5, .7, .95, .99, 1] }"
   ]
  },
  {
   "cell_type": "code",
   "execution_count": 117,
   "id": "597c47f4",
   "metadata": {},
   "outputs": [],
   "source": [
    "from sklearn.model_selection import GridSearchCV"
   ]
  },
  {
   "cell_type": "code",
   "execution_count": 120,
   "id": "7f7c16dc",
   "metadata": {},
   "outputs": [],
   "source": [
    "grid = GridSearchCV(estimator=base, param_grid=param, scoring='neg_mean_squared_error', cv=5, verbose = 1)"
   ]
  },
  {
   "cell_type": "code",
   "execution_count": 121,
   "id": "67cb1b7f",
   "metadata": {},
   "outputs": [
    {
     "name": "stdout",
     "output_type": "stream",
     "text": [
      "Fitting 5 folds for each of 36 candidates, totalling 180 fits\n"
     ]
    },
    {
     "data": {
      "text/plain": [
       "GridSearchCV(cv=5, estimator=ElasticNet(),\n",
       "             param_grid={'alpha': [0.001, 0.01, 1, 5, 10, 50],\n",
       "                         'l1_ratio': [0.1, 0.5, 0.7, 0.95, 0.99, 1]},\n",
       "             scoring='neg_mean_squared_error', verbose=1)"
      ]
     },
     "execution_count": 121,
     "metadata": {},
     "output_type": "execute_result"
    }
   ],
   "source": [
    "grid.fit(Xtrain, Ytrain)"
   ]
  },
  {
   "cell_type": "code",
   "execution_count": 122,
   "id": "bb92f0e3",
   "metadata": {},
   "outputs": [
    {
     "data": {
      "text/plain": [
       "ElasticNet(alpha=0.01, l1_ratio=1)"
      ]
     },
     "execution_count": 122,
     "metadata": {},
     "output_type": "execute_result"
    }
   ],
   "source": [
    "grid.best_estimator_"
   ]
  },
  {
   "cell_type": "code",
   "execution_count": 128,
   "id": "892715f8",
   "metadata": {},
   "outputs": [],
   "source": [
    "# grid.cv_results_\n",
    "# pd.DataFrame(grid.cv_results_)"
   ]
  },
  {
   "cell_type": "code",
   "execution_count": 129,
   "id": "022f685f",
   "metadata": {},
   "outputs": [],
   "source": [
    "predict = grid.predict(Xtest)"
   ]
  },
  {
   "cell_type": "code",
   "execution_count": 130,
   "id": "f4632c18",
   "metadata": {},
   "outputs": [
    {
     "data": {
      "text/plain": [
       "2.3066370693239673"
      ]
     },
     "execution_count": 130,
     "metadata": {},
     "output_type": "execute_result"
    }
   ],
   "source": [
    "metrics.mean_squared_error(Ytest,predict)"
   ]
  },
  {
   "cell_type": "code",
   "execution_count": null,
   "id": "b87989d1",
   "metadata": {},
   "outputs": [],
   "source": []
  },
  {
   "cell_type": "code",
   "execution_count": null,
   "id": "4d98c87c",
   "metadata": {},
   "outputs": [],
   "source": []
  }
 ],
 "metadata": {
  "kernelspec": {
   "display_name": "Python 3",
   "language": "python",
   "name": "python3"
  },
  "language_info": {
   "codemirror_mode": {
    "name": "ipython",
    "version": 3
   },
   "file_extension": ".py",
   "mimetype": "text/x-python",
   "name": "python",
   "nbconvert_exporter": "python",
   "pygments_lexer": "ipython3",
   "version": "3.8.8"
  }
 },
 "nbformat": 4,
 "nbformat_minor": 5
}

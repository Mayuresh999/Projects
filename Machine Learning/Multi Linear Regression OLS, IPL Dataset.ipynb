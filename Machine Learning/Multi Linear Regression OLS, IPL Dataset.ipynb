{
 "cells": [
  {
   "cell_type": "code",
   "execution_count": 1,
   "id": "43985671",
   "metadata": {},
   "outputs": [],
   "source": [
    "import pandas as pd\n",
    "import numpy as np\n",
    "import statsmodels.api as sm\n",
    "from sklearn.model_selection import train_test_split\n",
    "import matplotlib.pyplot as plt\n",
    "import seaborn as sns"
   ]
  },
  {
   "cell_type": "code",
   "execution_count": 2,
   "id": "d09dba14",
   "metadata": {},
   "outputs": [
    {
     "data": {
      "text/html": [
       "<div>\n",
       "<style scoped>\n",
       "    .dataframe tbody tr th:only-of-type {\n",
       "        vertical-align: middle;\n",
       "    }\n",
       "\n",
       "    .dataframe tbody tr th {\n",
       "        vertical-align: top;\n",
       "    }\n",
       "\n",
       "    .dataframe thead th {\n",
       "        text-align: right;\n",
       "    }\n",
       "</style>\n",
       "<table border=\"1\" class=\"dataframe\">\n",
       "  <thead>\n",
       "    <tr style=\"text-align: right;\">\n",
       "      <th></th>\n",
       "      <th>Sl.NO.</th>\n",
       "      <th>PLAYER NAME</th>\n",
       "      <th>AGE</th>\n",
       "      <th>COUNTRY</th>\n",
       "      <th>TEAM</th>\n",
       "      <th>PLAYING ROLE</th>\n",
       "      <th>T-RUNS</th>\n",
       "      <th>T-WKTS</th>\n",
       "      <th>ODI-RUNS-S</th>\n",
       "      <th>ODI-SR-B</th>\n",
       "      <th>...</th>\n",
       "      <th>SR -B</th>\n",
       "      <th>SIXERS</th>\n",
       "      <th>RUNS-C</th>\n",
       "      <th>WKTS</th>\n",
       "      <th>AVE-BL</th>\n",
       "      <th>ECON</th>\n",
       "      <th>SR-BL</th>\n",
       "      <th>AUCTION YEAR</th>\n",
       "      <th>BASE PRICE</th>\n",
       "      <th>SOLD PRICE</th>\n",
       "    </tr>\n",
       "  </thead>\n",
       "  <tbody>\n",
       "    <tr>\n",
       "      <th>0</th>\n",
       "      <td>1</td>\n",
       "      <td>Abdulla, YA</td>\n",
       "      <td>2</td>\n",
       "      <td>SA</td>\n",
       "      <td>KXIP</td>\n",
       "      <td>Allrounder</td>\n",
       "      <td>0</td>\n",
       "      <td>0</td>\n",
       "      <td>0</td>\n",
       "      <td>0.00</td>\n",
       "      <td>...</td>\n",
       "      <td>0.000000</td>\n",
       "      <td>0</td>\n",
       "      <td>307</td>\n",
       "      <td>15</td>\n",
       "      <td>20.466667</td>\n",
       "      <td>8.898551</td>\n",
       "      <td>13.933333</td>\n",
       "      <td>2009</td>\n",
       "      <td>50000</td>\n",
       "      <td>50000</td>\n",
       "    </tr>\n",
       "    <tr>\n",
       "      <th>1</th>\n",
       "      <td>2</td>\n",
       "      <td>Abdur Razzak</td>\n",
       "      <td>2</td>\n",
       "      <td>BAN</td>\n",
       "      <td>RCB</td>\n",
       "      <td>Bowler</td>\n",
       "      <td>214</td>\n",
       "      <td>18</td>\n",
       "      <td>657</td>\n",
       "      <td>71.41</td>\n",
       "      <td>...</td>\n",
       "      <td>0.000000</td>\n",
       "      <td>0</td>\n",
       "      <td>29</td>\n",
       "      <td>0</td>\n",
       "      <td>0.000000</td>\n",
       "      <td>14.500000</td>\n",
       "      <td>0.000000</td>\n",
       "      <td>2008</td>\n",
       "      <td>50000</td>\n",
       "      <td>50000</td>\n",
       "    </tr>\n",
       "    <tr>\n",
       "      <th>2</th>\n",
       "      <td>3</td>\n",
       "      <td>Agarkar, AB</td>\n",
       "      <td>2</td>\n",
       "      <td>IND</td>\n",
       "      <td>KKR</td>\n",
       "      <td>Bowler</td>\n",
       "      <td>571</td>\n",
       "      <td>58</td>\n",
       "      <td>1269</td>\n",
       "      <td>80.62</td>\n",
       "      <td>...</td>\n",
       "      <td>121.014493</td>\n",
       "      <td>5</td>\n",
       "      <td>1059</td>\n",
       "      <td>29</td>\n",
       "      <td>36.517241</td>\n",
       "      <td>8.810316</td>\n",
       "      <td>24.896552</td>\n",
       "      <td>2008</td>\n",
       "      <td>200000</td>\n",
       "      <td>350000</td>\n",
       "    </tr>\n",
       "    <tr>\n",
       "      <th>3</th>\n",
       "      <td>4</td>\n",
       "      <td>Ashwin, R</td>\n",
       "      <td>1</td>\n",
       "      <td>IND</td>\n",
       "      <td>CSK</td>\n",
       "      <td>Bowler</td>\n",
       "      <td>284</td>\n",
       "      <td>31</td>\n",
       "      <td>241</td>\n",
       "      <td>84.56</td>\n",
       "      <td>...</td>\n",
       "      <td>76.315789</td>\n",
       "      <td>0</td>\n",
       "      <td>1125</td>\n",
       "      <td>49</td>\n",
       "      <td>22.959184</td>\n",
       "      <td>6.232687</td>\n",
       "      <td>22.142857</td>\n",
       "      <td>2011</td>\n",
       "      <td>100000</td>\n",
       "      <td>850000</td>\n",
       "    </tr>\n",
       "    <tr>\n",
       "      <th>4</th>\n",
       "      <td>5</td>\n",
       "      <td>Badrinath, S</td>\n",
       "      <td>2</td>\n",
       "      <td>IND</td>\n",
       "      <td>CSK</td>\n",
       "      <td>Batsman</td>\n",
       "      <td>63</td>\n",
       "      <td>0</td>\n",
       "      <td>79</td>\n",
       "      <td>45.93</td>\n",
       "      <td>...</td>\n",
       "      <td>120.714940</td>\n",
       "      <td>28</td>\n",
       "      <td>0</td>\n",
       "      <td>0</td>\n",
       "      <td>0.000000</td>\n",
       "      <td>0.000000</td>\n",
       "      <td>0.000000</td>\n",
       "      <td>2011</td>\n",
       "      <td>100000</td>\n",
       "      <td>800000</td>\n",
       "    </tr>\n",
       "    <tr>\n",
       "      <th>...</th>\n",
       "      <td>...</td>\n",
       "      <td>...</td>\n",
       "      <td>...</td>\n",
       "      <td>...</td>\n",
       "      <td>...</td>\n",
       "      <td>...</td>\n",
       "      <td>...</td>\n",
       "      <td>...</td>\n",
       "      <td>...</td>\n",
       "      <td>...</td>\n",
       "      <td>...</td>\n",
       "      <td>...</td>\n",
       "      <td>...</td>\n",
       "      <td>...</td>\n",
       "      <td>...</td>\n",
       "      <td>...</td>\n",
       "      <td>...</td>\n",
       "      <td>...</td>\n",
       "      <td>...</td>\n",
       "      <td>...</td>\n",
       "      <td>...</td>\n",
       "    </tr>\n",
       "    <tr>\n",
       "      <th>125</th>\n",
       "      <td>126</td>\n",
       "      <td>Yadav, AS</td>\n",
       "      <td>2</td>\n",
       "      <td>IND</td>\n",
       "      <td>DC</td>\n",
       "      <td>Batsman</td>\n",
       "      <td>0</td>\n",
       "      <td>0</td>\n",
       "      <td>0</td>\n",
       "      <td>0.00</td>\n",
       "      <td>...</td>\n",
       "      <td>125.640000</td>\n",
       "      <td>2</td>\n",
       "      <td>0</td>\n",
       "      <td>0</td>\n",
       "      <td>0.000000</td>\n",
       "      <td>0.000000</td>\n",
       "      <td>0.000000</td>\n",
       "      <td>2010</td>\n",
       "      <td>50000</td>\n",
       "      <td>750000</td>\n",
       "    </tr>\n",
       "    <tr>\n",
       "      <th>126</th>\n",
       "      <td>127</td>\n",
       "      <td>Younis Khan</td>\n",
       "      <td>2</td>\n",
       "      <td>PAK</td>\n",
       "      <td>RR</td>\n",
       "      <td>Batsman</td>\n",
       "      <td>6398</td>\n",
       "      <td>7</td>\n",
       "      <td>6814</td>\n",
       "      <td>75.78</td>\n",
       "      <td>...</td>\n",
       "      <td>42.850000</td>\n",
       "      <td>0</td>\n",
       "      <td>0</td>\n",
       "      <td>0</td>\n",
       "      <td>0.000000</td>\n",
       "      <td>0.000000</td>\n",
       "      <td>0.000000</td>\n",
       "      <td>2008</td>\n",
       "      <td>225000</td>\n",
       "      <td>225000</td>\n",
       "    </tr>\n",
       "    <tr>\n",
       "      <th>127</th>\n",
       "      <td>128</td>\n",
       "      <td>Yuvraj Singh</td>\n",
       "      <td>2</td>\n",
       "      <td>IND</td>\n",
       "      <td>KXIP+</td>\n",
       "      <td>Batsman</td>\n",
       "      <td>1775</td>\n",
       "      <td>9</td>\n",
       "      <td>8051</td>\n",
       "      <td>87.58</td>\n",
       "      <td>...</td>\n",
       "      <td>131.876333</td>\n",
       "      <td>67</td>\n",
       "      <td>569</td>\n",
       "      <td>23</td>\n",
       "      <td>24.739130</td>\n",
       "      <td>7.024691</td>\n",
       "      <td>21.130435</td>\n",
       "      <td>2011</td>\n",
       "      <td>400000</td>\n",
       "      <td>1800000</td>\n",
       "    </tr>\n",
       "    <tr>\n",
       "      <th>128</th>\n",
       "      <td>129</td>\n",
       "      <td>Zaheer Khan</td>\n",
       "      <td>2</td>\n",
       "      <td>IND</td>\n",
       "      <td>MI+</td>\n",
       "      <td>Bowler</td>\n",
       "      <td>1114</td>\n",
       "      <td>288</td>\n",
       "      <td>790</td>\n",
       "      <td>73.55</td>\n",
       "      <td>...</td>\n",
       "      <td>91.666667</td>\n",
       "      <td>1</td>\n",
       "      <td>1783</td>\n",
       "      <td>65</td>\n",
       "      <td>27.430769</td>\n",
       "      <td>7.745439</td>\n",
       "      <td>21.261538</td>\n",
       "      <td>2008</td>\n",
       "      <td>200000</td>\n",
       "      <td>450000</td>\n",
       "    </tr>\n",
       "    <tr>\n",
       "      <th>129</th>\n",
       "      <td>130</td>\n",
       "      <td>Zoysa, DNT</td>\n",
       "      <td>2</td>\n",
       "      <td>SL</td>\n",
       "      <td>DC</td>\n",
       "      <td>Bowler</td>\n",
       "      <td>288</td>\n",
       "      <td>64</td>\n",
       "      <td>343</td>\n",
       "      <td>95.81</td>\n",
       "      <td>...</td>\n",
       "      <td>122.220000</td>\n",
       "      <td>0</td>\n",
       "      <td>99</td>\n",
       "      <td>2</td>\n",
       "      <td>49.500000</td>\n",
       "      <td>9.000000</td>\n",
       "      <td>33.000000</td>\n",
       "      <td>2008</td>\n",
       "      <td>100000</td>\n",
       "      <td>110000</td>\n",
       "    </tr>\n",
       "  </tbody>\n",
       "</table>\n",
       "<p>130 rows × 26 columns</p>\n",
       "</div>"
      ],
      "text/plain": [
       "     Sl.NO.   PLAYER NAME  AGE COUNTRY   TEAM PLAYING ROLE  T-RUNS  T-WKTS  \\\n",
       "0         1   Abdulla, YA    2      SA   KXIP   Allrounder       0       0   \n",
       "1         2  Abdur Razzak    2     BAN    RCB       Bowler     214      18   \n",
       "2         3   Agarkar, AB    2     IND    KKR       Bowler     571      58   \n",
       "3         4     Ashwin, R    1     IND    CSK       Bowler     284      31   \n",
       "4         5  Badrinath, S    2     IND    CSK      Batsman      63       0   \n",
       "..      ...           ...  ...     ...    ...          ...     ...     ...   \n",
       "125     126     Yadav, AS    2     IND     DC      Batsman       0       0   \n",
       "126     127   Younis Khan    2     PAK     RR      Batsman    6398       7   \n",
       "127     128  Yuvraj Singh    2     IND  KXIP+      Batsman    1775       9   \n",
       "128     129   Zaheer Khan    2     IND    MI+       Bowler    1114     288   \n",
       "129     130    Zoysa, DNT    2      SL     DC       Bowler     288      64   \n",
       "\n",
       "     ODI-RUNS-S  ODI-SR-B  ...       SR -B  SIXERS  RUNS-C  WKTS     AVE-BL  \\\n",
       "0             0      0.00  ...    0.000000       0     307    15  20.466667   \n",
       "1           657     71.41  ...    0.000000       0      29     0   0.000000   \n",
       "2          1269     80.62  ...  121.014493       5    1059    29  36.517241   \n",
       "3           241     84.56  ...   76.315789       0    1125    49  22.959184   \n",
       "4            79     45.93  ...  120.714940      28       0     0   0.000000   \n",
       "..          ...       ...  ...         ...     ...     ...   ...        ...   \n",
       "125           0      0.00  ...  125.640000       2       0     0   0.000000   \n",
       "126        6814     75.78  ...   42.850000       0       0     0   0.000000   \n",
       "127        8051     87.58  ...  131.876333      67     569    23  24.739130   \n",
       "128         790     73.55  ...   91.666667       1    1783    65  27.430769   \n",
       "129         343     95.81  ...  122.220000       0      99     2  49.500000   \n",
       "\n",
       "          ECON      SR-BL  AUCTION YEAR  BASE PRICE  SOLD PRICE  \n",
       "0     8.898551  13.933333          2009       50000       50000  \n",
       "1    14.500000   0.000000          2008       50000       50000  \n",
       "2     8.810316  24.896552          2008      200000      350000  \n",
       "3     6.232687  22.142857          2011      100000      850000  \n",
       "4     0.000000   0.000000          2011      100000      800000  \n",
       "..         ...        ...           ...         ...         ...  \n",
       "125   0.000000   0.000000          2010       50000      750000  \n",
       "126   0.000000   0.000000          2008      225000      225000  \n",
       "127   7.024691  21.130435          2011      400000     1800000  \n",
       "128   7.745439  21.261538          2008      200000      450000  \n",
       "129   9.000000  33.000000          2008      100000      110000  \n",
       "\n",
       "[130 rows x 26 columns]"
      ]
     },
     "execution_count": 2,
     "metadata": {},
     "output_type": "execute_result"
    }
   ],
   "source": [
    "I = pd.read_excel('IPL Raw Data.xlsx')\n",
    "I"
   ]
  },
  {
   "cell_type": "code",
   "execution_count": 3,
   "id": "155d45b1",
   "metadata": {},
   "outputs": [],
   "source": [
    "I.drop(['Sl.NO.','PLAYER NAME','TEAM'], axis=1 , inplace = True)"
   ]
  },
  {
   "cell_type": "code",
   "execution_count": 4,
   "id": "09a512de",
   "metadata": {},
   "outputs": [
    {
     "name": "stdout",
     "output_type": "stream",
     "text": [
      "<class 'pandas.core.frame.DataFrame'>\n",
      "RangeIndex: 130 entries, 0 to 129\n",
      "Data columns (total 23 columns):\n",
      " #   Column         Non-Null Count  Dtype  \n",
      "---  ------         --------------  -----  \n",
      " 0   AGE            130 non-null    int64  \n",
      " 1   COUNTRY        130 non-null    object \n",
      " 2   PLAYING ROLE   130 non-null    object \n",
      " 3   T-RUNS         130 non-null    int64  \n",
      " 4   T-WKTS         130 non-null    int64  \n",
      " 5   ODI-RUNS-S     130 non-null    int64  \n",
      " 6   ODI-SR-B       130 non-null    float64\n",
      " 7   ODI-WKTS       130 non-null    int64  \n",
      " 8   ODI-SR-BL      130 non-null    float64\n",
      " 9   CAPTAINCY EXP  130 non-null    int64  \n",
      " 10  RUNS-S         130 non-null    int64  \n",
      " 11  HS             130 non-null    int64  \n",
      " 12  AVE            130 non-null    float64\n",
      " 13  SR -B          130 non-null    float64\n",
      " 14  SIXERS         130 non-null    int64  \n",
      " 15  RUNS-C         130 non-null    int64  \n",
      " 16  WKTS           130 non-null    int64  \n",
      " 17  AVE-BL         130 non-null    float64\n",
      " 18  ECON           130 non-null    float64\n",
      " 19  SR-BL          130 non-null    float64\n",
      " 20  AUCTION YEAR   130 non-null    int64  \n",
      " 21  BASE PRICE     130 non-null    int64  \n",
      " 22  SOLD PRICE     130 non-null    int64  \n",
      "dtypes: float64(7), int64(14), object(2)\n",
      "memory usage: 23.5+ KB\n"
     ]
    }
   ],
   "source": [
    "I.info()"
   ]
  },
  {
   "cell_type": "code",
   "execution_count": 5,
   "id": "6a67f4bb",
   "metadata": {},
   "outputs": [
    {
     "data": {
      "text/plain": [
       "Index(['AGE', 'COUNTRY', 'PLAYING ROLE', 'T-RUNS', 'T-WKTS', 'ODI-RUNS-S',\n",
       "       'ODI-SR-B', 'ODI-WKTS', 'ODI-SR-BL', 'CAPTAINCY EXP', 'RUNS-S', 'HS ',\n",
       "       'AVE', 'SR -B', 'SIXERS', 'RUNS-C', 'WKTS', 'AVE-BL', 'ECON', 'SR-BL'],\n",
       "      dtype='object')"
      ]
     },
     "execution_count": 5,
     "metadata": {},
     "output_type": "execute_result"
    }
   ],
   "source": [
    "Xf=I.columns[:-3]\n",
    "Xf"
   ]
  },
  {
   "cell_type": "code",
   "execution_count": 6,
   "id": "ed9ecce7",
   "metadata": {},
   "outputs": [
    {
     "data": {
      "text/plain": [
       "array(['Allrounder', 'Bowler', 'Batsman', 'W. Keeper'], dtype=object)"
      ]
     },
     "execution_count": 6,
     "metadata": {},
     "output_type": "execute_result"
    }
   ],
   "source": [
    "I['PLAYING ROLE'].unique()"
   ]
  },
  {
   "cell_type": "code",
   "execution_count": 7,
   "id": "37465fc6",
   "metadata": {},
   "outputs": [
    {
     "data": {
      "text/html": [
       "<div>\n",
       "<style scoped>\n",
       "    .dataframe tbody tr th:only-of-type {\n",
       "        vertical-align: middle;\n",
       "    }\n",
       "\n",
       "    .dataframe tbody tr th {\n",
       "        vertical-align: top;\n",
       "    }\n",
       "\n",
       "    .dataframe thead th {\n",
       "        text-align: right;\n",
       "    }\n",
       "</style>\n",
       "<table border=\"1\" class=\"dataframe\">\n",
       "  <thead>\n",
       "    <tr style=\"text-align: right;\">\n",
       "      <th></th>\n",
       "      <th>Allrounder</th>\n",
       "      <th>Batsman</th>\n",
       "      <th>Bowler</th>\n",
       "      <th>W. Keeper</th>\n",
       "    </tr>\n",
       "  </thead>\n",
       "  <tbody>\n",
       "    <tr>\n",
       "      <th>0</th>\n",
       "      <td>1</td>\n",
       "      <td>0</td>\n",
       "      <td>0</td>\n",
       "      <td>0</td>\n",
       "    </tr>\n",
       "    <tr>\n",
       "      <th>1</th>\n",
       "      <td>0</td>\n",
       "      <td>0</td>\n",
       "      <td>1</td>\n",
       "      <td>0</td>\n",
       "    </tr>\n",
       "    <tr>\n",
       "      <th>2</th>\n",
       "      <td>0</td>\n",
       "      <td>0</td>\n",
       "      <td>1</td>\n",
       "      <td>0</td>\n",
       "    </tr>\n",
       "    <tr>\n",
       "      <th>3</th>\n",
       "      <td>0</td>\n",
       "      <td>0</td>\n",
       "      <td>1</td>\n",
       "      <td>0</td>\n",
       "    </tr>\n",
       "    <tr>\n",
       "      <th>4</th>\n",
       "      <td>0</td>\n",
       "      <td>1</td>\n",
       "      <td>0</td>\n",
       "      <td>0</td>\n",
       "    </tr>\n",
       "    <tr>\n",
       "      <th>...</th>\n",
       "      <td>...</td>\n",
       "      <td>...</td>\n",
       "      <td>...</td>\n",
       "      <td>...</td>\n",
       "    </tr>\n",
       "    <tr>\n",
       "      <th>125</th>\n",
       "      <td>0</td>\n",
       "      <td>1</td>\n",
       "      <td>0</td>\n",
       "      <td>0</td>\n",
       "    </tr>\n",
       "    <tr>\n",
       "      <th>126</th>\n",
       "      <td>0</td>\n",
       "      <td>1</td>\n",
       "      <td>0</td>\n",
       "      <td>0</td>\n",
       "    </tr>\n",
       "    <tr>\n",
       "      <th>127</th>\n",
       "      <td>0</td>\n",
       "      <td>1</td>\n",
       "      <td>0</td>\n",
       "      <td>0</td>\n",
       "    </tr>\n",
       "    <tr>\n",
       "      <th>128</th>\n",
       "      <td>0</td>\n",
       "      <td>0</td>\n",
       "      <td>1</td>\n",
       "      <td>0</td>\n",
       "    </tr>\n",
       "    <tr>\n",
       "      <th>129</th>\n",
       "      <td>0</td>\n",
       "      <td>0</td>\n",
       "      <td>1</td>\n",
       "      <td>0</td>\n",
       "    </tr>\n",
       "  </tbody>\n",
       "</table>\n",
       "<p>130 rows × 4 columns</p>\n",
       "</div>"
      ],
      "text/plain": [
       "     Allrounder  Batsman  Bowler  W. Keeper\n",
       "0             1        0       0          0\n",
       "1             0        0       1          0\n",
       "2             0        0       1          0\n",
       "3             0        0       1          0\n",
       "4             0        1       0          0\n",
       "..          ...      ...     ...        ...\n",
       "125           0        1       0          0\n",
       "126           0        1       0          0\n",
       "127           0        1       0          0\n",
       "128           0        0       1          0\n",
       "129           0        0       1          0\n",
       "\n",
       "[130 rows x 4 columns]"
      ]
     },
     "execution_count": 7,
     "metadata": {},
     "output_type": "execute_result"
    }
   ],
   "source": [
    "pd.get_dummies(I['PLAYING ROLE'])"
   ]
  },
  {
   "cell_type": "code",
   "execution_count": 8,
   "id": "89bf3d46",
   "metadata": {},
   "outputs": [],
   "source": [
    "Cf = ['AGE', 'COUNTRY', 'PLAYING ROLE', 'CAPTAINCY EXP']"
   ]
  },
  {
   "cell_type": "code",
   "execution_count": 9,
   "id": "6d1d3b2f",
   "metadata": {},
   "outputs": [],
   "source": [
    "In=pd.get_dummies(I[Xf], columns= Cf, drop_first=True)"
   ]
  },
  {
   "cell_type": "code",
   "execution_count": 10,
   "id": "db313527",
   "metadata": {},
   "outputs": [
    {
     "data": {
      "text/plain": [
       "Index(['T-RUNS', 'T-WKTS', 'ODI-RUNS-S', 'ODI-SR-B', 'ODI-WKTS', 'ODI-SR-BL',\n",
       "       'RUNS-S', 'HS ', 'AVE', 'SR -B', 'SIXERS', 'RUNS-C', 'WKTS', 'AVE-BL',\n",
       "       'ECON', 'SR-BL', 'AGE_2', 'AGE_3', 'COUNTRY_BAN', 'COUNTRY_ENG',\n",
       "       'COUNTRY_IND', 'COUNTRY_NZ', 'COUNTRY_PAK', 'COUNTRY_SA', 'COUNTRY_SL',\n",
       "       'COUNTRY_WI', 'COUNTRY_ZIM', 'PLAYING ROLE_Batsman',\n",
       "       'PLAYING ROLE_Bowler', 'PLAYING ROLE_W. Keeper', 'CAPTAINCY EXP_1'],\n",
       "      dtype='object')"
      ]
     },
     "execution_count": 10,
     "metadata": {},
     "output_type": "execute_result"
    }
   ],
   "source": [
    "In.columns"
   ]
  },
  {
   "cell_type": "code",
   "execution_count": 11,
   "id": "4b3f9513",
   "metadata": {},
   "outputs": [],
   "source": [
    "Xf=In.columns"
   ]
  },
  {
   "cell_type": "code",
   "execution_count": 12,
   "id": "41b7294a",
   "metadata": {},
   "outputs": [],
   "source": [
    "X = sm.add_constant(In)\n",
    "Y = I['SOLD PRICE']"
   ]
  },
  {
   "cell_type": "code",
   "execution_count": 13,
   "id": "01363268",
   "metadata": {},
   "outputs": [],
   "source": [
    "Xtrain, Xtest, Ytrain, Ytest = train_test_split(X, Y, test_size=0.2, random_state=42)"
   ]
  },
  {
   "cell_type": "code",
   "execution_count": 14,
   "id": "9eacb196",
   "metadata": {},
   "outputs": [
    {
     "data": {
      "text/html": [
       "<table class=\"simpletable\">\n",
       "<caption>OLS Regression Results</caption>\n",
       "<tr>\n",
       "  <th>Dep. Variable:</th>       <td>SOLD PRICE</td>    <th>  R-squared:         </th> <td>   0.554</td>\n",
       "</tr>\n",
       "<tr>\n",
       "  <th>Model:</th>                   <td>OLS</td>       <th>  Adj. R-squared:    </th> <td>   0.362</td>\n",
       "</tr>\n",
       "<tr>\n",
       "  <th>Method:</th>             <td>Least Squares</td>  <th>  F-statistic:       </th> <td>   2.883</td>\n",
       "</tr>\n",
       "<tr>\n",
       "  <th>Date:</th>             <td>Tue, 22 Feb 2022</td> <th>  Prob (F-statistic):</th> <td>0.000114</td>\n",
       "</tr>\n",
       "<tr>\n",
       "  <th>Time:</th>                 <td>20:10:37</td>     <th>  Log-Likelihood:    </th> <td> -1450.6</td>\n",
       "</tr>\n",
       "<tr>\n",
       "  <th>No. Observations:</th>      <td>   104</td>      <th>  AIC:               </th> <td>   2965.</td>\n",
       "</tr>\n",
       "<tr>\n",
       "  <th>Df Residuals:</th>          <td>    72</td>      <th>  BIC:               </th> <td>   3050.</td>\n",
       "</tr>\n",
       "<tr>\n",
       "  <th>Df Model:</th>              <td>    31</td>      <th>                     </th>     <td> </td>   \n",
       "</tr>\n",
       "<tr>\n",
       "  <th>Covariance Type:</th>      <td>nonrobust</td>    <th>                     </th>     <td> </td>   \n",
       "</tr>\n",
       "</table>\n",
       "<table class=\"simpletable\">\n",
       "<tr>\n",
       "             <td></td>               <th>coef</th>     <th>std err</th>      <th>t</th>      <th>P>|t|</th>  <th>[0.025</th>    <th>0.975]</th>  \n",
       "</tr>\n",
       "<tr>\n",
       "  <th>const</th>                  <td> 3.758e+05</td> <td> 2.29e+05</td> <td>    1.642</td> <td> 0.105</td> <td>-8.04e+04</td> <td> 8.32e+05</td>\n",
       "</tr>\n",
       "<tr>\n",
       "  <th>T-RUNS</th>                 <td>  -53.7825</td> <td>   32.717</td> <td>   -1.644</td> <td> 0.105</td> <td> -119.003</td> <td>   11.438</td>\n",
       "</tr>\n",
       "<tr>\n",
       "  <th>T-WKTS</th>                 <td> -132.6078</td> <td>  609.769</td> <td>   -0.217</td> <td> 0.828</td> <td>-1348.161</td> <td> 1082.945</td>\n",
       "</tr>\n",
       "<tr>\n",
       "  <th>ODI-RUNS-S</th>             <td>   57.9487</td> <td>   31.507</td> <td>    1.839</td> <td> 0.070</td> <td>   -4.859</td> <td>  120.757</td>\n",
       "</tr>\n",
       "<tr>\n",
       "  <th>ODI-SR-B</th>               <td> -523.9786</td> <td> 1576.635</td> <td>   -0.332</td> <td> 0.741</td> <td>-3666.943</td> <td> 2618.985</td>\n",
       "</tr>\n",
       "<tr>\n",
       "  <th>ODI-WKTS</th>               <td>  815.4684</td> <td>  832.399</td> <td>    0.980</td> <td> 0.331</td> <td> -843.888</td> <td> 2474.825</td>\n",
       "</tr>\n",
       "<tr>\n",
       "  <th>ODI-SR-BL</th>              <td> -772.7678</td> <td> 1536.333</td> <td>   -0.503</td> <td> 0.617</td> <td>-3835.392</td> <td> 2289.857</td>\n",
       "</tr>\n",
       "<tr>\n",
       "  <th>RUNS-S</th>                 <td>  114.7169</td> <td>  173.310</td> <td>    0.662</td> <td> 0.510</td> <td> -230.771</td> <td>  460.205</td>\n",
       "</tr>\n",
       "<tr>\n",
       "  <th>HS </th>                    <td>-5516.3259</td> <td> 2586.388</td> <td>   -2.133</td> <td> 0.036</td> <td>-1.07e+04</td> <td> -360.456</td>\n",
       "</tr>\n",
       "<tr>\n",
       "  <th>AVE</th>                    <td> 2.156e+04</td> <td> 7774.550</td> <td>    2.773</td> <td> 0.007</td> <td> 6060.666</td> <td> 3.71e+04</td>\n",
       "</tr>\n",
       "<tr>\n",
       "  <th>SR -B</th>                  <td>-1324.9248</td> <td> 1373.150</td> <td>   -0.965</td> <td> 0.338</td> <td>-4062.250</td> <td> 1412.400</td>\n",
       "</tr>\n",
       "<tr>\n",
       "  <th>SIXERS</th>                 <td> 4264.6509</td> <td> 4089.631</td> <td>    1.043</td> <td> 0.301</td> <td>-3887.880</td> <td> 1.24e+04</td>\n",
       "</tr>\n",
       "<tr>\n",
       "  <th>RUNS-C</th>                 <td>   69.8912</td> <td>  297.671</td> <td>    0.235</td> <td> 0.815</td> <td> -523.504</td> <td>  663.287</td>\n",
       "</tr>\n",
       "<tr>\n",
       "  <th>WKTS</th>                   <td> 3074.2351</td> <td> 7262.394</td> <td>    0.423</td> <td> 0.673</td> <td>-1.14e+04</td> <td> 1.76e+04</td>\n",
       "</tr>\n",
       "<tr>\n",
       "  <th>AVE-BL</th>                 <td> 5183.2294</td> <td> 1.02e+04</td> <td>    0.507</td> <td> 0.614</td> <td>-1.52e+04</td> <td> 2.56e+04</td>\n",
       "</tr>\n",
       "<tr>\n",
       "  <th>ECON</th>                   <td>-6816.6095</td> <td> 1.31e+04</td> <td>   -0.520</td> <td> 0.605</td> <td> -3.3e+04</td> <td> 1.93e+04</td>\n",
       "</tr>\n",
       "<tr>\n",
       "  <th>SR-BL</th>                  <td>-7661.3607</td> <td>  1.4e+04</td> <td>   -0.546</td> <td> 0.587</td> <td>-3.57e+04</td> <td> 2.03e+04</td>\n",
       "</tr>\n",
       "<tr>\n",
       "  <th>AGE_2</th>                  <td>-2.308e+05</td> <td> 1.14e+05</td> <td>   -2.022</td> <td> 0.047</td> <td>-4.58e+05</td> <td>-3270.423</td>\n",
       "</tr>\n",
       "<tr>\n",
       "  <th>AGE_3</th>                  <td>-2.168e+05</td> <td> 1.52e+05</td> <td>   -1.424</td> <td> 0.159</td> <td> -5.2e+05</td> <td> 8.67e+04</td>\n",
       "</tr>\n",
       "<tr>\n",
       "  <th>COUNTRY_BAN</th>            <td>-1.222e+05</td> <td> 4.39e+05</td> <td>   -0.278</td> <td> 0.781</td> <td>-9.97e+05</td> <td> 7.52e+05</td>\n",
       "</tr>\n",
       "<tr>\n",
       "  <th>COUNTRY_ENG</th>            <td> 6.724e+05</td> <td> 2.38e+05</td> <td>    2.821</td> <td> 0.006</td> <td> 1.97e+05</td> <td> 1.15e+06</td>\n",
       "</tr>\n",
       "<tr>\n",
       "  <th>COUNTRY_IND</th>            <td> 1.553e+05</td> <td> 1.26e+05</td> <td>    1.230</td> <td> 0.223</td> <td>-9.65e+04</td> <td> 4.07e+05</td>\n",
       "</tr>\n",
       "<tr>\n",
       "  <th>COUNTRY_NZ</th>             <td> 1.942e+05</td> <td> 1.73e+05</td> <td>    1.119</td> <td> 0.267</td> <td>-1.52e+05</td> <td>  5.4e+05</td>\n",
       "</tr>\n",
       "<tr>\n",
       "  <th>COUNTRY_PAK</th>            <td> 7.594e+04</td> <td> 1.93e+05</td> <td>    0.393</td> <td> 0.696</td> <td> -3.1e+05</td> <td> 4.62e+05</td>\n",
       "</tr>\n",
       "<tr>\n",
       "  <th>COUNTRY_SA</th>             <td> 6.428e+04</td> <td> 1.45e+05</td> <td>    0.445</td> <td> 0.658</td> <td>-2.24e+05</td> <td> 3.53e+05</td>\n",
       "</tr>\n",
       "<tr>\n",
       "  <th>COUNTRY_SL</th>             <td> 1.743e+04</td> <td> 1.76e+05</td> <td>    0.099</td> <td> 0.922</td> <td>-3.34e+05</td> <td> 3.69e+05</td>\n",
       "</tr>\n",
       "<tr>\n",
       "  <th>COUNTRY_WI</th>             <td> 1.063e+04</td> <td> 2.31e+05</td> <td>    0.046</td> <td> 0.963</td> <td>-4.49e+05</td> <td>  4.7e+05</td>\n",
       "</tr>\n",
       "<tr>\n",
       "  <th>COUNTRY_ZIM</th>            <td>-1.455e+05</td> <td> 4.02e+05</td> <td>   -0.362</td> <td> 0.718</td> <td>-9.46e+05</td> <td> 6.55e+05</td>\n",
       "</tr>\n",
       "<tr>\n",
       "  <th>PLAYING ROLE_Batsman</th>   <td> 7.575e+04</td> <td>  1.5e+05</td> <td>    0.504</td> <td> 0.616</td> <td>-2.24e+05</td> <td> 3.75e+05</td>\n",
       "</tr>\n",
       "<tr>\n",
       "  <th>PLAYING ROLE_Bowler</th>    <td> 1.537e+04</td> <td> 1.26e+05</td> <td>    0.122</td> <td> 0.903</td> <td>-2.36e+05</td> <td> 2.67e+05</td>\n",
       "</tr>\n",
       "<tr>\n",
       "  <th>PLAYING ROLE_W. Keeper</th> <td>-7.133e+04</td> <td> 2.14e+05</td> <td>   -0.334</td> <td> 0.739</td> <td>-4.97e+05</td> <td> 3.54e+05</td>\n",
       "</tr>\n",
       "<tr>\n",
       "  <th>CAPTAINCY EXP_1</th>        <td> 1.641e+05</td> <td> 1.23e+05</td> <td>    1.330</td> <td> 0.188</td> <td>-8.19e+04</td> <td>  4.1e+05</td>\n",
       "</tr>\n",
       "</table>\n",
       "<table class=\"simpletable\">\n",
       "<tr>\n",
       "  <th>Omnibus:</th>       <td> 0.891</td> <th>  Durbin-Watson:     </th> <td>   2.244</td>\n",
       "</tr>\n",
       "<tr>\n",
       "  <th>Prob(Omnibus):</th> <td> 0.641</td> <th>  Jarque-Bera (JB):  </th> <td>   0.637</td>\n",
       "</tr>\n",
       "<tr>\n",
       "  <th>Skew:</th>          <td> 0.189</td> <th>  Prob(JB):          </th> <td>   0.727</td>\n",
       "</tr>\n",
       "<tr>\n",
       "  <th>Kurtosis:</th>      <td> 3.059</td> <th>  Cond. No.          </th> <td>8.41e+04</td>\n",
       "</tr>\n",
       "</table><br/><br/>Notes:<br/>[1] Standard Errors assume that the covariance matrix of the errors is correctly specified.<br/>[2] The condition number is large, 8.41e+04. This might indicate that there are<br/>strong multicollinearity or other numerical problems."
      ],
      "text/plain": [
       "<class 'statsmodels.iolib.summary.Summary'>\n",
       "\"\"\"\n",
       "                            OLS Regression Results                            \n",
       "==============================================================================\n",
       "Dep. Variable:             SOLD PRICE   R-squared:                       0.554\n",
       "Model:                            OLS   Adj. R-squared:                  0.362\n",
       "Method:                 Least Squares   F-statistic:                     2.883\n",
       "Date:                Tue, 22 Feb 2022   Prob (F-statistic):           0.000114\n",
       "Time:                        20:10:37   Log-Likelihood:                -1450.6\n",
       "No. Observations:                 104   AIC:                             2965.\n",
       "Df Residuals:                      72   BIC:                             3050.\n",
       "Df Model:                          31                                         \n",
       "Covariance Type:            nonrobust                                         \n",
       "==========================================================================================\n",
       "                             coef    std err          t      P>|t|      [0.025      0.975]\n",
       "------------------------------------------------------------------------------------------\n",
       "const                   3.758e+05   2.29e+05      1.642      0.105   -8.04e+04    8.32e+05\n",
       "T-RUNS                   -53.7825     32.717     -1.644      0.105    -119.003      11.438\n",
       "T-WKTS                  -132.6078    609.769     -0.217      0.828   -1348.161    1082.945\n",
       "ODI-RUNS-S                57.9487     31.507      1.839      0.070      -4.859     120.757\n",
       "ODI-SR-B                -523.9786   1576.635     -0.332      0.741   -3666.943    2618.985\n",
       "ODI-WKTS                 815.4684    832.399      0.980      0.331    -843.888    2474.825\n",
       "ODI-SR-BL               -772.7678   1536.333     -0.503      0.617   -3835.392    2289.857\n",
       "RUNS-S                   114.7169    173.310      0.662      0.510    -230.771     460.205\n",
       "HS                     -5516.3259   2586.388     -2.133      0.036   -1.07e+04    -360.456\n",
       "AVE                     2.156e+04   7774.550      2.773      0.007    6060.666    3.71e+04\n",
       "SR -B                  -1324.9248   1373.150     -0.965      0.338   -4062.250    1412.400\n",
       "SIXERS                  4264.6509   4089.631      1.043      0.301   -3887.880    1.24e+04\n",
       "RUNS-C                    69.8912    297.671      0.235      0.815    -523.504     663.287\n",
       "WKTS                    3074.2351   7262.394      0.423      0.673   -1.14e+04    1.76e+04\n",
       "AVE-BL                  5183.2294   1.02e+04      0.507      0.614   -1.52e+04    2.56e+04\n",
       "ECON                   -6816.6095   1.31e+04     -0.520      0.605    -3.3e+04    1.93e+04\n",
       "SR-BL                  -7661.3607    1.4e+04     -0.546      0.587   -3.57e+04    2.03e+04\n",
       "AGE_2                  -2.308e+05   1.14e+05     -2.022      0.047   -4.58e+05   -3270.423\n",
       "AGE_3                  -2.168e+05   1.52e+05     -1.424      0.159    -5.2e+05    8.67e+04\n",
       "COUNTRY_BAN            -1.222e+05   4.39e+05     -0.278      0.781   -9.97e+05    7.52e+05\n",
       "COUNTRY_ENG             6.724e+05   2.38e+05      2.821      0.006    1.97e+05    1.15e+06\n",
       "COUNTRY_IND             1.553e+05   1.26e+05      1.230      0.223   -9.65e+04    4.07e+05\n",
       "COUNTRY_NZ              1.942e+05   1.73e+05      1.119      0.267   -1.52e+05     5.4e+05\n",
       "COUNTRY_PAK             7.594e+04   1.93e+05      0.393      0.696    -3.1e+05    4.62e+05\n",
       "COUNTRY_SA              6.428e+04   1.45e+05      0.445      0.658   -2.24e+05    3.53e+05\n",
       "COUNTRY_SL              1.743e+04   1.76e+05      0.099      0.922   -3.34e+05    3.69e+05\n",
       "COUNTRY_WI              1.063e+04   2.31e+05      0.046      0.963   -4.49e+05     4.7e+05\n",
       "COUNTRY_ZIM            -1.455e+05   4.02e+05     -0.362      0.718   -9.46e+05    6.55e+05\n",
       "PLAYING ROLE_Batsman    7.575e+04    1.5e+05      0.504      0.616   -2.24e+05    3.75e+05\n",
       "PLAYING ROLE_Bowler     1.537e+04   1.26e+05      0.122      0.903   -2.36e+05    2.67e+05\n",
       "PLAYING ROLE_W. Keeper -7.133e+04   2.14e+05     -0.334      0.739   -4.97e+05    3.54e+05\n",
       "CAPTAINCY EXP_1         1.641e+05   1.23e+05      1.330      0.188   -8.19e+04     4.1e+05\n",
       "==============================================================================\n",
       "Omnibus:                        0.891   Durbin-Watson:                   2.244\n",
       "Prob(Omnibus):                  0.641   Jarque-Bera (JB):                0.637\n",
       "Skew:                           0.189   Prob(JB):                        0.727\n",
       "Kurtosis:                       3.059   Cond. No.                     8.41e+04\n",
       "==============================================================================\n",
       "\n",
       "Notes:\n",
       "[1] Standard Errors assume that the covariance matrix of the errors is correctly specified.\n",
       "[2] The condition number is large, 8.41e+04. This might indicate that there are\n",
       "strong multicollinearity or other numerical problems.\n",
       "\"\"\""
      ]
     },
     "execution_count": 14,
     "metadata": {},
     "output_type": "execute_result"
    }
   ],
   "source": [
    "Imodel1 = sm.OLS(Ytrain, Xtrain).fit()\n",
    "Imodel1.summary()"
   ]
  },
  {
   "cell_type": "code",
   "execution_count": null,
   "id": "aed2a084",
   "metadata": {},
   "outputs": [],
   "source": []
  },
  {
   "cell_type": "markdown",
   "id": "800bf03e",
   "metadata": {},
   "source": [
    "### performance matrix"
   ]
  },
  {
   "cell_type": "code",
   "execution_count": 15,
   "id": "14f06497",
   "metadata": {},
   "outputs": [],
   "source": [
    "from sklearn import metrics"
   ]
  },
  {
   "cell_type": "code",
   "execution_count": 16,
   "id": "62655a0a",
   "metadata": {},
   "outputs": [],
   "source": [
    "predy=Imodel1.predict(Xtest)"
   ]
  },
  {
   "cell_type": "code",
   "execution_count": 17,
   "id": "3f9793bc",
   "metadata": {},
   "outputs": [
    {
     "data": {
      "text/plain": [
       "304522.70385610283"
      ]
     },
     "execution_count": 17,
     "metadata": {},
     "output_type": "execute_result"
    }
   ],
   "source": [
    "np.sqrt(metrics.mean_squared_error(predy, Ytest))"
   ]
  },
  {
   "cell_type": "code",
   "execution_count": 18,
   "id": "244fd8e6",
   "metadata": {},
   "outputs": [
    {
     "data": {
      "text/plain": [
       "0.0289"
      ]
     },
     "execution_count": 18,
     "metadata": {},
     "output_type": "execute_result"
    }
   ],
   "source": [
    "np.round(metrics.r2_score(predy, Ytest),4)"
   ]
  },
  {
   "cell_type": "code",
   "execution_count": null,
   "id": "8f45b014",
   "metadata": {},
   "outputs": [],
   "source": []
  },
  {
   "cell_type": "markdown",
   "id": "b6d0b214",
   "metadata": {},
   "source": [
    "### measuring multicollinearity\n",
    "\n",
    "vif > 4 [High Multicollinearity]\n",
    "\n",
    "vif = 1/(1-r^2(1,2))"
   ]
  },
  {
   "cell_type": "code",
   "execution_count": 19,
   "id": "ff651ed9",
   "metadata": {},
   "outputs": [],
   "source": [
    "from statsmodels.stats.outliers_influence import variance_inflation_factor"
   ]
  },
  {
   "cell_type": "code",
   "execution_count": 20,
   "id": "01fe66d8",
   "metadata": {},
   "outputs": [],
   "source": [
    "def vif_fac(X):\n",
    "    Xmat = X.values\n",
    "    vif = [variance_inflation_factor(Xmat,i) for i in range(Xmat.shape[1])]\n",
    "    vif_factors = pd.DataFrame()\n",
    "    vif_factors['column'] = X.columns\n",
    "    vif_factors['VIF'] = vif\n",
    "    return vif_factors"
   ]
  },
  {
   "cell_type": "code",
   "execution_count": 21,
   "id": "c7019da3",
   "metadata": {},
   "outputs": [
    {
     "data": {
      "text/html": [
       "<div>\n",
       "<style scoped>\n",
       "    .dataframe tbody tr th:only-of-type {\n",
       "        vertical-align: middle;\n",
       "    }\n",
       "\n",
       "    .dataframe tbody tr th {\n",
       "        vertical-align: top;\n",
       "    }\n",
       "\n",
       "    .dataframe thead th {\n",
       "        text-align: right;\n",
       "    }\n",
       "</style>\n",
       "<table border=\"1\" class=\"dataframe\">\n",
       "  <thead>\n",
       "    <tr style=\"text-align: right;\">\n",
       "      <th></th>\n",
       "      <th>T-RUNS</th>\n",
       "      <th>T-WKTS</th>\n",
       "      <th>ODI-RUNS-S</th>\n",
       "      <th>ODI-SR-B</th>\n",
       "      <th>ODI-WKTS</th>\n",
       "      <th>ODI-SR-BL</th>\n",
       "      <th>RUNS-S</th>\n",
       "      <th>HS</th>\n",
       "      <th>AVE</th>\n",
       "      <th>SR -B</th>\n",
       "      <th>...</th>\n",
       "      <th>COUNTRY_NZ</th>\n",
       "      <th>COUNTRY_PAK</th>\n",
       "      <th>COUNTRY_SA</th>\n",
       "      <th>COUNTRY_SL</th>\n",
       "      <th>COUNTRY_WI</th>\n",
       "      <th>COUNTRY_ZIM</th>\n",
       "      <th>PLAYING ROLE_Batsman</th>\n",
       "      <th>PLAYING ROLE_Bowler</th>\n",
       "      <th>PLAYING ROLE_W. Keeper</th>\n",
       "      <th>CAPTAINCY EXP_1</th>\n",
       "    </tr>\n",
       "  </thead>\n",
       "  <tbody>\n",
       "    <tr>\n",
       "      <th>0</th>\n",
       "      <td>0</td>\n",
       "      <td>0</td>\n",
       "      <td>0</td>\n",
       "      <td>0.00</td>\n",
       "      <td>0</td>\n",
       "      <td>0.0</td>\n",
       "      <td>0</td>\n",
       "      <td>0</td>\n",
       "      <td>0.000000</td>\n",
       "      <td>0.000000</td>\n",
       "      <td>...</td>\n",
       "      <td>0</td>\n",
       "      <td>0</td>\n",
       "      <td>1</td>\n",
       "      <td>0</td>\n",
       "      <td>0</td>\n",
       "      <td>0</td>\n",
       "      <td>0</td>\n",
       "      <td>0</td>\n",
       "      <td>0</td>\n",
       "      <td>0</td>\n",
       "    </tr>\n",
       "    <tr>\n",
       "      <th>1</th>\n",
       "      <td>214</td>\n",
       "      <td>18</td>\n",
       "      <td>657</td>\n",
       "      <td>71.41</td>\n",
       "      <td>185</td>\n",
       "      <td>37.6</td>\n",
       "      <td>0</td>\n",
       "      <td>0</td>\n",
       "      <td>0.000000</td>\n",
       "      <td>0.000000</td>\n",
       "      <td>...</td>\n",
       "      <td>0</td>\n",
       "      <td>0</td>\n",
       "      <td>0</td>\n",
       "      <td>0</td>\n",
       "      <td>0</td>\n",
       "      <td>0</td>\n",
       "      <td>0</td>\n",
       "      <td>1</td>\n",
       "      <td>0</td>\n",
       "      <td>0</td>\n",
       "    </tr>\n",
       "    <tr>\n",
       "      <th>2</th>\n",
       "      <td>571</td>\n",
       "      <td>58</td>\n",
       "      <td>1269</td>\n",
       "      <td>80.62</td>\n",
       "      <td>288</td>\n",
       "      <td>32.9</td>\n",
       "      <td>167</td>\n",
       "      <td>39</td>\n",
       "      <td>18.555556</td>\n",
       "      <td>121.014493</td>\n",
       "      <td>...</td>\n",
       "      <td>0</td>\n",
       "      <td>0</td>\n",
       "      <td>0</td>\n",
       "      <td>0</td>\n",
       "      <td>0</td>\n",
       "      <td>0</td>\n",
       "      <td>0</td>\n",
       "      <td>1</td>\n",
       "      <td>0</td>\n",
       "      <td>0</td>\n",
       "    </tr>\n",
       "    <tr>\n",
       "      <th>3</th>\n",
       "      <td>284</td>\n",
       "      <td>31</td>\n",
       "      <td>241</td>\n",
       "      <td>84.56</td>\n",
       "      <td>51</td>\n",
       "      <td>36.8</td>\n",
       "      <td>58</td>\n",
       "      <td>11</td>\n",
       "      <td>5.800000</td>\n",
       "      <td>76.315789</td>\n",
       "      <td>...</td>\n",
       "      <td>0</td>\n",
       "      <td>0</td>\n",
       "      <td>0</td>\n",
       "      <td>0</td>\n",
       "      <td>0</td>\n",
       "      <td>0</td>\n",
       "      <td>0</td>\n",
       "      <td>1</td>\n",
       "      <td>0</td>\n",
       "      <td>0</td>\n",
       "    </tr>\n",
       "    <tr>\n",
       "      <th>4</th>\n",
       "      <td>63</td>\n",
       "      <td>0</td>\n",
       "      <td>79</td>\n",
       "      <td>45.93</td>\n",
       "      <td>0</td>\n",
       "      <td>0.0</td>\n",
       "      <td>1317</td>\n",
       "      <td>71</td>\n",
       "      <td>32.925000</td>\n",
       "      <td>120.714940</td>\n",
       "      <td>...</td>\n",
       "      <td>0</td>\n",
       "      <td>0</td>\n",
       "      <td>0</td>\n",
       "      <td>0</td>\n",
       "      <td>0</td>\n",
       "      <td>0</td>\n",
       "      <td>1</td>\n",
       "      <td>0</td>\n",
       "      <td>0</td>\n",
       "      <td>0</td>\n",
       "    </tr>\n",
       "    <tr>\n",
       "      <th>...</th>\n",
       "      <td>...</td>\n",
       "      <td>...</td>\n",
       "      <td>...</td>\n",
       "      <td>...</td>\n",
       "      <td>...</td>\n",
       "      <td>...</td>\n",
       "      <td>...</td>\n",
       "      <td>...</td>\n",
       "      <td>...</td>\n",
       "      <td>...</td>\n",
       "      <td>...</td>\n",
       "      <td>...</td>\n",
       "      <td>...</td>\n",
       "      <td>...</td>\n",
       "      <td>...</td>\n",
       "      <td>...</td>\n",
       "      <td>...</td>\n",
       "      <td>...</td>\n",
       "      <td>...</td>\n",
       "      <td>...</td>\n",
       "      <td>...</td>\n",
       "    </tr>\n",
       "    <tr>\n",
       "      <th>125</th>\n",
       "      <td>0</td>\n",
       "      <td>0</td>\n",
       "      <td>0</td>\n",
       "      <td>0.00</td>\n",
       "      <td>0</td>\n",
       "      <td>0.0</td>\n",
       "      <td>49</td>\n",
       "      <td>16</td>\n",
       "      <td>9.800000</td>\n",
       "      <td>125.640000</td>\n",
       "      <td>...</td>\n",
       "      <td>0</td>\n",
       "      <td>0</td>\n",
       "      <td>0</td>\n",
       "      <td>0</td>\n",
       "      <td>0</td>\n",
       "      <td>0</td>\n",
       "      <td>1</td>\n",
       "      <td>0</td>\n",
       "      <td>0</td>\n",
       "      <td>0</td>\n",
       "    </tr>\n",
       "    <tr>\n",
       "      <th>126</th>\n",
       "      <td>6398</td>\n",
       "      <td>7</td>\n",
       "      <td>6814</td>\n",
       "      <td>75.78</td>\n",
       "      <td>3</td>\n",
       "      <td>86.6</td>\n",
       "      <td>3</td>\n",
       "      <td>3</td>\n",
       "      <td>3.000000</td>\n",
       "      <td>42.850000</td>\n",
       "      <td>...</td>\n",
       "      <td>0</td>\n",
       "      <td>1</td>\n",
       "      <td>0</td>\n",
       "      <td>0</td>\n",
       "      <td>0</td>\n",
       "      <td>0</td>\n",
       "      <td>1</td>\n",
       "      <td>0</td>\n",
       "      <td>0</td>\n",
       "      <td>1</td>\n",
       "    </tr>\n",
       "    <tr>\n",
       "      <th>127</th>\n",
       "      <td>1775</td>\n",
       "      <td>9</td>\n",
       "      <td>8051</td>\n",
       "      <td>87.58</td>\n",
       "      <td>109</td>\n",
       "      <td>44.3</td>\n",
       "      <td>1237</td>\n",
       "      <td>66</td>\n",
       "      <td>26.319149</td>\n",
       "      <td>131.876333</td>\n",
       "      <td>...</td>\n",
       "      <td>0</td>\n",
       "      <td>0</td>\n",
       "      <td>0</td>\n",
       "      <td>0</td>\n",
       "      <td>0</td>\n",
       "      <td>0</td>\n",
       "      <td>1</td>\n",
       "      <td>0</td>\n",
       "      <td>0</td>\n",
       "      <td>1</td>\n",
       "    </tr>\n",
       "    <tr>\n",
       "      <th>128</th>\n",
       "      <td>1114</td>\n",
       "      <td>288</td>\n",
       "      <td>790</td>\n",
       "      <td>73.55</td>\n",
       "      <td>278</td>\n",
       "      <td>35.4</td>\n",
       "      <td>99</td>\n",
       "      <td>23</td>\n",
       "      <td>9.900000</td>\n",
       "      <td>91.666667</td>\n",
       "      <td>...</td>\n",
       "      <td>0</td>\n",
       "      <td>0</td>\n",
       "      <td>0</td>\n",
       "      <td>0</td>\n",
       "      <td>0</td>\n",
       "      <td>0</td>\n",
       "      <td>0</td>\n",
       "      <td>1</td>\n",
       "      <td>0</td>\n",
       "      <td>0</td>\n",
       "    </tr>\n",
       "    <tr>\n",
       "      <th>129</th>\n",
       "      <td>288</td>\n",
       "      <td>64</td>\n",
       "      <td>343</td>\n",
       "      <td>95.81</td>\n",
       "      <td>108</td>\n",
       "      <td>39.4</td>\n",
       "      <td>11</td>\n",
       "      <td>10</td>\n",
       "      <td>11.000000</td>\n",
       "      <td>122.220000</td>\n",
       "      <td>...</td>\n",
       "      <td>0</td>\n",
       "      <td>0</td>\n",
       "      <td>0</td>\n",
       "      <td>1</td>\n",
       "      <td>0</td>\n",
       "      <td>0</td>\n",
       "      <td>0</td>\n",
       "      <td>1</td>\n",
       "      <td>0</td>\n",
       "      <td>0</td>\n",
       "    </tr>\n",
       "  </tbody>\n",
       "</table>\n",
       "<p>130 rows × 31 columns</p>\n",
       "</div>"
      ],
      "text/plain": [
       "     T-RUNS  T-WKTS  ODI-RUNS-S  ODI-SR-B  ODI-WKTS  ODI-SR-BL  RUNS-S  HS   \\\n",
       "0         0       0           0      0.00         0        0.0       0    0   \n",
       "1       214      18         657     71.41       185       37.6       0    0   \n",
       "2       571      58        1269     80.62       288       32.9     167   39   \n",
       "3       284      31         241     84.56        51       36.8      58   11   \n",
       "4        63       0          79     45.93         0        0.0    1317   71   \n",
       "..      ...     ...         ...       ...       ...        ...     ...  ...   \n",
       "125       0       0           0      0.00         0        0.0      49   16   \n",
       "126    6398       7        6814     75.78         3       86.6       3    3   \n",
       "127    1775       9        8051     87.58       109       44.3    1237   66   \n",
       "128    1114     288         790     73.55       278       35.4      99   23   \n",
       "129     288      64         343     95.81       108       39.4      11   10   \n",
       "\n",
       "           AVE       SR -B  ...  COUNTRY_NZ  COUNTRY_PAK  COUNTRY_SA  \\\n",
       "0     0.000000    0.000000  ...           0            0           1   \n",
       "1     0.000000    0.000000  ...           0            0           0   \n",
       "2    18.555556  121.014493  ...           0            0           0   \n",
       "3     5.800000   76.315789  ...           0            0           0   \n",
       "4    32.925000  120.714940  ...           0            0           0   \n",
       "..         ...         ...  ...         ...          ...         ...   \n",
       "125   9.800000  125.640000  ...           0            0           0   \n",
       "126   3.000000   42.850000  ...           0            1           0   \n",
       "127  26.319149  131.876333  ...           0            0           0   \n",
       "128   9.900000   91.666667  ...           0            0           0   \n",
       "129  11.000000  122.220000  ...           0            0           0   \n",
       "\n",
       "     COUNTRY_SL  COUNTRY_WI  COUNTRY_ZIM  PLAYING ROLE_Batsman  \\\n",
       "0             0           0            0                     0   \n",
       "1             0           0            0                     0   \n",
       "2             0           0            0                     0   \n",
       "3             0           0            0                     0   \n",
       "4             0           0            0                     1   \n",
       "..          ...         ...          ...                   ...   \n",
       "125           0           0            0                     1   \n",
       "126           0           0            0                     1   \n",
       "127           0           0            0                     1   \n",
       "128           0           0            0                     0   \n",
       "129           1           0            0                     0   \n",
       "\n",
       "     PLAYING ROLE_Bowler  PLAYING ROLE_W. Keeper  CAPTAINCY EXP_1  \n",
       "0                      0                       0                0  \n",
       "1                      1                       0                0  \n",
       "2                      1                       0                0  \n",
       "3                      1                       0                0  \n",
       "4                      0                       0                0  \n",
       "..                   ...                     ...              ...  \n",
       "125                    0                       0                0  \n",
       "126                    0                       0                1  \n",
       "127                    0                       0                1  \n",
       "128                    1                       0                0  \n",
       "129                    1                       0                0  \n",
       "\n",
       "[130 rows x 31 columns]"
      ]
     },
     "execution_count": 21,
     "metadata": {},
     "output_type": "execute_result"
    }
   ],
   "source": [
    "X[Xf]"
   ]
  },
  {
   "cell_type": "code",
   "execution_count": 22,
   "id": "91da2d47",
   "metadata": {
    "scrolled": true
   },
   "outputs": [
    {
     "data": {
      "text/html": [
       "<div>\n",
       "<style scoped>\n",
       "    .dataframe tbody tr th:only-of-type {\n",
       "        vertical-align: middle;\n",
       "    }\n",
       "\n",
       "    .dataframe tbody tr th {\n",
       "        vertical-align: top;\n",
       "    }\n",
       "\n",
       "    .dataframe thead th {\n",
       "        text-align: right;\n",
       "    }\n",
       "</style>\n",
       "<table border=\"1\" class=\"dataframe\">\n",
       "  <thead>\n",
       "    <tr style=\"text-align: right;\">\n",
       "      <th></th>\n",
       "      <th>column</th>\n",
       "      <th>VIF</th>\n",
       "    </tr>\n",
       "  </thead>\n",
       "  <tbody>\n",
       "    <tr>\n",
       "      <th>0</th>\n",
       "      <td>T-RUNS</td>\n",
       "      <td>12.612804</td>\n",
       "    </tr>\n",
       "    <tr>\n",
       "      <th>1</th>\n",
       "      <td>T-WKTS</td>\n",
       "      <td>7.679373</td>\n",
       "    </tr>\n",
       "    <tr>\n",
       "      <th>2</th>\n",
       "      <td>ODI-RUNS-S</td>\n",
       "      <td>16.425993</td>\n",
       "    </tr>\n",
       "    <tr>\n",
       "      <th>3</th>\n",
       "      <td>ODI-SR-B</td>\n",
       "      <td>13.829124</td>\n",
       "    </tr>\n",
       "    <tr>\n",
       "      <th>4</th>\n",
       "      <td>ODI-WKTS</td>\n",
       "      <td>9.951506</td>\n",
       "    </tr>\n",
       "    <tr>\n",
       "      <th>5</th>\n",
       "      <td>ODI-SR-BL</td>\n",
       "      <td>4.426814</td>\n",
       "    </tr>\n",
       "    <tr>\n",
       "      <th>6</th>\n",
       "      <td>RUNS-S</td>\n",
       "      <td>16.135175</td>\n",
       "    </tr>\n",
       "    <tr>\n",
       "      <th>7</th>\n",
       "      <td>HS</td>\n",
       "      <td>22.781620</td>\n",
       "    </tr>\n",
       "    <tr>\n",
       "      <th>8</th>\n",
       "      <td>AVE</td>\n",
       "      <td>25.227318</td>\n",
       "    </tr>\n",
       "    <tr>\n",
       "      <th>9</th>\n",
       "      <td>SR -B</td>\n",
       "      <td>21.576377</td>\n",
       "    </tr>\n",
       "    <tr>\n",
       "      <th>10</th>\n",
       "      <td>SIXERS</td>\n",
       "      <td>9.547304</td>\n",
       "    </tr>\n",
       "    <tr>\n",
       "      <th>11</th>\n",
       "      <td>RUNS-C</td>\n",
       "      <td>38.230008</td>\n",
       "    </tr>\n",
       "    <tr>\n",
       "      <th>12</th>\n",
       "      <td>WKTS</td>\n",
       "      <td>33.365271</td>\n",
       "    </tr>\n",
       "    <tr>\n",
       "      <th>13</th>\n",
       "      <td>AVE-BL</td>\n",
       "      <td>100.178719</td>\n",
       "    </tr>\n",
       "    <tr>\n",
       "      <th>14</th>\n",
       "      <td>ECON</td>\n",
       "      <td>7.650396</td>\n",
       "    </tr>\n",
       "    <tr>\n",
       "      <th>15</th>\n",
       "      <td>SR-BL</td>\n",
       "      <td>103.715572</td>\n",
       "    </tr>\n",
       "    <tr>\n",
       "      <th>16</th>\n",
       "      <td>AGE_2</td>\n",
       "      <td>6.996196</td>\n",
       "    </tr>\n",
       "    <tr>\n",
       "      <th>17</th>\n",
       "      <td>AGE_3</td>\n",
       "      <td>3.855030</td>\n",
       "    </tr>\n",
       "    <tr>\n",
       "      <th>18</th>\n",
       "      <td>COUNTRY_BAN</td>\n",
       "      <td>1.468983</td>\n",
       "    </tr>\n",
       "    <tr>\n",
       "      <th>19</th>\n",
       "      <td>COUNTRY_ENG</td>\n",
       "      <td>1.391479</td>\n",
       "    </tr>\n",
       "    <tr>\n",
       "      <th>20</th>\n",
       "      <td>COUNTRY_IND</td>\n",
       "      <td>4.569029</td>\n",
       "    </tr>\n",
       "    <tr>\n",
       "      <th>21</th>\n",
       "      <td>COUNTRY_NZ</td>\n",
       "      <td>1.497835</td>\n",
       "    </tr>\n",
       "    <tr>\n",
       "      <th>22</th>\n",
       "      <td>COUNTRY_PAK</td>\n",
       "      <td>1.796382</td>\n",
       "    </tr>\n",
       "    <tr>\n",
       "      <th>23</th>\n",
       "      <td>COUNTRY_SA</td>\n",
       "      <td>1.886549</td>\n",
       "    </tr>\n",
       "    <tr>\n",
       "      <th>24</th>\n",
       "      <td>COUNTRY_SL</td>\n",
       "      <td>1.984945</td>\n",
       "    </tr>\n",
       "    <tr>\n",
       "      <th>25</th>\n",
       "      <td>COUNTRY_WI</td>\n",
       "      <td>1.531819</td>\n",
       "    </tr>\n",
       "    <tr>\n",
       "      <th>26</th>\n",
       "      <td>COUNTRY_ZIM</td>\n",
       "      <td>1.312168</td>\n",
       "    </tr>\n",
       "    <tr>\n",
       "      <th>27</th>\n",
       "      <td>PLAYING ROLE_Batsman</td>\n",
       "      <td>4.843015</td>\n",
       "    </tr>\n",
       "    <tr>\n",
       "      <th>28</th>\n",
       "      <td>PLAYING ROLE_Bowler</td>\n",
       "      <td>3.795828</td>\n",
       "    </tr>\n",
       "    <tr>\n",
       "      <th>29</th>\n",
       "      <td>PLAYING ROLE_W. Keeper</td>\n",
       "      <td>3.131994</td>\n",
       "    </tr>\n",
       "    <tr>\n",
       "      <th>30</th>\n",
       "      <td>CAPTAINCY EXP_1</td>\n",
       "      <td>4.245052</td>\n",
       "    </tr>\n",
       "  </tbody>\n",
       "</table>\n",
       "</div>"
      ],
      "text/plain": [
       "                    column         VIF\n",
       "0                   T-RUNS   12.612804\n",
       "1                   T-WKTS    7.679373\n",
       "2               ODI-RUNS-S   16.425993\n",
       "3                 ODI-SR-B   13.829124\n",
       "4                 ODI-WKTS    9.951506\n",
       "5                ODI-SR-BL    4.426814\n",
       "6                   RUNS-S   16.135175\n",
       "7                      HS    22.781620\n",
       "8                      AVE   25.227318\n",
       "9                    SR -B   21.576377\n",
       "10                  SIXERS    9.547304\n",
       "11                  RUNS-C   38.230008\n",
       "12                    WKTS   33.365271\n",
       "13                  AVE-BL  100.178719\n",
       "14                    ECON    7.650396\n",
       "15                   SR-BL  103.715572\n",
       "16                   AGE_2    6.996196\n",
       "17                   AGE_3    3.855030\n",
       "18             COUNTRY_BAN    1.468983\n",
       "19             COUNTRY_ENG    1.391479\n",
       "20             COUNTRY_IND    4.569029\n",
       "21              COUNTRY_NZ    1.497835\n",
       "22             COUNTRY_PAK    1.796382\n",
       "23              COUNTRY_SA    1.886549\n",
       "24              COUNTRY_SL    1.984945\n",
       "25              COUNTRY_WI    1.531819\n",
       "26             COUNTRY_ZIM    1.312168\n",
       "27    PLAYING ROLE_Batsman    4.843015\n",
       "28     PLAYING ROLE_Bowler    3.795828\n",
       "29  PLAYING ROLE_W. Keeper    3.131994\n",
       "30         CAPTAINCY EXP_1    4.245052"
      ]
     },
     "execution_count": 22,
     "metadata": {},
     "output_type": "execute_result"
    }
   ],
   "source": [
    "vif_features = vif_fac(X[Xf])\n",
    "vif_features"
   ]
  },
  {
   "cell_type": "code",
   "execution_count": 23,
   "id": "c84eaa87",
   "metadata": {},
   "outputs": [
    {
     "data": {
      "text/plain": [
       "0                   T-RUNS\n",
       "1                   T-WKTS\n",
       "2               ODI-RUNS-S\n",
       "3                 ODI-SR-B\n",
       "4                 ODI-WKTS\n",
       "5                ODI-SR-BL\n",
       "6                   RUNS-S\n",
       "7                      HS \n",
       "8                      AVE\n",
       "9                    SR -B\n",
       "10                  SIXERS\n",
       "11                  RUNS-C\n",
       "12                    WKTS\n",
       "13                  AVE-BL\n",
       "14                    ECON\n",
       "15                   SR-BL\n",
       "16                   AGE_2\n",
       "20             COUNTRY_IND\n",
       "27    PLAYING ROLE_Batsman\n",
       "30         CAPTAINCY EXP_1\n",
       "Name: column, dtype: object"
      ]
     },
     "execution_count": 23,
     "metadata": {},
     "output_type": "execute_result"
    }
   ],
   "source": [
    "large_vif = vif_features[vif_features['VIF']>4].column\n",
    "large_vif"
   ]
  },
  {
   "cell_type": "code",
   "execution_count": 24,
   "id": "5bfb1fec",
   "metadata": {
    "scrolled": true
   },
   "outputs": [
    {
     "data": {
      "text/plain": [
       "Text(0.5, 1.0, 'Heatmap of Features')"
      ]
     },
     "execution_count": 24,
     "metadata": {},
     "output_type": "execute_result"
    },
    {
     "data": {
      "image/png": "[encoded data removed]",
      "text/plain": [
       "<Figure size 1080x1080 with 2 Axes>"
      ]
     },
     "metadata": {
      "needs_background": "light"
     },
     "output_type": "display_data"
    }
   ],
   "source": [
    "plt.figure(figsize = (15,15))\n",
    "sns.heatmap(X[large_vif].corr(), annot = True, xticklabels = True, yticklabels=True)\n",
    "plt.title('Heatmap of Features')"
   ]
  },
  {
   "cell_type": "code",
   "execution_count": 25,
   "id": "ebea1054",
   "metadata": {},
   "outputs": [],
   "source": [
    "cl_rm = ['T-RUNS','T-WKTS','RUNS-S','HS ','AVE','SR -B','RUNS-C','SR-BL','AGE_2','ODI-RUNS-S','ODI-SR-B','ECON','AVE-BL','SR -B','RUNS-C']"
   ]
  },
  {
   "cell_type": "code",
   "execution_count": 26,
   "id": "475f2271",
   "metadata": {},
   "outputs": [],
   "source": [
    "Xnew = []\n",
    "for column in Xf:\n",
    "    if column not in cl_rm:\n",
    "        Xnew.append(column)"
   ]
  },
  {
   "cell_type": "code",
   "execution_count": 27,
   "id": "3726ee00",
   "metadata": {},
   "outputs": [
    {
     "data": {
      "text/html": [
       "<div>\n",
       "<style scoped>\n",
       "    .dataframe tbody tr th:only-of-type {\n",
       "        vertical-align: middle;\n",
       "    }\n",
       "\n",
       "    .dataframe tbody tr th {\n",
       "        vertical-align: top;\n",
       "    }\n",
       "\n",
       "    .dataframe thead th {\n",
       "        text-align: right;\n",
       "    }\n",
       "</style>\n",
       "<table border=\"1\" class=\"dataframe\">\n",
       "  <thead>\n",
       "    <tr style=\"text-align: right;\">\n",
       "      <th></th>\n",
       "      <th>column</th>\n",
       "      <th>VIF</th>\n",
       "    </tr>\n",
       "  </thead>\n",
       "  <tbody>\n",
       "    <tr>\n",
       "      <th>0</th>\n",
       "      <td>ODI-WKTS</td>\n",
       "      <td>2.742889</td>\n",
       "    </tr>\n",
       "    <tr>\n",
       "      <th>1</th>\n",
       "      <td>ODI-SR-BL</td>\n",
       "      <td>2.822148</td>\n",
       "    </tr>\n",
       "    <tr>\n",
       "      <th>2</th>\n",
       "      <td>SIXERS</td>\n",
       "      <td>2.397409</td>\n",
       "    </tr>\n",
       "    <tr>\n",
       "      <th>3</th>\n",
       "      <td>WKTS</td>\n",
       "      <td>2.883101</td>\n",
       "    </tr>\n",
       "    <tr>\n",
       "      <th>4</th>\n",
       "      <td>AGE_3</td>\n",
       "      <td>1.779861</td>\n",
       "    </tr>\n",
       "    <tr>\n",
       "      <th>5</th>\n",
       "      <td>COUNTRY_BAN</td>\n",
       "      <td>1.094293</td>\n",
       "    </tr>\n",
       "    <tr>\n",
       "      <th>6</th>\n",
       "      <td>COUNTRY_ENG</td>\n",
       "      <td>1.131869</td>\n",
       "    </tr>\n",
       "    <tr>\n",
       "      <th>7</th>\n",
       "      <td>COUNTRY_IND</td>\n",
       "      <td>3.144668</td>\n",
       "    </tr>\n",
       "    <tr>\n",
       "      <th>8</th>\n",
       "      <td>COUNTRY_NZ</td>\n",
       "      <td>1.173418</td>\n",
       "    </tr>\n",
       "    <tr>\n",
       "      <th>9</th>\n",
       "      <td>COUNTRY_PAK</td>\n",
       "      <td>1.334773</td>\n",
       "    </tr>\n",
       "    <tr>\n",
       "      <th>10</th>\n",
       "      <td>COUNTRY_SA</td>\n",
       "      <td>1.416657</td>\n",
       "    </tr>\n",
       "    <tr>\n",
       "      <th>11</th>\n",
       "      <td>COUNTRY_SL</td>\n",
       "      <td>1.519752</td>\n",
       "    </tr>\n",
       "    <tr>\n",
       "      <th>12</th>\n",
       "      <td>COUNTRY_WI</td>\n",
       "      <td>1.194093</td>\n",
       "    </tr>\n",
       "    <tr>\n",
       "      <th>13</th>\n",
       "      <td>COUNTRY_ZIM</td>\n",
       "      <td>1.205305</td>\n",
       "    </tr>\n",
       "    <tr>\n",
       "      <th>14</th>\n",
       "      <td>PLAYING ROLE_Batsman</td>\n",
       "      <td>2.680207</td>\n",
       "    </tr>\n",
       "    <tr>\n",
       "      <th>15</th>\n",
       "      <td>PLAYING ROLE_Bowler</td>\n",
       "      <td>3.060168</td>\n",
       "    </tr>\n",
       "    <tr>\n",
       "      <th>16</th>\n",
       "      <td>PLAYING ROLE_W. Keeper</td>\n",
       "      <td>1.900941</td>\n",
       "    </tr>\n",
       "    <tr>\n",
       "      <th>17</th>\n",
       "      <td>CAPTAINCY EXP_1</td>\n",
       "      <td>2.458745</td>\n",
       "    </tr>\n",
       "  </tbody>\n",
       "</table>\n",
       "</div>"
      ],
      "text/plain": [
       "                    column       VIF\n",
       "0                 ODI-WKTS  2.742889\n",
       "1                ODI-SR-BL  2.822148\n",
       "2                   SIXERS  2.397409\n",
       "3                     WKTS  2.883101\n",
       "4                    AGE_3  1.779861\n",
       "5              COUNTRY_BAN  1.094293\n",
       "6              COUNTRY_ENG  1.131869\n",
       "7              COUNTRY_IND  3.144668\n",
       "8               COUNTRY_NZ  1.173418\n",
       "9              COUNTRY_PAK  1.334773\n",
       "10              COUNTRY_SA  1.416657\n",
       "11              COUNTRY_SL  1.519752\n",
       "12              COUNTRY_WI  1.194093\n",
       "13             COUNTRY_ZIM  1.205305\n",
       "14    PLAYING ROLE_Batsman  2.680207\n",
       "15     PLAYING ROLE_Bowler  3.060168\n",
       "16  PLAYING ROLE_W. Keeper  1.900941\n",
       "17         CAPTAINCY EXP_1  2.458745"
      ]
     },
     "execution_count": 27,
     "metadata": {},
     "output_type": "execute_result"
    }
   ],
   "source": [
    "vif_fac(X[Xnew])"
   ]
  },
  {
   "cell_type": "code",
   "execution_count": 28,
   "id": "4ae1ba5a",
   "metadata": {},
   "outputs": [
    {
     "data": {
      "text/plain": [
       "['ODI-WKTS',\n",
       " 'ODI-SR-BL',\n",
       " 'SIXERS',\n",
       " 'WKTS',\n",
       " 'AGE_3',\n",
       " 'COUNTRY_BAN',\n",
       " 'COUNTRY_ENG',\n",
       " 'COUNTRY_IND',\n",
       " 'COUNTRY_NZ',\n",
       " 'COUNTRY_PAK',\n",
       " 'COUNTRY_SA',\n",
       " 'COUNTRY_SL',\n",
       " 'COUNTRY_WI',\n",
       " 'COUNTRY_ZIM',\n",
       " 'PLAYING ROLE_Batsman',\n",
       " 'PLAYING ROLE_Bowler',\n",
       " 'PLAYING ROLE_W. Keeper',\n",
       " 'CAPTAINCY EXP_1']"
      ]
     },
     "execution_count": 28,
     "metadata": {},
     "output_type": "execute_result"
    }
   ],
   "source": [
    "Xnew"
   ]
  },
  {
   "cell_type": "code",
   "execution_count": 29,
   "id": "a4f46f1d",
   "metadata": {},
   "outputs": [],
   "source": [
    "Xtrain = Xtrain[Xnew]"
   ]
  },
  {
   "cell_type": "code",
   "execution_count": 30,
   "id": "2407ec68",
   "metadata": {},
   "outputs": [],
   "source": [
    "Imodel2 = sm.OLS(Ytrain, Xtrain).fit()"
   ]
  },
  {
   "cell_type": "code",
   "execution_count": 31,
   "id": "9b00cdff",
   "metadata": {},
   "outputs": [
    {
     "data": {
      "text/html": [
       "<table class=\"simpletable\">\n",
       "<caption>OLS Regression Results</caption>\n",
       "<tr>\n",
       "  <th>Dep. Variable:</th>       <td>SOLD PRICE</td>    <th>  R-squared (uncentered):</th>      <td>   0.775</td>\n",
       "</tr>\n",
       "<tr>\n",
       "  <th>Model:</th>                   <td>OLS</td>       <th>  Adj. R-squared (uncentered):</th> <td>   0.728</td>\n",
       "</tr>\n",
       "<tr>\n",
       "  <th>Method:</th>             <td>Least Squares</td>  <th>  F-statistic:       </th>          <td>   16.49</td>\n",
       "</tr>\n",
       "<tr>\n",
       "  <th>Date:</th>             <td>Tue, 22 Feb 2022</td> <th>  Prob (F-statistic):</th>          <td>1.13e-20</td>\n",
       "</tr>\n",
       "<tr>\n",
       "  <th>Time:</th>                 <td>20:10:41</td>     <th>  Log-Likelihood:    </th>          <td> -1464.6</td>\n",
       "</tr>\n",
       "<tr>\n",
       "  <th>No. Observations:</th>      <td>   104</td>      <th>  AIC:               </th>          <td>   2965.</td>\n",
       "</tr>\n",
       "<tr>\n",
       "  <th>Df Residuals:</th>          <td>    86</td>      <th>  BIC:               </th>          <td>   3013.</td>\n",
       "</tr>\n",
       "<tr>\n",
       "  <th>Df Model:</th>              <td>    18</td>      <th>                     </th>              <td> </td>   \n",
       "</tr>\n",
       "<tr>\n",
       "  <th>Covariance Type:</th>      <td>nonrobust</td>    <th>                     </th>              <td> </td>   \n",
       "</tr>\n",
       "</table>\n",
       "<table class=\"simpletable\">\n",
       "<tr>\n",
       "             <td></td>               <th>coef</th>     <th>std err</th>      <th>t</th>      <th>P>|t|</th>  <th>[0.025</th>    <th>0.975]</th>  \n",
       "</tr>\n",
       "<tr>\n",
       "  <th>ODI-WKTS</th>               <td>  772.4088</td> <td>  470.635</td> <td>    1.641</td> <td> 0.104</td> <td> -163.183</td> <td> 1708.001</td>\n",
       "</tr>\n",
       "<tr>\n",
       "  <th>ODI-SR-BL</th>              <td>  909.0021</td> <td> 1267.497</td> <td>    0.717</td> <td> 0.475</td> <td>-1610.698</td> <td> 3428.703</td>\n",
       "</tr>\n",
       "<tr>\n",
       "  <th>SIXERS</th>                 <td> 7862.1259</td> <td> 2086.610</td> <td>    3.768</td> <td> 0.000</td> <td> 3714.082</td> <td>  1.2e+04</td>\n",
       "</tr>\n",
       "<tr>\n",
       "  <th>WKTS</th>                   <td> 2431.8988</td> <td> 2105.352</td> <td>    1.155</td> <td> 0.251</td> <td>-1753.403</td> <td> 6617.201</td>\n",
       "</tr>\n",
       "<tr>\n",
       "  <th>AGE_3</th>                  <td>-8950.6659</td> <td>  9.8e+04</td> <td>   -0.091</td> <td> 0.927</td> <td>-2.04e+05</td> <td> 1.86e+05</td>\n",
       "</tr>\n",
       "<tr>\n",
       "  <th>COUNTRY_BAN</th>            <td>-1.088e+05</td> <td> 3.69e+05</td> <td>   -0.295</td> <td> 0.769</td> <td>-8.43e+05</td> <td> 6.25e+05</td>\n",
       "</tr>\n",
       "<tr>\n",
       "  <th>COUNTRY_ENG</th>            <td> 6.829e+05</td> <td> 2.16e+05</td> <td>    3.160</td> <td> 0.002</td> <td> 2.53e+05</td> <td> 1.11e+06</td>\n",
       "</tr>\n",
       "<tr>\n",
       "  <th>COUNTRY_IND</th>            <td> 2.828e+05</td> <td> 9.62e+04</td> <td>    2.940</td> <td> 0.004</td> <td> 9.16e+04</td> <td> 4.74e+05</td>\n",
       "</tr>\n",
       "<tr>\n",
       "  <th>COUNTRY_NZ</th>             <td>  1.43e+05</td> <td> 1.52e+05</td> <td>    0.942</td> <td> 0.349</td> <td>-1.59e+05</td> <td> 4.45e+05</td>\n",
       "</tr>\n",
       "<tr>\n",
       "  <th>COUNTRY_PAK</th>            <td> 1.228e+05</td> <td>  1.6e+05</td> <td>    0.769</td> <td> 0.444</td> <td>-1.94e+05</td> <td>  4.4e+05</td>\n",
       "</tr>\n",
       "<tr>\n",
       "  <th>COUNTRY_SA</th>             <td> 1.087e+05</td> <td> 1.15e+05</td> <td>    0.945</td> <td> 0.347</td> <td> -1.2e+05</td> <td> 3.38e+05</td>\n",
       "</tr>\n",
       "<tr>\n",
       "  <th>COUNTRY_SL</th>             <td> 5.591e+04</td> <td> 1.42e+05</td> <td>    0.393</td> <td> 0.695</td> <td>-2.27e+05</td> <td> 3.39e+05</td>\n",
       "</tr>\n",
       "<tr>\n",
       "  <th>COUNTRY_WI</th>             <td>-2.223e+04</td> <td> 2.13e+05</td> <td>   -0.104</td> <td> 0.917</td> <td>-4.46e+05</td> <td> 4.01e+05</td>\n",
       "</tr>\n",
       "<tr>\n",
       "  <th>COUNTRY_ZIM</th>            <td>-6.798e+04</td> <td> 3.91e+05</td> <td>   -0.174</td> <td> 0.862</td> <td>-8.45e+05</td> <td> 7.09e+05</td>\n",
       "</tr>\n",
       "<tr>\n",
       "  <th>PLAYING ROLE_Batsman</th>   <td> 1.214e+05</td> <td> 1.07e+05</td> <td>    1.138</td> <td> 0.258</td> <td>-9.07e+04</td> <td> 3.33e+05</td>\n",
       "</tr>\n",
       "<tr>\n",
       "  <th>PLAYING ROLE_Bowler</th>    <td>-1.832e+04</td> <td> 1.06e+05</td> <td>   -0.173</td> <td> 0.863</td> <td>-2.29e+05</td> <td> 1.92e+05</td>\n",
       "</tr>\n",
       "<tr>\n",
       "  <th>PLAYING ROLE_W. Keeper</th> <td>-5.512e+04</td> <td>  1.7e+05</td> <td>   -0.324</td> <td> 0.746</td> <td>-3.93e+05</td> <td> 2.83e+05</td>\n",
       "</tr>\n",
       "<tr>\n",
       "  <th>CAPTAINCY EXP_1</th>        <td> 2.084e+05</td> <td> 9.81e+04</td> <td>    2.124</td> <td> 0.037</td> <td> 1.33e+04</td> <td> 4.03e+05</td>\n",
       "</tr>\n",
       "</table>\n",
       "<table class=\"simpletable\">\n",
       "<tr>\n",
       "  <th>Omnibus:</th>       <td> 8.635</td> <th>  Durbin-Watson:     </th> <td>   2.252</td>\n",
       "</tr>\n",
       "<tr>\n",
       "  <th>Prob(Omnibus):</th> <td> 0.013</td> <th>  Jarque-Bera (JB):  </th> <td>   8.345</td>\n",
       "</tr>\n",
       "<tr>\n",
       "  <th>Skew:</th>          <td> 0.623</td> <th>  Prob(JB):          </th> <td>  0.0154</td>\n",
       "</tr>\n",
       "<tr>\n",
       "  <th>Kurtosis:</th>      <td> 3.609</td> <th>  Cond. No.          </th> <td>1.49e+03</td>\n",
       "</tr>\n",
       "</table><br/><br/>Notes:<br/>[1] R² is computed without centering (uncentered) since the model does not contain a constant.<br/>[2] Standard Errors assume that the covariance matrix of the errors is correctly specified.<br/>[3] The condition number is large, 1.49e+03. This might indicate that there are<br/>strong multicollinearity or other numerical problems."
      ],
      "text/plain": [
       "<class 'statsmodels.iolib.summary.Summary'>\n",
       "\"\"\"\n",
       "                                 OLS Regression Results                                \n",
       "=======================================================================================\n",
       "Dep. Variable:             SOLD PRICE   R-squared (uncentered):                   0.775\n",
       "Model:                            OLS   Adj. R-squared (uncentered):              0.728\n",
       "Method:                 Least Squares   F-statistic:                              16.49\n",
       "Date:                Tue, 22 Feb 2022   Prob (F-statistic):                    1.13e-20\n",
       "Time:                        20:10:41   Log-Likelihood:                         -1464.6\n",
       "No. Observations:                 104   AIC:                                      2965.\n",
       "Df Residuals:                      86   BIC:                                      3013.\n",
       "Df Model:                          18                                                  \n",
       "Covariance Type:            nonrobust                                                  \n",
       "==========================================================================================\n",
       "                             coef    std err          t      P>|t|      [0.025      0.975]\n",
       "------------------------------------------------------------------------------------------\n",
       "ODI-WKTS                 772.4088    470.635      1.641      0.104    -163.183    1708.001\n",
       "ODI-SR-BL                909.0021   1267.497      0.717      0.475   -1610.698    3428.703\n",
       "SIXERS                  7862.1259   2086.610      3.768      0.000    3714.082     1.2e+04\n",
       "WKTS                    2431.8988   2105.352      1.155      0.251   -1753.403    6617.201\n",
       "AGE_3                  -8950.6659    9.8e+04     -0.091      0.927   -2.04e+05    1.86e+05\n",
       "COUNTRY_BAN            -1.088e+05   3.69e+05     -0.295      0.769   -8.43e+05    6.25e+05\n",
       "COUNTRY_ENG             6.829e+05   2.16e+05      3.160      0.002    2.53e+05    1.11e+06\n",
       "COUNTRY_IND             2.828e+05   9.62e+04      2.940      0.004    9.16e+04    4.74e+05\n",
       "COUNTRY_NZ               1.43e+05   1.52e+05      0.942      0.349   -1.59e+05    4.45e+05\n",
       "COUNTRY_PAK             1.228e+05    1.6e+05      0.769      0.444   -1.94e+05     4.4e+05\n",
       "COUNTRY_SA              1.087e+05   1.15e+05      0.945      0.347    -1.2e+05    3.38e+05\n",
       "COUNTRY_SL              5.591e+04   1.42e+05      0.393      0.695   -2.27e+05    3.39e+05\n",
       "COUNTRY_WI             -2.223e+04   2.13e+05     -0.104      0.917   -4.46e+05    4.01e+05\n",
       "COUNTRY_ZIM            -6.798e+04   3.91e+05     -0.174      0.862   -8.45e+05    7.09e+05\n",
       "PLAYING ROLE_Batsman    1.214e+05   1.07e+05      1.138      0.258   -9.07e+04    3.33e+05\n",
       "PLAYING ROLE_Bowler    -1.832e+04   1.06e+05     -0.173      0.863   -2.29e+05    1.92e+05\n",
       "PLAYING ROLE_W. Keeper -5.512e+04    1.7e+05     -0.324      0.746   -3.93e+05    2.83e+05\n",
       "CAPTAINCY EXP_1         2.084e+05   9.81e+04      2.124      0.037    1.33e+04    4.03e+05\n",
       "==============================================================================\n",
       "Omnibus:                        8.635   Durbin-Watson:                   2.252\n",
       "Prob(Omnibus):                  0.013   Jarque-Bera (JB):                8.345\n",
       "Skew:                           0.623   Prob(JB):                       0.0154\n",
       "Kurtosis:                       3.609   Cond. No.                     1.49e+03\n",
       "==============================================================================\n",
       "\n",
       "Notes:\n",
       "[1] R² is computed without centering (uncentered) since the model does not contain a constant.\n",
       "[2] Standard Errors assume that the covariance matrix of the errors is correctly specified.\n",
       "[3] The condition number is large, 1.49e+03. This might indicate that there are\n",
       "strong multicollinearity or other numerical problems.\n",
       "\"\"\""
      ]
     },
     "execution_count": 31,
     "metadata": {},
     "output_type": "execute_result"
    }
   ],
   "source": [
    "Imodel2.summary()"
   ]
  },
  {
   "cell_type": "code",
   "execution_count": 32,
   "id": "4f7df559",
   "metadata": {},
   "outputs": [],
   "source": [
    "sig_var=['SIXERS','COUNTRY_ENG','COUNTRY_IND', 'CAPTAINCY EXP_1']"
   ]
  },
  {
   "cell_type": "code",
   "execution_count": 33,
   "id": "fe6966e3",
   "metadata": {},
   "outputs": [],
   "source": [
    "Xtrain = Xtrain[sig_var]"
   ]
  },
  {
   "cell_type": "code",
   "execution_count": 34,
   "id": "b93e6bed",
   "metadata": {},
   "outputs": [],
   "source": [
    "Imodel3=sm.OLS(Ytrain, Xtrain).fit()"
   ]
  },
  {
   "cell_type": "code",
   "execution_count": 35,
   "id": "44a68cea",
   "metadata": {},
   "outputs": [
    {
     "data": {
      "text/html": [
       "<table class=\"simpletable\">\n",
       "<caption>OLS Regression Results</caption>\n",
       "<tr>\n",
       "  <th>Dep. Variable:</th>       <td>SOLD PRICE</td>    <th>  R-squared (uncentered):</th>      <td>   0.715</td>\n",
       "</tr>\n",
       "<tr>\n",
       "  <th>Model:</th>                   <td>OLS</td>       <th>  Adj. R-squared (uncentered):</th> <td>   0.704</td>\n",
       "</tr>\n",
       "<tr>\n",
       "  <th>Method:</th>             <td>Least Squares</td>  <th>  F-statistic:       </th>          <td>   62.77</td>\n",
       "</tr>\n",
       "<tr>\n",
       "  <th>Date:</th>             <td>Tue, 22 Feb 2022</td> <th>  Prob (F-statistic):</th>          <td>1.97e-26</td>\n",
       "</tr>\n",
       "<tr>\n",
       "  <th>Time:</th>                 <td>20:10:42</td>     <th>  Log-Likelihood:    </th>          <td> -1476.9</td>\n",
       "</tr>\n",
       "<tr>\n",
       "  <th>No. Observations:</th>      <td>   104</td>      <th>  AIC:               </th>          <td>   2962.</td>\n",
       "</tr>\n",
       "<tr>\n",
       "  <th>Df Residuals:</th>          <td>   100</td>      <th>  BIC:               </th>          <td>   2972.</td>\n",
       "</tr>\n",
       "<tr>\n",
       "  <th>Df Model:</th>              <td>     4</td>      <th>                     </th>              <td> </td>   \n",
       "</tr>\n",
       "<tr>\n",
       "  <th>Covariance Type:</th>      <td>nonrobust</td>    <th>                     </th>              <td> </td>   \n",
       "</tr>\n",
       "</table>\n",
       "<table class=\"simpletable\">\n",
       "<tr>\n",
       "         <td></td>            <th>coef</th>     <th>std err</th>      <th>t</th>      <th>P>|t|</th>  <th>[0.025</th>    <th>0.975]</th>  \n",
       "</tr>\n",
       "<tr>\n",
       "  <th>SIXERS</th>          <td> 8637.8344</td> <td> 1675.131</td> <td>    5.157</td> <td> 0.000</td> <td> 5314.422</td> <td>  1.2e+04</td>\n",
       "</tr>\n",
       "<tr>\n",
       "  <th>COUNTRY_ENG</th>     <td> 7.318e+05</td> <td> 2.14e+05</td> <td>    3.417</td> <td> 0.001</td> <td> 3.07e+05</td> <td> 1.16e+06</td>\n",
       "</tr>\n",
       "<tr>\n",
       "  <th>COUNTRY_IND</th>     <td> 3.879e+05</td> <td>  6.3e+04</td> <td>    6.156</td> <td> 0.000</td> <td> 2.63e+05</td> <td> 5.13e+05</td>\n",
       "</tr>\n",
       "<tr>\n",
       "  <th>CAPTAINCY EXP_1</th> <td> 3.597e+05</td> <td> 7.49e+04</td> <td>    4.801</td> <td> 0.000</td> <td> 2.11e+05</td> <td> 5.08e+05</td>\n",
       "</tr>\n",
       "</table>\n",
       "<table class=\"simpletable\">\n",
       "<tr>\n",
       "  <th>Omnibus:</th>       <td> 1.130</td> <th>  Durbin-Watson:     </th> <td>   2.238</td>\n",
       "</tr>\n",
       "<tr>\n",
       "  <th>Prob(Omnibus):</th> <td> 0.568</td> <th>  Jarque-Bera (JB):  </th> <td>   0.874</td>\n",
       "</tr>\n",
       "<tr>\n",
       "  <th>Skew:</th>          <td> 0.223</td> <th>  Prob(JB):          </th> <td>   0.646</td>\n",
       "</tr>\n",
       "<tr>\n",
       "  <th>Kurtosis:</th>      <td> 3.046</td> <th>  Cond. No.          </th> <td>    165.</td>\n",
       "</tr>\n",
       "</table><br/><br/>Notes:<br/>[1] R² is computed without centering (uncentered) since the model does not contain a constant.<br/>[2] Standard Errors assume that the covariance matrix of the errors is correctly specified."
      ],
      "text/plain": [
       "<class 'statsmodels.iolib.summary.Summary'>\n",
       "\"\"\"\n",
       "                                 OLS Regression Results                                \n",
       "=======================================================================================\n",
       "Dep. Variable:             SOLD PRICE   R-squared (uncentered):                   0.715\n",
       "Model:                            OLS   Adj. R-squared (uncentered):              0.704\n",
       "Method:                 Least Squares   F-statistic:                              62.77\n",
       "Date:                Tue, 22 Feb 2022   Prob (F-statistic):                    1.97e-26\n",
       "Time:                        20:10:42   Log-Likelihood:                         -1476.9\n",
       "No. Observations:                 104   AIC:                                      2962.\n",
       "Df Residuals:                     100   BIC:                                      2972.\n",
       "Df Model:                           4                                                  \n",
       "Covariance Type:            nonrobust                                                  \n",
       "===================================================================================\n",
       "                      coef    std err          t      P>|t|      [0.025      0.975]\n",
       "-----------------------------------------------------------------------------------\n",
       "SIXERS           8637.8344   1675.131      5.157      0.000    5314.422     1.2e+04\n",
       "COUNTRY_ENG      7.318e+05   2.14e+05      3.417      0.001    3.07e+05    1.16e+06\n",
       "COUNTRY_IND      3.879e+05    6.3e+04      6.156      0.000    2.63e+05    5.13e+05\n",
       "CAPTAINCY EXP_1  3.597e+05   7.49e+04      4.801      0.000    2.11e+05    5.08e+05\n",
       "==============================================================================\n",
       "Omnibus:                        1.130   Durbin-Watson:                   2.238\n",
       "Prob(Omnibus):                  0.568   Jarque-Bera (JB):                0.874\n",
       "Skew:                           0.223   Prob(JB):                        0.646\n",
       "Kurtosis:                       3.046   Cond. No.                         165.\n",
       "==============================================================================\n",
       "\n",
       "Notes:\n",
       "[1] R² is computed without centering (uncentered) since the model does not contain a constant.\n",
       "[2] Standard Errors assume that the covariance matrix of the errors is correctly specified.\n",
       "\"\"\""
      ]
     },
     "execution_count": 35,
     "metadata": {},
     "output_type": "execute_result"
    }
   ],
   "source": [
    "Imodel3.summary()"
   ]
  },
  {
   "cell_type": "code",
   "execution_count": 36,
   "id": "8c882669",
   "metadata": {},
   "outputs": [
    {
     "data": {
      "text/plain": [
       "SIXERS               8637.834426\n",
       "COUNTRY_ENG        731833.638616\n",
       "COUNTRY_IND        387890.253821\n",
       "CAPTAINCY EXP_1    359725.274051\n",
       "dtype: float64"
      ]
     },
     "execution_count": 36,
     "metadata": {},
     "output_type": "execute_result"
    }
   ],
   "source": [
    "Imodel3.params"
   ]
  },
  {
   "cell_type": "code",
   "execution_count": 37,
   "id": "8bcac26c",
   "metadata": {},
   "outputs": [
    {
     "data": {
      "image/png": "[encoded data removed]",
      "text/plain": [
       "<Figure size 432x288 with 1 Axes>"
      ]
     },
     "metadata": {
      "needs_background": "light"
     },
     "output_type": "display_data"
    }
   ],
   "source": [
    "import scipy.stats as st\n",
    "probplot = st.probplot(Imodel3.resid,plot=plt)"
   ]
  },
  {
   "cell_type": "code",
   "execution_count": 38,
   "id": "c7f07e0d",
   "metadata": {},
   "outputs": [
    {
     "data": {
      "image/png": "[encoded data removed]",
      "text/plain": [
       "<Figure size 432x288 with 1 Axes>"
      ]
     },
     "metadata": {
      "needs_background": "light"
     },
     "output_type": "display_data"
    }
   ],
   "source": [
    "def getstd(vals):\n",
    "    return (vals - vals.mean())/vals.std()\n",
    "\n",
    "plt.scatter (getstd(Imodel3.fittedvalues), getstd(Imodel3.resid))\n",
    "plt.title('residual plot')\n",
    "plt.xlabel('std pred val')\n",
    "plt.ylabel('std resid val')\n",
    "plt.show()"
   ]
  },
  {
   "cell_type": "markdown",
   "id": "2135967f",
   "metadata": {},
   "source": [
    "### performance metrics"
   ]
  },
  {
   "cell_type": "code",
   "execution_count": 39,
   "id": "f3f2c2f6",
   "metadata": {},
   "outputs": [],
   "source": [
    "from sklearn import metrics"
   ]
  },
  {
   "cell_type": "code",
   "execution_count": 40,
   "id": "e960fbed",
   "metadata": {},
   "outputs": [],
   "source": [
    "pred_y = Imodel3.predict(Xtest[Xtrain.columns])\n"
   ]
  },
  {
   "cell_type": "code",
   "execution_count": 41,
   "id": "aff62ded",
   "metadata": {},
   "outputs": [
    {
     "data": {
      "text/plain": [
       "333693.4147524556"
      ]
     },
     "execution_count": 41,
     "metadata": {},
     "output_type": "execute_result"
    }
   ],
   "source": [
    "np.sqrt(metrics.mean_squared_error(pred_y,Ytest))"
   ]
  },
  {
   "cell_type": "code",
   "execution_count": 42,
   "id": "70288df8",
   "metadata": {},
   "outputs": [
    {
     "data": {
      "text/plain": [
       "0.3058"
      ]
     },
     "execution_count": 42,
     "metadata": {},
     "output_type": "execute_result"
    }
   ],
   "source": [
    "np.round(metrics.r2_score(pred_y, Ytest),4)"
   ]
  },
  {
   "cell_type": "code",
   "execution_count": null,
   "id": "7257cbfd",
   "metadata": {},
   "outputs": [],
   "source": []
  },
  {
   "cell_type": "markdown",
   "id": "ca8c198e",
   "metadata": {},
   "source": [
    "### Measuring Influential Observations"
   ]
  },
  {
   "cell_type": "markdown",
   "id": "089039d6",
   "metadata": {},
   "source": [
    "### influence > 3(K + 1)/N    {Cut off value}"
   ]
  },
  {
   "cell_type": "code",
   "execution_count": 44,
   "id": "cd800c09",
   "metadata": {},
   "outputs": [],
   "source": [
    "k = Xtrain.shape[1]\n",
    "n = Xtrain.shape[0]"
   ]
  },
  {
   "cell_type": "code",
   "execution_count": 45,
   "id": "6881c94b",
   "metadata": {},
   "outputs": [
    {
     "name": "stdout",
     "output_type": "stream",
     "text": [
      "Number of Variables 4 and number of observations 104\n"
     ]
    }
   ],
   "source": [
    "print('Number of Variables', k, 'and number of observations',n)"
   ]
  },
  {
   "cell_type": "code",
   "execution_count": 46,
   "id": "7ebcd593",
   "metadata": {},
   "outputs": [
    {
     "data": {
      "text/plain": [
       "0.14423076923076925"
      ]
     },
     "execution_count": 46,
     "metadata": {},
     "output_type": "execute_result"
    }
   ],
   "source": [
    "lev_cut = 3*((k+1)/n)\n",
    "lev_cut"
   ]
  },
  {
   "cell_type": "code",
   "execution_count": 50,
   "id": "9ad13610",
   "metadata": {},
   "outputs": [],
   "source": [
    "from statsmodels.graphics.regressionplots import influence_plot"
   ]
  },
  {
   "cell_type": "code",
   "execution_count": 97,
   "id": "677f6950",
   "metadata": {},
   "outputs": [
    {
     "data": {
      "image/png": "[encoded data removed]",
      "text/plain": [
       "<Figure size 432x288 with 1 Axes>"
      ]
     },
     "execution_count": 97,
     "metadata": {},
     "output_type": "execute_result"
    },
    {
     "data": {
      "image/png": "[encoded data removed]",
      "text/plain": [
       "<Figure size 432x288 with 1 Axes>"
      ]
     },
     "metadata": {
      "needs_background": "light"
     },
     "output_type": "display_data"
    }
   ],
   "source": [
    "influence_plot(Imodel3)"
   ]
  },
  {
   "cell_type": "code",
   "execution_count": 98,
   "id": "bbfba522",
   "metadata": {},
   "outputs": [
    {
     "data": {
      "text/html": [
       "<div>\n",
       "<style scoped>\n",
       "    .dataframe tbody tr th:only-of-type {\n",
       "        vertical-align: middle;\n",
       "    }\n",
       "\n",
       "    .dataframe tbody tr th {\n",
       "        vertical-align: top;\n",
       "    }\n",
       "\n",
       "    .dataframe thead th {\n",
       "        text-align: right;\n",
       "    }\n",
       "</style>\n",
       "<table border=\"1\" class=\"dataframe\">\n",
       "  <thead>\n",
       "    <tr style=\"text-align: right;\">\n",
       "      <th></th>\n",
       "      <th>AGE</th>\n",
       "      <th>COUNTRY</th>\n",
       "      <th>PLAYING ROLE</th>\n",
       "      <th>T-RUNS</th>\n",
       "      <th>T-WKTS</th>\n",
       "      <th>ODI-RUNS-S</th>\n",
       "      <th>ODI-SR-B</th>\n",
       "      <th>ODI-WKTS</th>\n",
       "      <th>ODI-SR-BL</th>\n",
       "      <th>CAPTAINCY EXP</th>\n",
       "      <th>...</th>\n",
       "      <th>SR -B</th>\n",
       "      <th>SIXERS</th>\n",
       "      <th>RUNS-C</th>\n",
       "      <th>WKTS</th>\n",
       "      <th>AVE-BL</th>\n",
       "      <th>ECON</th>\n",
       "      <th>SR-BL</th>\n",
       "      <th>AUCTION YEAR</th>\n",
       "      <th>BASE PRICE</th>\n",
       "      <th>SOLD PRICE</th>\n",
       "    </tr>\n",
       "  </thead>\n",
       "  <tbody>\n",
       "    <tr>\n",
       "      <th>23</th>\n",
       "      <td>2</td>\n",
       "      <td>ENG</td>\n",
       "      <td>Allrounder</td>\n",
       "      <td>3845</td>\n",
       "      <td>226</td>\n",
       "      <td>3394</td>\n",
       "      <td>88.82</td>\n",
       "      <td>169</td>\n",
       "      <td>33.2</td>\n",
       "      <td>1</td>\n",
       "      <td>...</td>\n",
       "      <td>116.980000</td>\n",
       "      <td>2</td>\n",
       "      <td>105</td>\n",
       "      <td>2</td>\n",
       "      <td>52.500000</td>\n",
       "      <td>9.545455</td>\n",
       "      <td>33.000000</td>\n",
       "      <td>2009</td>\n",
       "      <td>950000</td>\n",
       "      <td>1550000</td>\n",
       "    </tr>\n",
       "    <tr>\n",
       "      <th>58</th>\n",
       "      <td>2</td>\n",
       "      <td>ENG</td>\n",
       "      <td>Allrounder</td>\n",
       "      <td>0</td>\n",
       "      <td>0</td>\n",
       "      <td>245</td>\n",
       "      <td>95.33</td>\n",
       "      <td>13</td>\n",
       "      <td>63.2</td>\n",
       "      <td>0</td>\n",
       "      <td>...</td>\n",
       "      <td>101.369863</td>\n",
       "      <td>1</td>\n",
       "      <td>331</td>\n",
       "      <td>19</td>\n",
       "      <td>17.421053</td>\n",
       "      <td>7.012712</td>\n",
       "      <td>14.947368</td>\n",
       "      <td>2011</td>\n",
       "      <td>100000</td>\n",
       "      <td>100000</td>\n",
       "    </tr>\n",
       "    <tr>\n",
       "      <th>88</th>\n",
       "      <td>1</td>\n",
       "      <td>IND</td>\n",
       "      <td>Batsman</td>\n",
       "      <td>710</td>\n",
       "      <td>13</td>\n",
       "      <td>3525</td>\n",
       "      <td>92.71</td>\n",
       "      <td>16</td>\n",
       "      <td>61.9</td>\n",
       "      <td>0</td>\n",
       "      <td>...</td>\n",
       "      <td>139.393939</td>\n",
       "      <td>97</td>\n",
       "      <td>678</td>\n",
       "      <td>20</td>\n",
       "      <td>33.900000</td>\n",
       "      <td>7.047817</td>\n",
       "      <td>28.900000</td>\n",
       "      <td>2008</td>\n",
       "      <td>125000</td>\n",
       "      <td>650000</td>\n",
       "    </tr>\n",
       "  </tbody>\n",
       "</table>\n",
       "<p>3 rows × 23 columns</p>\n",
       "</div>"
      ],
      "text/plain": [
       "    AGE COUNTRY PLAYING ROLE  T-RUNS  T-WKTS  ODI-RUNS-S  ODI-SR-B  ODI-WKTS  \\\n",
       "23    2     ENG   Allrounder    3845     226        3394     88.82       169   \n",
       "58    2     ENG   Allrounder       0       0         245     95.33        13   \n",
       "88    1     IND      Batsman     710      13        3525     92.71        16   \n",
       "\n",
       "    ODI-SR-BL  CAPTAINCY EXP  ...       SR -B  SIXERS  RUNS-C  WKTS  \\\n",
       "23       33.2              1  ...  116.980000       2     105     2   \n",
       "58       63.2              0  ...  101.369863       1     331    19   \n",
       "88       61.9              0  ...  139.393939      97     678    20   \n",
       "\n",
       "       AVE-BL      ECON      SR-BL  AUCTION YEAR  BASE PRICE  SOLD PRICE  \n",
       "23  52.500000  9.545455  33.000000          2009      950000     1550000  \n",
       "58  17.421053  7.012712  14.947368          2011      100000      100000  \n",
       "88  33.900000  7.047817  28.900000          2008      125000      650000  \n",
       "\n",
       "[3 rows x 23 columns]"
      ]
     },
     "execution_count": 98,
     "metadata": {},
     "output_type": "execute_result"
    }
   ],
   "source": [
    "I.iloc[I.index.isin([23,58,88])]"
   ]
  },
  {
   "cell_type": "code",
   "execution_count": 99,
   "id": "6f6a96d6",
   "metadata": {},
   "outputs": [],
   "source": [
    "Xtrainnew = Xtrain.drop([23,58,88], axis = 0)\n",
    "Ytrainnew = Ytrain.drop([23,58,88], axis = 0)"
   ]
  },
  {
   "cell_type": "code",
   "execution_count": 100,
   "id": "b36add4a",
   "metadata": {},
   "outputs": [
    {
     "data": {
      "text/html": [
       "<table class=\"simpletable\">\n",
       "<tr>\n",
       "          <td>Model:</td>                 <td>OLS</td>       <td>Adj. R-squared (uncentered):</td>    <td>0.710</td>  \n",
       "</tr>\n",
       "<tr>\n",
       "    <td>Dependent Variable:</td>      <td>SOLD PRICE</td>                <td>AIC:</td>              <td>2870.9052</td>\n",
       "</tr>\n",
       "<tr>\n",
       "           <td>Date:</td>          <td>2022-02-22 21:50</td>             <td>BIC:</td>              <td>2881.3656</td>\n",
       "</tr>\n",
       "<tr>\n",
       "     <td>No. Observations:</td>           <td>101</td>              <td>Log-Likelihood:</td>         <td>-1431.5</td> \n",
       "</tr>\n",
       "<tr>\n",
       "         <td>Df Model:</td>                <td>4</td>                <td>F-statistic:</td>            <td>62.82</td>  \n",
       "</tr>\n",
       "<tr>\n",
       "       <td>Df Residuals:</td>             <td>97</td>             <td>Prob (F-statistic):</td>      <td>4.28e-26</td> \n",
       "</tr>\n",
       "<tr>\n",
       "  <td>R-squared (uncentered):</td>       <td>0.721</td>                 <td>Scale:</td>            <td>1.2457e+11</td>\n",
       "</tr>\n",
       "</table>\n",
       "<table class=\"simpletable\">\n",
       "<tr>\n",
       "         <td></td>            <th>Coef.</th>     <th>Std.Err.</th>      <th>t</th>    <th>P>|t|</th>   <th>[0.025</th>       <th>0.975]</th>   \n",
       "</tr>\n",
       "<tr>\n",
       "  <th>SIXERS</th>          <td>10029.1011</td>   <td>1770.0111</td>  <td>5.6661</td> <td>0.0000</td>  <td>6516.1191</td>   <td>13542.0831</td> \n",
       "</tr>\n",
       "<tr>\n",
       "  <th>COUNTRY_ENG</th>     <td>945392.2638</td> <td>359288.4466</td> <td>2.6313</td> <td>0.0099</td> <td>232304.1533</td> <td>1658480.3743</td>\n",
       "</tr>\n",
       "<tr>\n",
       "  <th>COUNTRY_IND</th>     <td>387924.6265</td> <td>61366.7462</td>  <td>6.3214</td> <td>0.0000</td> <td>266128.6225</td>  <td>509720.6304</td>\n",
       "</tr>\n",
       "<tr>\n",
       "  <th>CAPTAINCY EXP_1</th> <td>303734.7027</td> <td>75592.1328</td>  <td>4.0181</td> <td>0.0001</td> <td>153705.2441</td>  <td>453764.1614</td>\n",
       "</tr>\n",
       "</table>\n",
       "<table class=\"simpletable\">\n",
       "<tr>\n",
       "     <td>Omnibus:</td>    <td>1.737</td>  <td>Durbin-Watson:</td>   <td>2.206</td>\n",
       "</tr>\n",
       "<tr>\n",
       "  <td>Prob(Omnibus):</td> <td>0.420</td> <td>Jarque-Bera (JB):</td> <td>1.247</td>\n",
       "</tr>\n",
       "<tr>\n",
       "       <td>Skew:</td>     <td>0.250</td>     <td>Prob(JB):</td>     <td>0.536</td>\n",
       "</tr>\n",
       "<tr>\n",
       "     <td>Kurtosis:</td>   <td>3.216</td>  <td>Condition No.:</td>    <td>266</td> \n",
       "</tr>\n",
       "</table>"
      ],
      "text/plain": [
       "<class 'statsmodels.iolib.summary2.Summary'>\n",
       "\"\"\"\n",
       "                        Results: Ordinary least squares\n",
       "================================================================================\n",
       "Model:                  OLS              Adj. R-squared (uncentered): 0.710     \n",
       "Dependent Variable:     SOLD PRICE       AIC:                         2870.9052 \n",
       "Date:                   2022-02-22 21:50 BIC:                         2881.3656 \n",
       "No. Observations:       101              Log-Likelihood:              -1431.5   \n",
       "Df Model:               4                F-statistic:                 62.82     \n",
       "Df Residuals:           97               Prob (F-statistic):          4.28e-26  \n",
       "R-squared (uncentered): 0.721            Scale:                       1.2457e+11\n",
       "--------------------------------------------------------------------------------\n",
       "                     Coef.      Std.Err.    t    P>|t|     [0.025      0.975]   \n",
       "--------------------------------------------------------------------------------\n",
       "SIXERS             10029.1011   1770.0111 5.6661 0.0000   6516.1191   13542.0831\n",
       "COUNTRY_ENG       945392.2638 359288.4466 2.6313 0.0099 232304.1533 1658480.3743\n",
       "COUNTRY_IND       387924.6265  61366.7462 6.3214 0.0000 266128.6225  509720.6304\n",
       "CAPTAINCY EXP_1   303734.7027  75592.1328 4.0181 0.0001 153705.2441  453764.1614\n",
       "--------------------------------------------------------------------------------\n",
       "Omnibus:                   1.737             Durbin-Watson:                2.206\n",
       "Prob(Omnibus):             0.420             Jarque-Bera (JB):             1.247\n",
       "Skew:                      0.250             Prob(JB):                     0.536\n",
       "Kurtosis:                  3.216             Condition No.:                266  \n",
       "================================================================================\n",
       "\n",
       "\"\"\""
      ]
     },
     "execution_count": 100,
     "metadata": {},
     "output_type": "execute_result"
    }
   ],
   "source": [
    "Imodel4 = sm.OLS(Ytrainnew, Xtrainnew).fit()\n",
    "Imodel4.summary2()"
   ]
  },
  {
   "cell_type": "code",
   "execution_count": 101,
   "id": "155f1a51",
   "metadata": {},
   "outputs": [
    {
     "data": {
      "image/png": "[encoded data removed]",
      "text/plain": [
       "<Figure size 432x288 with 1 Axes>"
      ]
     },
     "metadata": {
      "needs_background": "light"
     },
     "output_type": "display_data"
    }
   ],
   "source": [
    "probplot = st.probplot(Imodel4.resid, plot=plt)"
   ]
  },
  {
   "cell_type": "code",
   "execution_count": null,
   "id": "ca729f03",
   "metadata": {},
   "outputs": [],
   "source": []
  },
  {
   "cell_type": "code",
   "execution_count": null,
   "id": "dd4f5ab4",
   "metadata": {},
   "outputs": [],
   "source": []
  },
  {
   "cell_type": "code",
   "execution_count": 102,
   "id": "3bdc814d",
   "metadata": {},
   "outputs": [],
   "source": [
    "predY= Imodel4.predict(Xtest[Xtrainnew.columns])"
   ]
  },
  {
   "cell_type": "code",
   "execution_count": 103,
   "id": "38fe0333",
   "metadata": {},
   "outputs": [
    {
     "data": {
      "text/plain": [
       "344680.47272913647"
      ]
     },
     "execution_count": 103,
     "metadata": {},
     "output_type": "execute_result"
    }
   ],
   "source": [
    "np.sqrt(metrics.mean_squared_error(predY, Ytest))"
   ]
  },
  {
   "cell_type": "code",
   "execution_count": 104,
   "id": "66b3facb",
   "metadata": {},
   "outputs": [
    {
     "data": {
      "text/plain": [
       "0.3422"
      ]
     },
     "execution_count": 104,
     "metadata": {},
     "output_type": "execute_result"
    }
   ],
   "source": [
    "np.round(metrics.r2_score(predY, Ytest),4)"
   ]
  },
  {
   "cell_type": "code",
   "execution_count": null,
   "id": "a83f7e75",
   "metadata": {},
   "outputs": [],
   "source": []
  },
  {
   "cell_type": "markdown",
   "id": "b066ccd9",
   "metadata": {},
   "source": [
    "### Outlier Analysis"
   ]
  },
  {
   "cell_type": "markdown",
   "id": "59fcf7e9",
   "metadata": {},
   "source": [
    "### Cook's Distance"
   ]
  },
  {
   "cell_type": "code",
   "execution_count": 105,
   "id": "90d7927d",
   "metadata": {},
   "outputs": [],
   "source": [
    "influence = Imodel4.get_influence()"
   ]
  },
  {
   "cell_type": "code",
   "execution_count": 106,
   "id": "2b465995",
   "metadata": {},
   "outputs": [
    {
     "name": "stdout",
     "output_type": "stream",
     "text": [
      "(array([0.00000000e+00, 5.53553302e-03, 1.34112177e-03, 0.00000000e+00,\n",
      "       3.36060210e-04, 2.09002666e-03, 3.95909795e-03, 8.25140380e-03,\n",
      "       5.67796179e-03, 5.74317218e-02, 1.73222649e-05, 4.19770268e-03,\n",
      "       4.93303252e-04, 2.45834010e-05, 4.48311126e-03, 1.19877535e-03,\n",
      "       2.06201016e-03, 4.26299583e-04, 0.00000000e+00, 6.92675931e-04,\n",
      "       1.97137289e-05, 2.06734125e-05, 0.00000000e+00, 5.17908478e-02,\n",
      "       1.31208109e-05, 8.21799149e-02, 0.00000000e+00, 1.70627955e-04,\n",
      "       8.52675852e-07, 6.51054036e-03, 4.17954426e-05, 0.00000000e+00,\n",
      "       3.52655406e-03, 4.64862798e-05, 8.56100643e-04, 6.45367516e-03,\n",
      "       7.20387135e-03, 8.06453904e-08, 3.62328311e-05, 2.40299721e-05,\n",
      "       2.94083849e-03, 8.10341472e-04, 4.08597625e-07, 6.44438317e-03,\n",
      "       3.56619426e-02, 1.79317482e-02, 8.50541957e-03, 1.37744200e-02,\n",
      "       1.07766475e-05, 6.93462621e-03, 1.28717237e-02, 1.43348099e-02,\n",
      "       6.55941659e-04, 5.64896330e+00, 2.53102307e-04, 1.41165522e-03,\n",
      "       2.11510793e-02, 4.21389404e-02, 2.93707673e-04, 8.54418348e-03,\n",
      "       8.15287249e-02, 1.28566569e-06, 3.11476532e-02, 8.22668751e-04,\n",
      "       6.51379513e-04, 1.19487386e-03, 7.24925688e-03, 1.08358573e-02,\n",
      "       4.60771660e-05, 8.04185876e-02, 7.76133844e-05, 5.05274972e-02,\n",
      "       4.74354092e-04, 1.02910582e-02, 5.03934901e-03, 6.12112337e-03,\n",
      "       3.23053955e-03, 2.70226947e-03, 1.27305479e-03, 9.54381227e-06,\n",
      "       5.81826757e-03, 0.00000000e+00, 6.58927510e-03, 0.00000000e+00,\n",
      "       4.50370011e-04, 1.72032651e-03, 3.89533068e-03, 3.27313803e-03,\n",
      "       2.96214328e-06, 0.00000000e+00, 7.33217866e-04, 1.97398339e-01,\n",
      "       7.91895143e-05, 0.00000000e+00, 0.00000000e+00, 8.46049019e-04,\n",
      "       2.70451693e-03, 5.00763399e-06, 1.64697341e-02, 2.33265797e-06,\n",
      "       5.92578215e-04]), array([1.00000000e+00, 9.99937931e-01, 9.99996335e-01, 1.00000000e+00,\n",
      "       9.99999770e-01, 9.99991109e-01, 9.99968180e-01, 9.99862603e-01,\n",
      "       9.99934708e-01, 9.93780248e-01, 9.99999999e-01, 9.99964241e-01,\n",
      "       9.99999504e-01, 9.99999999e-01, 9.99959229e-01, 9.99997071e-01,\n",
      "       9.99991346e-01, 9.99999629e-01, 1.00000000e+00, 9.99999022e-01,\n",
      "       9.99999999e-01, 9.99999999e-01, 1.00000000e+00, 9.94902721e-01,\n",
      "       1.00000000e+00, 9.87689014e-01, 1.00000000e+00, 9.99999941e-01,\n",
      "       1.00000000e+00, 9.99914256e-01, 9.99999996e-01, 1.00000000e+00,\n",
      "       9.99974738e-01, 9.99999996e-01, 9.99998506e-01, 9.99915740e-01,\n",
      "       9.99895122e-01, 1.00000000e+00, 9.99999997e-01, 9.99999999e-01,\n",
      "       9.99982418e-01, 9.99998661e-01, 1.00000000e+00, 9.99915982e-01,\n",
      "       9.97528959e-01, 9.99359754e-01, 9.99854064e-01, 9.99620032e-01,\n",
      "       1.00000000e+00, 9.99902779e-01, 9.99667787e-01, 9.99588806e-01,\n",
      "       9.99999123e-01, 3.94670063e-04, 9.99999869e-01, 9.99995940e-01,\n",
      "       9.99113184e-01, 9.96580496e-01, 9.99999824e-01, 9.99852739e-01,\n",
      "       9.87872570e-01, 1.00000000e+00, 9.98103190e-01, 9.99998620e-01,\n",
      "       9.99999135e-01, 9.99997091e-01, 9.99893803e-01, 9.99763901e-01,\n",
      "       9.99999996e-01, 9.88182691e-01, 9.99999988e-01, 9.95139939e-01,\n",
      "       9.99999541e-01, 9.99786884e-01, 9.99948524e-01, 9.99924165e-01,\n",
      "       9.99978792e-01, 9.99985150e-01, 9.99996698e-01, 1.00000000e+00,\n",
      "       9.99931455e-01, 1.00000000e+00, 9.99912179e-01, 1.00000000e+00,\n",
      "       9.99999586e-01, 9.99993973e-01, 9.99969194e-01, 9.99978230e-01,\n",
      "       1.00000000e+00, 1.00000000e+00, 9.99998904e-01, 9.39189588e-01,\n",
      "       9.99999987e-01, 1.00000000e+00, 1.00000000e+00, 9.99998541e-01,\n",
      "       9.99985125e-01, 1.00000000e+00, 9.99458806e-01, 1.00000000e+00,\n",
      "       9.99999284e-01]))\n"
     ]
    }
   ],
   "source": [
    "cooks = influence.cooks_distance\n",
    "print(cooks)"
   ]
  },
  {
   "cell_type": "code",
   "execution_count": 107,
   "id": "c4fb5d6f",
   "metadata": {},
   "outputs": [
    {
     "data": {
      "image/png": "[encoded data removed]",
      "text/plain": [
       "<Figure size 432x288 with 1 Axes>"
      ]
     },
     "metadata": {
      "needs_background": "light"
     },
     "output_type": "display_data"
    },
    {
     "name": "stdout",
     "output_type": "stream",
     "text": [
      "0.041666666666666664\n"
     ]
    }
   ],
   "source": [
    "plt.scatter(x=range(0, len(cooks[0])), y=cooks[0])\n",
    "plt.xlabel('x')\n",
    "plt.ylabel('Cooks Distance')\n",
    "plt.show()\n",
    "\n",
    "Tcook = 4/(len(cooks[0])-4-1)     # 4/(n-p-1) MLR formula for Cooks Distance\n",
    "print(Tcook)"
   ]
  },
  {
   "cell_type": "code",
   "execution_count": 108,
   "id": "4e1f7b70",
   "metadata": {},
   "outputs": [
    {
     "data": {
      "text/plain": [
       "array([0.05743172, 0.05179085, 0.08217991, 5.6489633 , 0.04213894,\n",
       "       0.08152872, 0.08041859, 0.0505275 , 0.19739834])"
      ]
     },
     "execution_count": 108,
     "metadata": {},
     "output_type": "execute_result"
    }
   ],
   "source": [
    "highcooks = cooks[0][cooks[0] > Tcook]\n",
    "highcooks"
   ]
  },
  {
   "cell_type": "code",
   "execution_count": 109,
   "id": "9042b4da",
   "metadata": {},
   "outputs": [
    {
     "data": {
      "text/plain": [
       "[(array([9], dtype=int64),),\n",
       " (array([23], dtype=int64),),\n",
       " (array([25], dtype=int64),),\n",
       " (array([53], dtype=int64),),\n",
       " (array([57], dtype=int64),),\n",
       " (array([60], dtype=int64),),\n",
       " (array([69], dtype=int64),),\n",
       " (array([71], dtype=int64),),\n",
       " (array([91], dtype=int64),)]"
      ]
     },
     "execution_count": 109,
     "metadata": {},
     "output_type": "execute_result"
    }
   ],
   "source": [
    "pos= []\n",
    "\n",
    "for i in highcooks:\n",
    "    pos.append(np.where(cooks[0]==i))\n",
    "pos"
   ]
  },
  {
   "cell_type": "code",
   "execution_count": 110,
   "id": "b5b308bb",
   "metadata": {},
   "outputs": [
    {
     "data": {
      "text/html": [
       "<div>\n",
       "<style scoped>\n",
       "    .dataframe tbody tr th:only-of-type {\n",
       "        vertical-align: middle;\n",
       "    }\n",
       "\n",
       "    .dataframe tbody tr th {\n",
       "        vertical-align: top;\n",
       "    }\n",
       "\n",
       "    .dataframe thead th {\n",
       "        text-align: right;\n",
       "    }\n",
       "</style>\n",
       "<table border=\"1\" class=\"dataframe\">\n",
       "  <thead>\n",
       "    <tr style=\"text-align: right;\">\n",
       "      <th></th>\n",
       "      <th>SIXERS</th>\n",
       "      <th>COUNTRY_ENG</th>\n",
       "      <th>COUNTRY_IND</th>\n",
       "      <th>CAPTAINCY EXP_1</th>\n",
       "    </tr>\n",
       "  </thead>\n",
       "  <tbody>\n",
       "    <tr>\n",
       "      <th>53</th>\n",
       "      <td>1</td>\n",
       "      <td>0</td>\n",
       "      <td>0</td>\n",
       "      <td>0</td>\n",
       "    </tr>\n",
       "    <tr>\n",
       "      <th>91</th>\n",
       "      <td>27</td>\n",
       "      <td>0</td>\n",
       "      <td>0</td>\n",
       "      <td>1</td>\n",
       "    </tr>\n",
       "  </tbody>\n",
       "</table>\n",
       "</div>"
      ],
      "text/plain": [
       "    SIXERS  COUNTRY_ENG  COUNTRY_IND  CAPTAINCY EXP_1\n",
       "53       1            0            0                0\n",
       "91      27            0            0                1"
      ]
     },
     "execution_count": 110,
     "metadata": {},
     "output_type": "execute_result"
    }
   ],
   "source": [
    "Xtrainnew[Xtrainnew.index.isin([53,91])]"
   ]
  },
  {
   "cell_type": "code",
   "execution_count": 111,
   "id": "345e5c32",
   "metadata": {},
   "outputs": [],
   "source": [
    "Xtrainnewcook = Xtrainnew.drop([53,91], axis = 0)\n",
    "Ytrainnewcook = Ytrainnew.drop([53,91], axis = 0)"
   ]
  },
  {
   "cell_type": "code",
   "execution_count": 112,
   "id": "14e853f1",
   "metadata": {},
   "outputs": [
    {
     "data": {
      "text/html": [
       "<table class=\"simpletable\">\n",
       "<tr>\n",
       "          <td>Model:</td>                 <td>OLS</td>       <td>Adj. R-squared (uncentered):</td>    <td>0.707</td>  \n",
       "</tr>\n",
       "<tr>\n",
       "    <td>Dependent Variable:</td>      <td>SOLD PRICE</td>                <td>AIC:</td>              <td>2815.9215</td>\n",
       "</tr>\n",
       "<tr>\n",
       "           <td>Date:</td>          <td>2022-02-22 21:50</td>             <td>BIC:</td>              <td>2826.3020</td>\n",
       "</tr>\n",
       "<tr>\n",
       "     <td>No. Observations:</td>           <td>99</td>               <td>Log-Likelihood:</td>         <td>-1404.0</td> \n",
       "</tr>\n",
       "<tr>\n",
       "         <td>Df Model:</td>                <td>4</td>                <td>F-statistic:</td>            <td>60.75</td>  \n",
       "</tr>\n",
       "<tr>\n",
       "       <td>Df Residuals:</td>             <td>95</td>             <td>Prob (F-statistic):</td>      <td>2.31e-25</td> \n",
       "</tr>\n",
       "<tr>\n",
       "  <td>R-squared (uncentered):</td>       <td>0.719</td>                 <td>Scale:</td>            <td>1.2684e+11</td>\n",
       "</tr>\n",
       "</table>\n",
       "<table class=\"simpletable\">\n",
       "<tr>\n",
       "         <td></td>            <th>Coef.</th>     <th>Std.Err.</th>      <th>t</th>    <th>P>|t|</th>   <th>[0.025</th>       <th>0.975]</th>   \n",
       "</tr>\n",
       "<tr>\n",
       "  <th>SIXERS</th>          <td>10007.3766</td>   <td>1786.8488</td>  <td>5.6006</td> <td>0.0000</td>  <td>6460.0332</td>   <td>13554.7201</td> \n",
       "</tr>\n",
       "<tr>\n",
       "  <th>COUNTRY_ENG</th>     <td>950054.3668</td> <td>362781.4026</td> <td>2.6188</td> <td>0.0103</td> <td>229842.2234</td> <td>1670266.5103</td>\n",
       "</tr>\n",
       "<tr>\n",
       "  <th>COUNTRY_IND</th>     <td>389184.8594</td> <td>62016.7094</td>  <td>6.2755</td> <td>0.0000</td> <td>266066.1249</td>  <td>512303.5940</td>\n",
       "</tr>\n",
       "<tr>\n",
       "  <th>CAPTAINCY EXP_1</th> <td>299724.3339</td> <td>77122.1292</td>  <td>3.8864</td> <td>0.0002</td> <td>146617.5494</td>  <td>452831.1183</td>\n",
       "</tr>\n",
       "</table>\n",
       "<table class=\"simpletable\">\n",
       "<tr>\n",
       "     <td>Omnibus:</td>    <td>1.635</td>  <td>Durbin-Watson:</td>   <td>2.203</td>\n",
       "</tr>\n",
       "<tr>\n",
       "  <td>Prob(Omnibus):</td> <td>0.442</td> <td>Jarque-Bera (JB):</td> <td>1.201</td>\n",
       "</tr>\n",
       "<tr>\n",
       "       <td>Skew:</td>     <td>0.258</td>     <td>Prob(JB):</td>     <td>0.549</td>\n",
       "</tr>\n",
       "<tr>\n",
       "     <td>Kurtosis:</td>   <td>3.159</td>  <td>Condition No.:</td>    <td>265</td> \n",
       "</tr>\n",
       "</table>"
      ],
      "text/plain": [
       "<class 'statsmodels.iolib.summary2.Summary'>\n",
       "\"\"\"\n",
       "                        Results: Ordinary least squares\n",
       "================================================================================\n",
       "Model:                  OLS              Adj. R-squared (uncentered): 0.707     \n",
       "Dependent Variable:     SOLD PRICE       AIC:                         2815.9215 \n",
       "Date:                   2022-02-22 21:50 BIC:                         2826.3020 \n",
       "No. Observations:       99               Log-Likelihood:              -1404.0   \n",
       "Df Model:               4                F-statistic:                 60.75     \n",
       "Df Residuals:           95               Prob (F-statistic):          2.31e-25  \n",
       "R-squared (uncentered): 0.719            Scale:                       1.2684e+11\n",
       "--------------------------------------------------------------------------------\n",
       "                     Coef.      Std.Err.    t    P>|t|     [0.025      0.975]   \n",
       "--------------------------------------------------------------------------------\n",
       "SIXERS             10007.3766   1786.8488 5.6006 0.0000   6460.0332   13554.7201\n",
       "COUNTRY_ENG       950054.3668 362781.4026 2.6188 0.0103 229842.2234 1670266.5103\n",
       "COUNTRY_IND       389184.8594  62016.7094 6.2755 0.0000 266066.1249  512303.5940\n",
       "CAPTAINCY EXP_1   299724.3339  77122.1292 3.8864 0.0002 146617.5494  452831.1183\n",
       "--------------------------------------------------------------------------------\n",
       "Omnibus:                   1.635             Durbin-Watson:                2.203\n",
       "Prob(Omnibus):             0.442             Jarque-Bera (JB):             1.201\n",
       "Skew:                      0.258             Prob(JB):                     0.549\n",
       "Kurtosis:                  3.159             Condition No.:                265  \n",
       "================================================================================\n",
       "\n",
       "\"\"\""
      ]
     },
     "execution_count": 112,
     "metadata": {},
     "output_type": "execute_result"
    }
   ],
   "source": [
    "Imodel5 = sm.OLS(Ytrainnewcook, Xtrainnewcook).fit()\n",
    "Imodel5.summary2()"
   ]
  },
  {
   "cell_type": "code",
   "execution_count": null,
   "id": "f8dd3092",
   "metadata": {},
   "outputs": [],
   "source": []
  },
  {
   "cell_type": "markdown",
   "id": "90e5c148",
   "metadata": {},
   "source": [
    "### Performance Metrics"
   ]
  },
  {
   "cell_type": "code",
   "execution_count": 114,
   "id": "34665405",
   "metadata": {},
   "outputs": [],
   "source": [
    "predY = Imodel5.predict(Xtest[Xtrainnew.columns])"
   ]
  },
  {
   "cell_type": "code",
   "execution_count": 115,
   "id": "f20bb01a",
   "metadata": {},
   "outputs": [
    {
     "data": {
      "text/plain": [
       "344119.90223311645"
      ]
     },
     "execution_count": 115,
     "metadata": {},
     "output_type": "execute_result"
    }
   ],
   "source": [
    "np.sqrt(metrics.mean_squared_error(predY, Ytest))"
   ]
  },
  {
   "cell_type": "code",
   "execution_count": 116,
   "id": "44e733b6",
   "metadata": {},
   "outputs": [
    {
     "data": {
      "text/plain": [
       "0.3408"
      ]
     },
     "execution_count": 116,
     "metadata": {},
     "output_type": "execute_result"
    }
   ],
   "source": [
    "np.round(metrics.r2_score(predY, Ytest),4)"
   ]
  },
  {
   "cell_type": "code",
   "execution_count": null,
   "id": "1e326f32",
   "metadata": {},
   "outputs": [],
   "source": []
  },
  {
   "cell_type": "markdown",
   "id": "6c643440",
   "metadata": {},
   "source": [
    "### transforming responce variable"
   ]
  },
  {
   "cell_type": "code",
   "execution_count": 117,
   "id": "e683667b",
   "metadata": {},
   "outputs": [],
   "source": [
    "Ytrainnewcook = np.sqrt(Ytrainnewcook)"
   ]
  },
  {
   "cell_type": "code",
   "execution_count": 118,
   "id": "62b7f1c2",
   "metadata": {},
   "outputs": [
    {
     "data": {
      "text/html": [
       "<table class=\"simpletable\">\n",
       "<tr>\n",
       "          <td>Model:</td>                 <td>OLS</td>       <td>Adj. R-squared (uncentered):</td>    <td>0.737</td>  \n",
       "</tr>\n",
       "<tr>\n",
       "    <td>Dependent Variable:</td>      <td>SOLD PRICE</td>                <td>AIC:</td>              <td>1455.0996</td>\n",
       "</tr>\n",
       "<tr>\n",
       "           <td>Date:</td>          <td>2022-02-22 21:54</td>             <td>BIC:</td>              <td>1465.4800</td>\n",
       "</tr>\n",
       "<tr>\n",
       "     <td>No. Observations:</td>           <td>99</td>               <td>Log-Likelihood:</td>         <td>-723.55</td> \n",
       "</tr>\n",
       "<tr>\n",
       "         <td>Df Model:</td>                <td>4</td>                <td>F-statistic:</td>            <td>70.39</td>  \n",
       "</tr>\n",
       "<tr>\n",
       "       <td>Df Residuals:</td>             <td>95</td>             <td>Prob (F-statistic):</td>      <td>1.42e-27</td> \n",
       "</tr>\n",
       "<tr>\n",
       "  <td>R-squared (uncentered):</td>       <td>0.748</td>                 <td>Scale:</td>            <td>1.3602e+05</td>\n",
       "</tr>\n",
       "</table>\n",
       "<table class=\"simpletable\">\n",
       "<tr>\n",
       "         <td></td>           <th>Coef.</th>  <th>Std.Err.</th>    <th>t</th>    <th>P>|t|</th>  <th>[0.025</th>    <th>0.975]</th>  \n",
       "</tr>\n",
       "<tr>\n",
       "  <th>SIXERS</th>           <td>9.6919</td>   <td>1.8503</td>  <td>5.2379</td> <td>0.0000</td>  <td>6.0185</td>    <td>13.3653</td> \n",
       "</tr>\n",
       "<tr>\n",
       "  <th>COUNTRY_ENG</th>     <td>580.6998</td> <td>375.6725</td> <td>1.5458</td> <td>0.1255</td> <td>-165.1044</td> <td>1326.5039</td>\n",
       "</tr>\n",
       "<tr>\n",
       "  <th>COUNTRY_IND</th>     <td>491.0117</td>  <td>64.2204</td> <td>7.6457</td> <td>0.0000</td> <td>363.5181</td>  <td>618.5053</td> \n",
       "</tr>\n",
       "<tr>\n",
       "  <th>CAPTAINCY EXP_1</th> <td>373.5330</td>  <td>79.8626</td> <td>4.6772</td> <td>0.0000</td> <td>214.9857</td>  <td>532.0802</td> \n",
       "</tr>\n",
       "</table>\n",
       "<table class=\"simpletable\">\n",
       "<tr>\n",
       "     <td>Omnibus:</td>     <td>0.013</td>  <td>Durbin-Watson:</td>   <td>1.898</td>\n",
       "</tr>\n",
       "<tr>\n",
       "  <td>Prob(Omnibus):</td>  <td>0.994</td> <td>Jarque-Bera (JB):</td> <td>0.047</td>\n",
       "</tr>\n",
       "<tr>\n",
       "       <td>Skew:</td>     <td>-0.016</td>     <td>Prob(JB):</td>     <td>0.977</td>\n",
       "</tr>\n",
       "<tr>\n",
       "     <td>Kurtosis:</td>    <td>2.899</td>  <td>Condition No.:</td>    <td>265</td> \n",
       "</tr>\n",
       "</table>"
      ],
      "text/plain": [
       "<class 'statsmodels.iolib.summary2.Summary'>\n",
       "\"\"\"\n",
       "                        Results: Ordinary least squares\n",
       "================================================================================\n",
       "Model:                  OLS              Adj. R-squared (uncentered): 0.737     \n",
       "Dependent Variable:     SOLD PRICE       AIC:                         1455.0996 \n",
       "Date:                   2022-02-22 21:54 BIC:                         1465.4800 \n",
       "No. Observations:       99               Log-Likelihood:              -723.55   \n",
       "Df Model:               4                F-statistic:                 70.39     \n",
       "Df Residuals:           95               Prob (F-statistic):          1.42e-27  \n",
       "R-squared (uncentered): 0.748            Scale:                       1.3602e+05\n",
       "----------------------------------------------------------------------------------\n",
       "                      Coef.     Std.Err.     t      P>|t|      [0.025      0.975] \n",
       "----------------------------------------------------------------------------------\n",
       "SIXERS                 9.6919     1.8503   5.2379   0.0000      6.0185     13.3653\n",
       "COUNTRY_ENG          580.6998   375.6725   1.5458   0.1255   -165.1044   1326.5039\n",
       "COUNTRY_IND          491.0117    64.2204   7.6457   0.0000    363.5181    618.5053\n",
       "CAPTAINCY EXP_1      373.5330    79.8626   4.6772   0.0000    214.9857    532.0802\n",
       "--------------------------------------------------------------------------------\n",
       "Omnibus:                    0.013             Durbin-Watson:               1.898\n",
       "Prob(Omnibus):              0.994             Jarque-Bera (JB):            0.047\n",
       "Skew:                       -0.016            Prob(JB):                    0.977\n",
       "Kurtosis:                   2.899             Condition No.:               265  \n",
       "================================================================================\n",
       "\n",
       "\"\"\""
      ]
     },
     "execution_count": 118,
     "metadata": {},
     "output_type": "execute_result"
    }
   ],
   "source": [
    "Imodel6 = sm.OLS(Ytrainnewcook, Xtrainnewcook).fit()\n",
    "Imodel6.summary2()"
   ]
  },
  {
   "cell_type": "code",
   "execution_count": null,
   "id": "6af2c229",
   "metadata": {},
   "outputs": [],
   "source": []
  },
  {
   "cell_type": "markdown",
   "id": "050a7306",
   "metadata": {},
   "source": [
    "### Performance Metrics"
   ]
  },
  {
   "cell_type": "code",
   "execution_count": 119,
   "id": "07e4282a",
   "metadata": {},
   "outputs": [],
   "source": [
    "pred_y = np.power(Imodel6.predict(Xtest[Xtrainnewcook.columns]),2)"
   ]
  },
  {
   "cell_type": "code",
   "execution_count": 120,
   "id": "90d41595",
   "metadata": {},
   "outputs": [
    {
     "data": {
      "text/plain": [
       "556273.5268619836"
      ]
     },
     "execution_count": 120,
     "metadata": {},
     "output_type": "execute_result"
    }
   ],
   "source": [
    "np.sqrt(metrics.mean_squared_error(pred_y, Ytest))"
   ]
  },
  {
   "cell_type": "code",
   "execution_count": 121,
   "id": "b24b7030",
   "metadata": {},
   "outputs": [
    {
     "data": {
      "text/plain": [
       "0.4251"
      ]
     },
     "execution_count": 121,
     "metadata": {},
     "output_type": "execute_result"
    }
   ],
   "source": [
    "np.round(metrics.r2_score(pred_y, Ytest),4)"
   ]
  },
  {
   "cell_type": "markdown",
   "id": "22dd440a",
   "metadata": {},
   "source": [
    "The presence of auto-correlation can be established using the Durbin−Watson test. \n",
    "As a thumb rule, a Durbin−Watson statistic close to 2 would\n",
    "imply the absence of autocorrelation. The model summary shows that the\n",
    "Durbin−Watson statistics value is 1.9, which is less than 2; hence it can be concluded \n",
    "that the error terms are not auto-correlated. Note that auto-correlation is more\n",
    "relevant in the case of time-series data.\n"
   ]
  },
  {
   "cell_type": "code",
   "execution_count": null,
   "id": "c124a01a",
   "metadata": {},
   "outputs": [],
   "source": []
  }
 ],
 "metadata": {
  "kernelspec": {
   "display_name": "Python 3",
   "language": "python",
   "name": "python3"
  },
  "language_info": {
   "codemirror_mode": {
    "name": "ipython",
    "version": 3
   },
   "file_extension": ".py",
   "mimetype": "text/x-python",
   "name": "python",
   "nbconvert_exporter": "python",
   "pygments_lexer": "ipython3",
   "version": "3.8.8"
  }
 },
 "nbformat": 4,
 "nbformat_minor": 5
}
